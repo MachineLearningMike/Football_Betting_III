{
 "cells": [
  {
   "cell_type": "code",
   "execution_count": 128,
   "metadata": {},
   "outputs": [],
   "source": [
    "import numpy as np\n",
    "import tensorflow as tf\n",
    "import tensorflow_datasets as tfds\n",
    "import re\n",
    "import os\n",
    "\n",
    "from config import config\n",
    "import data_helpers\n",
    "from data_generator import *\n",
    "\n",
    "import matplotlib.pyplot as plt"
   ]
  },
  {
   "cell_type": "code",
   "execution_count": 129,
   "metadata": {},
   "outputs": [
    {
     "name": "stdout",
     "output_type": "stream",
     "text": [
      "[PhysicalDevice(name='/physical_device:GPU:0', device_type='GPU')]\n"
     ]
    }
   ],
   "source": [
    "print(tf.config.list_physical_devices('GPU'))"
   ]
  },
  {
   "cell_type": "code",
   "execution_count": 130,
   "metadata": {},
   "outputs": [],
   "source": [
    "df = data_helpers.read_large_excel(config['data'], \"contest_total_data\")\n",
    "df = data_helpers.improve_contest_data(df)"
   ]
  },
  {
   "cell_type": "code",
   "execution_count": 131,
   "metadata": {},
   "outputs": [
    {
     "name": "stdout",
     "output_type": "stream",
     "text": [
      "['1', '2', '3', '[UNK]', '333', '[UNK]', '[UNK]', '[UNK]', '1234', '[HOME]', '[AWAY]']\n",
      "[0, 0, 0, 0, 0, 0, 0, 0, 0, 0, 0]\n",
      "[3, 2046, 2921, 0, 3105, 0, 0, 0, 804, 1, 2]\n"
     ]
    },
    {
     "data": {
      "text/plain": [
       "'1 2 3 333 1234'"
      ]
     },
     "execution_count": 131,
     "metadata": {},
     "output_type": "execute_result"
    }
   ],
   "source": [
    "tokenizer_team = creat_team_tokenizer(df)\n",
    "\n",
    "encoding = tokenizer_team.encode(\"1 2 3 what? 333 -5 4)e_t grw0 1234 [HOME] [AWAY]\")\n",
    "# encoding = tokenizer.encode(\"\")\n",
    "print(encoding.tokens)\n",
    "print(encoding.type_ids)\n",
    "print(encoding.ids)\n",
    "\n",
    "tokenizer_team.decode(encoding.ids)"
   ]
  },
  {
   "cell_type": "code",
   "execution_count": 132,
   "metadata": {},
   "outputs": [
    {
     "name": "stdout",
     "output_type": "stream",
     "text": [
      "['argentina', 'italy', '[UNK]', 'france', 'usa', 'canada', '[UNK]', '[UNK]', '[AWAY_COUNTRY]', 'chinese_taipei']\n",
      "[0, 0, 0, 0, 0, 0, 0, 0, 0, 0]\n",
      "[11, 111, 0, 84, 224, 42, 0, 0, 3, 51]\n"
     ]
    },
    {
     "data": {
      "text/plain": [
       "'argentina italy france usa canada chinese_taipei'"
      ]
     },
     "execution_count": 132,
     "metadata": {},
     "output_type": "execute_result"
    }
   ],
   "source": [
    "tokenizer_country = create_country_tokenizer(df)\n",
    "\n",
    "countries = ['Argentina', 'Italy', 'WHAT', 'France', 'USA', 'Canada', '[UNK]', 'Unknown', '[AWAY_COUNTRY]', 'Chinese Taipei']\n",
    "countries = [re.sub(r\"\\s\", \"_\", item) for item in countries]\n",
    "countries = \" \".join(countries)\n",
    "encoding = tokenizer_country.encode(countries)\n",
    "# encoding = tokenizer.encode(\"\")\n",
    "print(encoding.tokens)\n",
    "print(encoding.type_ids)\n",
    "print(encoding.ids)\n",
    "\n",
    "tokenizer_country.decode(encoding.ids)"
   ]
  },
  {
   "cell_type": "code",
   "execution_count": 133,
   "metadata": {},
   "outputs": [
    {
     "data": {
      "text/plain": [
       "Text(0.5, 1.0, 'Max length of ids: 15')"
      ]
     },
     "execution_count": 133,
     "metadata": {},
     "output_type": "execute_result"
    },
    {
     "data": {
      "image/png": "[encoded data removed]",
      "text/plain": [
       "<Figure size 640x480 with 1 Axes>"
      ]
     },
     "metadata": {},
     "output_type": "display_data"
    }
   ],
   "source": [
    "# id_to_ids_filename = 'ids-5.0-0.1-12.0-0.9-0.8-120-0.00001-7.0-32601-134'\n",
    "# id_to_ids_filename = 'ids-5.0-0.01-15.0-0.9-0.8-130-0.000005-22.28-32601-140'\n",
    "id_to_ids_filename = 'ids-5.0-0.01-15.0-0.9-0.8-10-0.000005-26.64-32601-15'\n",
    "# id_to_ids_filename = 'ids-5.0-0.1-5.0-0.9-0.8-30-0.0001-9.98-32601-41'\n",
    "\n",
    "(bookie_profit_percent, a_conductance_search, b_conductance_search, conductance365, \n",
    "        conductanceMedTeam, ids_max, minConductanceStep, hours, nDataPoints, maxLen) \\\n",
    "= data_helpers.filename_to_dataParams(id_to_ids_filename)\n",
    "path = os.path.join('./data', 'id_to_ids', id_to_ids_filename + '.json')\n",
    "fixture_id_to_ids = data_helpers.LoadJsonData(path)\n",
    "\n",
    "lengths = [len(ids) for ids in fixture_id_to_ids.values()]\n",
    "plt.hist(lengths, np.linspace(0, 200, 101))\n",
    "plt.ylim(plt.ylim())\n",
    "maxLen = max(lengths)\n",
    "plt.plot([maxLen, maxLen], plt.ylim())\n",
    "plt.title(f'Max length of ids: {maxLen}')"
   ]
  },
  {
   "cell_type": "code",
   "execution_count": 134,
   "metadata": {},
   "outputs": [],
   "source": [
    "def generate_dataset(df, fixture_id_to_ids, tokenizer_team, tokenizer_country):\n",
    "\n",
    "    BBAB_cols = [\n",
    "        'teams_home_team_id', 'teams_away_team_id',                     # 0, 1\n",
    "        'fixture_date',                                                 # 2,\n",
    "        'league_country', 'home_team_country', 'away_team_country',     # 3, 4, 5\n",
    "        'winning_percent_home', 'winning_percent_draws', 'winning_percent_away',  # 6, 7, 8\n",
    "        'outcome'                                                       # 9\n",
    "    ]\n",
    "    len_normal_bbab = len(BBAB_cols)\n",
    "\n",
    "    dummy_wining_percent = (80, 10, 10)         \n",
    "    dummy_odds = [\n",
    "        data_helpers.get_odds(dummy_wining_percent[0]/100, config['bookie_profit_percent']),\n",
    "        data_helpers.get_odds(dummy_wining_percent[1]/100, config['bookie_profit_percent']),\n",
    "        data_helpers.get_odds(dummy_wining_percent[2]/100, config['bookie_profit_percent']),\n",
    "    ]\n",
    "    dummy_bbab = \\\n",
    "        tokenizer_team.encode('[HOME] [AWAY]').ids \\\n",
    "        + [0] \\\n",
    "        + tokenizer_country.encode('[LEAGUE_COUNTRY] [HOME_COUNTRY] [AWAY_COUNTRY]').ids \\\n",
    "        + dummy_odds \\\n",
    "        + [1]\n",
    "    dummy_bbab = tf.constant(dummy_bbab, dtype=tf.float32)\n",
    "    \n",
    "    def normalize_raw_bbab(bbab):\n",
    "        pair_str = [str(team) for team in bbab[0:2]]\n",
    "        pair_text = \" \".join(pair_str)\n",
    "        pair_tokens = tokenizer_team.encode(pair_text).ids\n",
    "        bbab[0:2] = pair_tokens\n",
    "\n",
    "        bbab[2] = (bbab[2].to_pydatetime() - config['baseDate']).days\n",
    "        \n",
    "        for idx in (6, 7, 8):\n",
    "                bbab[idx] = data_helpers.get_odds(bbab[idx]/100, config['bookie_profit_percent'])\n",
    "        countries_str = [re.sub(r\"\\s\", \"_\", item) for item in bbab[3:6]]\n",
    "        countries_text = \" \".join(countries_str)\n",
    "        countries_tokens = tokenizer_country.encode(countries_text).ids\n",
    "        bbab[3:6] = countries_tokens\n",
    "        # print(bbab)  \n",
    "        return bbab\n",
    "\n",
    "\n",
    "    def get_base_and_sequence(df, baseId, ids):\n",
    "        try:\n",
    "            base_bbab = list(df.loc[df['fixture_id'] == baseId, BBAB_cols].iloc[0])\n",
    "            base_bbab = normalize_raw_bbab(base_bbab)\n",
    "            base_bbab = np.array(base_bbab, dtype=np.float32)\n",
    "\n",
    "            sequence = np.array([[]] * len_normal_bbab).T  # shape: (0, len_normal_bbab)\n",
    "            for id in ids:\n",
    "                bbab = list(df.loc[df['fixture_id'] == id, BBAB_cols].iloc[0])\n",
    "                bbab = normalize_raw_bbab(bbab)\n",
    "                sequence = np.append(sequence, [bbab], axis=0)\n",
    "\n",
    "            return (baseId, base_bbab, sequence)\n",
    "        except:\n",
    "            raise Exception(\"Failed to get_BBAB for baseId = {}\".format(baseId))    \n",
    "        \n",
    "\n",
    "    def generator():    \n",
    "        for baseId, ids in fixture_id_to_ids.items():\n",
    "            print(baseId, ids, end='\\r')\n",
    "            base_and_sequence = get_base_and_sequence(df, int(baseId), ids)\n",
    "            # print(base_and_sequence)\n",
    "\n",
    "            yield base_and_sequence\n",
    "\n",
    "    ds = tf.data.Dataset.from_generator(\n",
    "        generator,\n",
    "        output_types=(tf.int32, tf.float32, tf.float32),\n",
    "        output_shapes=(tf.TensorShape(()), tf.TensorShape((len_normal_bbab,)), tf.TensorShape((None, len_normal_bbab))),\n",
    "        args=()\n",
    "    )\n",
    "\n",
    "    return ds"
   ]
  },
  {
   "cell_type": "code",
   "execution_count": 135,
   "metadata": {},
   "outputs": [
    {
     "name": "stdout",
     "output_type": "stream",
     "text": [
      "165372 [232979, 165371, 167029, 165368, 167027, 165365, 165362, 165361, 167019, 165355, 167016] 112382]\r"
     ]
    },
    {
     "ename": "KeyboardInterrupt",
     "evalue": "",
     "output_type": "error",
     "traceback": [
      "\u001b[1;31m---------------------------------------------------------------------------\u001b[0m",
      "\u001b[1;31mKeyboardInterrupt\u001b[0m                         Traceback (most recent call last)",
      "\u001b[1;32m~\\AppData\\Local\\Temp\\ipykernel_21248\\3323271799.py\u001b[0m in \u001b[0;36m<module>\u001b[1;34m\u001b[0m\n\u001b[0;32m      2\u001b[0m \u001b[1;33m\u001b[0m\u001b[0m\n\u001b[0;32m      3\u001b[0m \u001b[0mds\u001b[0m \u001b[1;33m=\u001b[0m \u001b[0mgenerate_dataset\u001b[0m\u001b[1;33m(\u001b[0m\u001b[0mdf\u001b[0m\u001b[1;33m,\u001b[0m \u001b[0mfixture_id_to_ids\u001b[0m\u001b[1;33m,\u001b[0m \u001b[0mtokenizer_team\u001b[0m\u001b[1;33m,\u001b[0m \u001b[0mtokenizer_country\u001b[0m\u001b[1;33m)\u001b[0m\u001b[1;33m\u001b[0m\u001b[1;33m\u001b[0m\u001b[0m\n\u001b[1;32m----> 4\u001b[1;33m \u001b[1;32mfor\u001b[0m \u001b[0mitem\u001b[0m \u001b[1;32min\u001b[0m \u001b[0mds\u001b[0m\u001b[1;33m:\u001b[0m\u001b[1;33m\u001b[0m\u001b[1;33m\u001b[0m\u001b[0m\n\u001b[0m\u001b[0;32m      5\u001b[0m     \u001b[1;31m# print(item[0].shape, item[1].shape, item[2].shape)\u001b[0m\u001b[1;33m\u001b[0m\u001b[1;33m\u001b[0m\u001b[0m\n\u001b[0;32m      6\u001b[0m     \u001b[1;32mpass\u001b[0m\u001b[1;33m\u001b[0m\u001b[1;33m\u001b[0m\u001b[0m\n",
      "\u001b[1;32mc:\\Users\\Mike\\anaconda3\\lib\\site-packages\\tensorflow\\python\\data\\ops\\iterator_ops.py\u001b[0m in \u001b[0;36m__next__\u001b[1;34m(self)\u001b[0m\n\u001b[0;32m    764\u001b[0m   \u001b[1;32mdef\u001b[0m \u001b[0m__next__\u001b[0m\u001b[1;33m(\u001b[0m\u001b[0mself\u001b[0m\u001b[1;33m)\u001b[0m\u001b[1;33m:\u001b[0m\u001b[1;33m\u001b[0m\u001b[1;33m\u001b[0m\u001b[0m\n\u001b[0;32m    765\u001b[0m     \u001b[1;32mtry\u001b[0m\u001b[1;33m:\u001b[0m\u001b[1;33m\u001b[0m\u001b[1;33m\u001b[0m\u001b[0m\n\u001b[1;32m--> 766\u001b[1;33m       \u001b[1;32mreturn\u001b[0m \u001b[0mself\u001b[0m\u001b[1;33m.\u001b[0m\u001b[0m_next_internal\u001b[0m\u001b[1;33m(\u001b[0m\u001b[1;33m)\u001b[0m\u001b[1;33m\u001b[0m\u001b[1;33m\u001b[0m\u001b[0m\n\u001b[0m\u001b[0;32m    767\u001b[0m     \u001b[1;32mexcept\u001b[0m \u001b[0merrors\u001b[0m\u001b[1;33m.\u001b[0m\u001b[0mOutOfRangeError\u001b[0m\u001b[1;33m:\u001b[0m\u001b[1;33m\u001b[0m\u001b[1;33m\u001b[0m\u001b[0m\n\u001b[0;32m    768\u001b[0m       \u001b[1;32mraise\u001b[0m \u001b[0mStopIteration\u001b[0m\u001b[1;33m\u001b[0m\u001b[1;33m\u001b[0m\u001b[0m\n",
      "\u001b[1;32mc:\\Users\\Mike\\anaconda3\\lib\\site-packages\\tensorflow\\python\\data\\ops\\iterator_ops.py\u001b[0m in \u001b[0;36m_next_internal\u001b[1;34m(self)\u001b[0m\n\u001b[0;32m    747\u001b[0m     \u001b[1;31m# to communicate that there is no more data to iterate over.\u001b[0m\u001b[1;33m\u001b[0m\u001b[1;33m\u001b[0m\u001b[0m\n\u001b[0;32m    748\u001b[0m     \u001b[1;32mwith\u001b[0m \u001b[0mcontext\u001b[0m\u001b[1;33m.\u001b[0m\u001b[0mexecution_mode\u001b[0m\u001b[1;33m(\u001b[0m\u001b[0mcontext\u001b[0m\u001b[1;33m.\u001b[0m\u001b[0mSYNC\u001b[0m\u001b[1;33m)\u001b[0m\u001b[1;33m:\u001b[0m\u001b[1;33m\u001b[0m\u001b[1;33m\u001b[0m\u001b[0m\n\u001b[1;32m--> 749\u001b[1;33m       ret = gen_dataset_ops.iterator_get_next(\n\u001b[0m\u001b[0;32m    750\u001b[0m           \u001b[0mself\u001b[0m\u001b[1;33m.\u001b[0m\u001b[0m_iterator_resource\u001b[0m\u001b[1;33m,\u001b[0m\u001b[1;33m\u001b[0m\u001b[1;33m\u001b[0m\u001b[0m\n\u001b[0;32m    751\u001b[0m           \u001b[0moutput_types\u001b[0m\u001b[1;33m=\u001b[0m\u001b[0mself\u001b[0m\u001b[1;33m.\u001b[0m\u001b[0m_flat_output_types\u001b[0m\u001b[1;33m,\u001b[0m\u001b[1;33m\u001b[0m\u001b[1;33m\u001b[0m\u001b[0m\n",
      "\u001b[1;32mc:\\Users\\Mike\\anaconda3\\lib\\site-packages\\tensorflow\\python\\ops\\gen_dataset_ops.py\u001b[0m in \u001b[0;36miterator_get_next\u001b[1;34m(iterator, output_types, output_shapes, name)\u001b[0m\n\u001b[0;32m   3009\u001b[0m   \u001b[1;32mif\u001b[0m \u001b[0mtld\u001b[0m\u001b[1;33m.\u001b[0m\u001b[0mis_eager\u001b[0m\u001b[1;33m:\u001b[0m\u001b[1;33m\u001b[0m\u001b[1;33m\u001b[0m\u001b[0m\n\u001b[0;32m   3010\u001b[0m     \u001b[1;32mtry\u001b[0m\u001b[1;33m:\u001b[0m\u001b[1;33m\u001b[0m\u001b[1;33m\u001b[0m\u001b[0m\n\u001b[1;32m-> 3011\u001b[1;33m       _result = pywrap_tfe.TFE_Py_FastPathExecute(\n\u001b[0m\u001b[0;32m   3012\u001b[0m         \u001b[0m_ctx\u001b[0m\u001b[1;33m,\u001b[0m \u001b[1;34m\"IteratorGetNext\"\u001b[0m\u001b[1;33m,\u001b[0m \u001b[0mname\u001b[0m\u001b[1;33m,\u001b[0m \u001b[0miterator\u001b[0m\u001b[1;33m,\u001b[0m \u001b[1;34m\"output_types\"\u001b[0m\u001b[1;33m,\u001b[0m \u001b[0moutput_types\u001b[0m\u001b[1;33m,\u001b[0m\u001b[1;33m\u001b[0m\u001b[1;33m\u001b[0m\u001b[0m\n\u001b[0;32m   3013\u001b[0m         \"output_shapes\", output_shapes)\n",
      "\u001b[1;31mKeyboardInterrupt\u001b[0m: "
     ]
    }
   ],
   "source": [
    "ds_path = os.path.join('./data', 'datasets', id_to_ids_filename)\n",
    "\n",
    "ds = generate_dataset(df, fixture_id_to_ids, tokenizer_team, tokenizer_country)\n",
    "for item in ds:\n",
    "    # print(item[0].shape, item[1].shape, item[2].shape)\n",
    "    pass\n",
    "# tf.data.Dataset.save(ds, ds_path)\n",
    "\n",
    "# ds = tf.data.Dataset.load(ds_path)"
   ]
  },
  {
   "cell_type": "code",
   "execution_count": null,
   "metadata": {},
   "outputs": [],
   "source": [
    "# for item in ds:\n",
    "#     interprete_dataset_item(item, tokenizer_team, tokenizer_country, fixture_id_to_ids, df)"
   ]
  },
  {
   "cell_type": "code",
   "execution_count": null,
   "metadata": {},
   "outputs": [],
   "source": [
    "dataset_size = len(ds)\n",
    "train_size = int(0.85 * dataset_size)\n",
    "test_size = dataset_size - train_size\n",
    "\n",
    "train_ds = ds.take(train_size)\n",
    "test_ds = ds.skip(train_size)\n",
    "\n",
    "print(len(train_ds), len(test_ds), len(ds), len(ds)-len(train_ds)-len(test_ds))"
   ]
  },
  {
   "cell_type": "code",
   "execution_count": null,
   "metadata": {},
   "outputs": [],
   "source": [
    "MAX_TOKENS=15\n",
    "def prepare_batch(sequence, base):\n",
    "    # (None,) (None, 12) (None, None, 12)\n",
    "    # sequence = sequence.to_tensor()\n",
    "    # pt = tokenizers.pt.tokenize(pt)      # Output is ragged.\n",
    "    # pt = pt[:, :MAX_TOKENS]    # Trim to MAX_TOKENS.\n",
    "    # pt = pt.to_tensor()  # Convert from ragged to 0-padded dense Tensor\n",
    "    # en = tokenizers.en.tokenize(en)\n",
    "    # en = en[:, :(MAX_TOKENS+1)]\n",
    "    # en_inputs = en[:, :-1].to_tensor()  # Drop the [END] tokens\n",
    "    # en_labels = en[:, 1:].to_tensor()   # Drop the [START] tokens\n",
    "    # return (pt, en_inputs), en_labels\n",
    "    print(sequence.shape, base.shape)\n",
    "    return (sequence, base)"
   ]
  },
  {
   "cell_type": "code",
   "execution_count": null,
   "metadata": {},
   "outputs": [],
   "source": [
    "BUFFER_SIZE = 20000\n",
    "BATCH_SIZE = 64"
   ]
  },
  {
   "cell_type": "code",
   "execution_count": null,
   "metadata": {},
   "outputs": [],
   "source": [
    "def normalize_row(baseId, base, sequence):\n",
    "    # shape: () (12,) (None, 12)\n",
    "    # print(tf.shape(baseId), tf.shape(base), tf.shape(sequence))\n",
    "    # print(baseId.shape, base.shape, sequence.shape)\n",
    "    elem = tf.constant([0,1,2,3,4,5,6,7,8,9,0,11], dtype=tf.float32)\n",
    "    block = tf.stack([elem] * MAX_TOKENS-tf.shape(sequence)[0], axis=0)\n",
    "    paddings = [[0, MAX_TOKENS-tf.shape(sequence)[0]], [0, 0]]\n",
    "    constant = -1 #sequence[0]\n",
    "    # sequence = tf.pad(sequence, paddings, 'CONSTANT', constant_values=constant)\n",
    "    sequence = tf.cast(sequence, dtype=tf.float32)\n",
    "    sequence = tf.concat([sequence, elem], axis=0)\n",
    "    print(sequence.shape)\n",
    "    return (sequence, base)"
   ]
  },
  {
   "cell_type": "code",
   "execution_count": null,
   "metadata": {},
   "outputs": [],
   "source": [
    "def make_batches(ds):\n",
    "    return (\n",
    "        ds\n",
    "        .map(normalize_row, tf.data.AUTOTUNE)   # returns sequence, base\n",
    "        # .shuffle(BUFFER_SIZE)\n",
    "        # .batch(BATCH_SIZE)\n",
    "        # .map(prepare_batch, tf.data.AUTOTUNE)\n",
    "        # .cache()\n",
    "        # .prefetch(buffer_size=tf.data.AUTOTUNE)\n",
    "        )"
   ]
  },
  {
   "cell_type": "code",
   "execution_count": null,
   "metadata": {},
   "outputs": [],
   "source": [
    "train_batches = make_batches(train_ds)\n",
    "test_batches = make_batches(test_ds)"
   ]
  },
  {
   "cell_type": "code",
   "execution_count": null,
   "metadata": {},
   "outputs": [],
   "source": [
    "for elem in train_batches:\n",
    "    pass"
   ]
  },
  {
   "cell_type": "code",
   "execution_count": null,
   "metadata": {},
   "outputs": [],
   "source": [
    "def interprete_BB_AB(bbab, tokenizer_team, tokenizer_country):\n",
    "    pair_string = tokenizer_team.decode(np.array(bbab[0:2], dtype=np.int32))\n",
    "    days = bbab[2]\n",
    "    date = config['baseDate'] + datetime.timedelta(days=int(days))\n",
    "    country_string = tokenizer_country.decode(np.array(bbab[3:6], dtype=np.int32))\n",
    "    odds = bbab[6:9]\n",
    "    wp = tuple(data_helpers.get_probability(odds, config['bookie_profit_percent'])*100)\n",
    "    winning_percent = (round(wp[0]), round(wp[1]), round(wp[2]))\n",
    "    outcome = tuple(np.array(bbab[9:12], dtype=np.int32))\n",
    "    # print(\"outcome\", outcome)\n",
    "    outcome = 0 if outcome == (1, 0, 0) else 1 if outcome == (0, 1, 0) else 2\n",
    "    return pair_string, date, country_string, winning_percent, outcome\n",
    "\n",
    "def interprete_dataset_item(item, tokenizer_team, tokenizer_country, id_to_ids, df):\n",
    "    baseId = item[0].numpy()\n",
    "    baseOutput = item[1].numpy()\n",
    "    print(baseOutput)\n",
    "    sequence = item[2].numpy()\n",
    "    print(sequence)\n",
    "\n",
    "    print(\"baseId: \", baseId)\n",
    "    print(\"baseOutput: \", interprete_BB_AB(baseOutput, tokenizer_team, tokenizer_country))\n",
    "\n",
    "    ids = id_to_ids[str(baseId)]\n",
    "    for i in range(sequence.shape[0]):\n",
    "        id = ids[i] if len(ids) > 0 else 0\n",
    "        print(\"sequence {}, {}\".format(i, id), interprete_BB_AB(sequence[i], tokenizer_team, tokenizer_country))\n"
   ]
  }
 ],
 "metadata": {
  "kernelspec": {
   "display_name": "base",
   "language": "python",
   "name": "python3"
  },
  "language_info": {
   "codemirror_mode": {
    "name": "ipython",
    "version": 3
   },
   "file_extension": ".py",
   "mimetype": "text/x-python",
   "name": "python",
   "nbconvert_exporter": "python",
   "pygments_lexer": "ipython3",
   "version": "3.9.13"
  }
 },
 "nbformat": 4,
 "nbformat_minor": 2
}
