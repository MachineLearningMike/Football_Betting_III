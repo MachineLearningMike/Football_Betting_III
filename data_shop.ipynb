{
 "cells": [
  {
   "cell_type": "code",
   "execution_count": null,
   "metadata": {},
   "outputs": [
    {
     "name": "stdout",
     "output_type": "stream",
     "text": [
      "<tf.Variable 'Variable:0' shape=() dtype=float32, numpy=0.5>\n",
      "0.5\n",
      "0.5\n",
      "0.7\n"
     ]
    }
   ],
   "source": [
    "import tensorflow as tf\n",
    "\n",
    "x = tf.Variable(0.5, dtype=tf.float32)\n",
    "print(x)\n",
    "print(float(x))\n",
    "print(x.numpy())\n",
    "assert x.numpy() == float(x)\n",
    "y = 0.7\n",
    "print(float(y))"
   ]
  },
  {
   "cell_type": "code",
   "execution_count": 11,
   "metadata": {},
   "outputs": [
    {
     "name": "stdout",
     "output_type": "stream",
     "text": [
      "1 3\n",
      "2 4\n"
     ]
    }
   ],
   "source": [
    "a = [1, 2]; b = [3, 4]\n",
    "c = list(zip(a, b))\n",
    "for (p, q) in list(c):\n",
    "    print(p, q)"
   ]
  },
  {
   "cell_type": "code",
   "execution_count": null,
   "metadata": {},
   "outputs": [
    {
     "name": "stdout",
     "output_type": "stream",
     "text": [
      "[1]\n",
      "name error\n"
     ]
    }
   ],
   "source": [
    "def fun(x):\n",
    "    print(\"fun\")\n",
    "    print(x)\n",
    "a = [1]\n",
    "print(a)\n",
    "del a\n",
    "\n",
    "try: a \n",
    "except NameError:\n",
    "    print('name error')\n",
    "else:\n",
    "    print('not name error')\n"
   ]
  },
  {
   "cell_type": "code",
   "execution_count": null,
   "metadata": {},
   "outputs": [],
   "source": [
    "import tensorflow as tf\n",
    "import numpy as np\n",
    "\n",
    "class recall():\n",
    "  def __init__(self, **kwargs):\n",
    "    self.n = None\n",
    "    self.recall = None\n",
    "    self.reset()\n",
    "\n",
    "  def update(self, label, pred):    # (batch,)\n",
    "    label = tf.cast(label, dtype=tf.float32)\n",
    "    pred = tf.cast(pred, dtype=tf.float32)\n",
    "    hit_positives = tf.math.reduce_sum(label * pred, axis=None)\n",
    "    labeled_positives = tf.math.reduce_sum(label, axis=None)\n",
    "    recall = hit_positives / (labeled_positives + 1e-9) #tf.keras.backend.epsilon())\n",
    "    self.n += 1\n",
    "    self.recall = self.recall * (self.n-1)/self.n + recall / self.n\n",
    "\n",
    "  def result(self):\n",
    "    return self.recall\n",
    "  \n",
    "  def reset(self):\n",
    "    self.n = 0\n",
    "    self.recall = tf.Variable(0.0, dtype=tf.float32)\n",
    "  \n",
    "recall_object = recall(min_seq_len=5)\n",
    "\n",
    "class precision():\n",
    "  def __init__(self, **kwargs):\n",
    "    self.n = None\n",
    "    self.precision = None\n",
    "    self.reset()\n",
    "\n",
    "  def update(self, label, pred):\n",
    "    label = tf.cast(label, dtype=tf.float32)\n",
    "    pred = tf.cast(pred, dtype=tf.float32)\n",
    "    hit_positives = tf.math.reduce_sum(label * pred, axis=None)\n",
    "    predicted_positives = tf.math.reduce_sum(pred, axis=None)\n",
    "    precision = hit_positives / (predicted_positives + 1e-9) #tf.keras.backend.epsilon())\n",
    "    self.n += 1\n",
    "    self.precision = self.precision * (self.n-1)/self.n + precision / self.n\n",
    "\n",
    "  def result(self):\n",
    "    return self.precision\n",
    "  \n",
    "  def reset(self):\n",
    "    self.n = 0\n",
    "    self.precision = tf.Variable(0.0, dtype=tf.float32)\n",
    "\n",
    "precision_object = precision(min_seq_len=5)"
   ]
  },
  {
   "cell_type": "code",
   "execution_count": 8,
   "metadata": {},
   "outputs": [
    {
     "name": "stdout",
     "output_type": "stream",
     "text": [
      "tf.Tensor(0.33333334, shape=(), dtype=float32)\n",
      "tf.Tensor(0.5, shape=(), dtype=float32)\n"
     ]
    }
   ],
   "source": [
    "label = tf.Variable([1, 1, 1, 0])\n",
    "pred = tf.Variable([0, 0, 1, 1])\n",
    "\n",
    "recall_object.reset()\n",
    "recall_object.update(label, pred)\n",
    "recall_object.update(label, pred)\n",
    "print(recall_object.result())\n",
    "\n",
    "precision_object.reset()\n",
    "precision_object.update(label, pred)\n",
    "precision_object.update(label, pred)\n",
    "print(precision_object.result())"
   ]
  },
  {
   "cell_type": "code",
   "execution_count": null,
   "metadata": {},
   "outputs": [
    {
     "name": "stdout",
     "output_type": "stream",
     "text": [
      "(2, 5, 8)\n",
      "tf.Tensor(\n",
      "[[[0. 0. 0. 0. 0. 0. 0. 0.]\n",
      "  [0. 0. 0. 0. 0. 0. 0. 0.]\n",
      "  [0. 0. 0. 0. 0. 0. 0. 0.]\n",
      "  [0. 0. 0. 0. 0. 0. 0. 0.]\n",
      "  [1. 1. 1. 1. 1. 1. 1. 1.]]\n",
      "\n",
      " [[0. 0. 0. 0. 0. 0. 0. 0.]\n",
      "  [0. 0. 0. 0. 0. 0. 0. 0.]\n",
      "  [0. 0. 0. 0. 0. 0. 0. 0.]\n",
      "  [0. 0. 0. 0. 0. 0. 0. 0.]\n",
      "  [1. 1. 1. 1. 1. 1. 1. 1.]]], shape=(2, 5, 8), dtype=float32)\n"
     ]
    }
   ],
   "source": [
    "import tensorflow as tf\n",
    "\n",
    "a = tf.zeros((10,4,8))\n",
    "b = tf.ones((10,1,8))\n",
    "\n",
    "d1 = tf.data.Dataset.from_tensor_slices(a)\n",
    "d1 = d1.batch(2,drop_remainder=False)      # elements shape (16,4,8)\n",
    "\n",
    "d2 = tf.data.Dataset.from_tensor_slices(b)\n",
    "d2 = d2.batch(2,drop_remainder=False)      # elements shape (16,1,8)\n",
    "\n",
    "d = tf.data.Dataset.zip((d1,d2))\n",
    "d = d.map(lambda x,y:tf.concat([x,y],axis=-2)) # elements shape (16,4+1,8)\n",
    "\n",
    "it = iter(d)\n",
    "x = next(it)\n",
    "\n",
    "print(x.shape)\n",
    "print(x)\n",
    ")"
   ]
  },
  {
   "cell_type": "code",
   "execution_count": 1,
   "metadata": {},
   "outputs": [],
   "source": [
    "\n",
    "import tensorflow as tf\n",
    "import numpy as np"
   ]
  },
  {
   "cell_type": "code",
   "execution_count": 2,
   "metadata": {},
   "outputs": [
    {
     "name": "stdout",
     "output_type": "stream",
     "text": [
      "tf.Tensor(\n",
      "[[False False False]\n",
      " [False  True  True]], shape=(2, 3), dtype=bool)\n",
      "tf.Tensor([5 6], shape=(2,), dtype=int32)\n",
      "tf.Tensor(\n",
      "[[1 1]\n",
      " [1 2]], shape=(2, 2), dtype=int64)\n",
      "tf.Tensor(\n",
      "[[1 2 3]\n",
      " [4 5 6]], shape=(2, 3), dtype=int32)\n"
     ]
    }
   ],
   "source": [
    "profit = tf.Variable([[1,2,3], [4,5,6]], dtype=tf.int32)\n",
    "print(profit > 4)\n",
    "print(profit[profit>4])\n",
    "print(tf.where(profit>4))\n",
    "print(tf.where(profit>4, profit, profit))"
   ]
  },
  {
   "cell_type": "code",
   "execution_count": 3,
   "metadata": {},
   "outputs": [
    {
     "data": {
      "text/plain": [
       "<tf.Tensor: shape=(0, 2), dtype=float32, numpy=array([], shape=(0, 2), dtype=float32)>"
      ]
     },
     "execution_count": 3,
     "metadata": {},
     "output_type": "execute_result"
    }
   ],
   "source": [
    "tf.zeros((0,2))"
   ]
  },
  {
   "cell_type": "code",
   "execution_count": 8,
   "metadata": {},
   "outputs": [
    {
     "name": "stdout",
     "output_type": "stream",
     "text": [
      "[]\n",
      "tf.Tensor([], shape=(0, 2), dtype=int64)\n",
      "tf.Tensor([], shape=(0,), dtype=float32)\n",
      "tf.Tensor(\n",
      "[[1 2]\n",
      " [3 4]\n",
      " [5 6]], shape=(3, 2), dtype=int64)\n",
      "tf.Tensor([5. 6. 7.], shape=(3,), dtype=float32)\n",
      "[5.0, 6.0, 7.0]\n"
     ]
    }
   ],
   "source": [
    "indices = tf.zeros((0,2), dtype=tf.int64)\n",
    "print([list(id) for id in indices.numpy()])\n",
    "profits = tf.zeros((0,), dtype=tf.float32)\n",
    "print(indices)\n",
    "print(profits)\n",
    "new_indices = tf.Variable([[1,2], [3,4], [5,6]], dtype=tf.int64)\n",
    "indices = tf.concat([indices, new_indices], axis=0)\n",
    "print(indices)\n",
    "new_profits = tf.Variable([5,6,7], dtype=tf.float32)\n",
    "profits = tf.concat([profits, new_profits], axis=0)\n",
    "print(profits)\n",
    "print(list(profits.numpy()))"
   ]
  },
  {
   "cell_type": "code",
   "execution_count": 9,
   "metadata": {},
   "outputs": [
    {
     "name": "stdout",
     "output_type": "stream",
     "text": [
      "[[1, 2], [3, 4], [5, 6]]\n",
      "[5.0, 6.0, 7.0]\n",
      "[(1, 2, 5.0), (3, 4, 6.0), (5, 6, 7.0)]\n"
     ]
    }
   ],
   "source": [
    "indices = [list(id) for id in indices.numpy()]\n",
    "print(indices)\n",
    "profits = list(profits.numpy())\n",
    "print(profits)\n",
    "backtest = [(bookie, gameId, profit) for [bookie, gameId], profit in zip(indices, profits)]\n",
    "print(backtest)"
   ]
  }
 ],
 "metadata": {
  "kernelspec": {
   "display_name": "base",
   "language": "python",
   "name": "python3"
  },
  "language_info": {
   "codemirror_mode": {
    "name": "ipython",
    "version": 3
   },
   "file_extension": ".py",
   "mimetype": "text/x-python",
   "name": "python",
   "nbconvert_exporter": "python",
   "pygments_lexer": "ipython3",
   "version": "3.9.13"
  }
 },
 "nbformat": 4,
 "nbformat_minor": 2
}
