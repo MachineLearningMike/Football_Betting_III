{
 "cells": [
  {
   "cell_type": "code",
   "execution_count": 1,
   "metadata": {},
   "outputs": [],
   "source": [
    "import os\n",
    "import data_helpers"
   ]
  },
  {
   "cell_type": "code",
   "execution_count": 76,
   "metadata": {},
   "outputs": [],
   "source": [
    "CountryThemeFolderPath = \"./data/football-data-co-uk/\" + 'England'\n",
    "os.makedirs(CountryThemeFolderPath, exist_ok=True)\n",
    "id_map_foler_path = os.path.join(CountryThemeFolderPath, '_id_to_ids')\n",
    "os.makedirs(id_map_foler_path, exist_ok=True)\n",
    "dataset_foler_path = os.path.join(CountryThemeFolderPath, '_dataaset')\n",
    "os.makedirs(dataset_foler_path, exist_ok=True)\n",
    "checkpoint_folder_path = os.path.join(CountryThemeFolderPath, '_checkpoint')\n",
    "os.makedirs(checkpoint_folder_path, exist_ok=True)\n",
    "tokenizer_folder_path =  os.path.join(CountryThemeFolderPath, '_tokenizer')\n",
    "os.makedirs(tokenizer_folder_path, exist_ok=True)"
   ]
  },
  {
   "cell_type": "code",
   "execution_count": null,
   "metadata": {},
   "outputs": [],
   "source": [
    "def assign_seasonal_filenames(dirPath):\n",
    "    files = []\n",
    "    for (dirpath, dirnames, files) in os.walk(dirPath):     # Make sure the .csv files are renamed .xlsx.\n",
    "        for filename in files:\n",
    "            splits = filename.split('-'); splits[1] = '05Y'\n",
    "            newFileName = \"-\".join(splits)\n",
    "            print(newFileName)\n",
    "            filePath = os.path.join(dirpath, filename)\n",
    "            newfilePath = os.path.join(dirpath, newFileName)\n",
    "            # print(filePath, newfilePath)\n",
    "            os.rename(filePath, newfilePath)\n",
    "    return\n"
   ]
  },
  {
   "cell_type": "code",
   "execution_count": null,
   "metadata": {},
   "outputs": [],
   "source": [
    "import shutil\n",
    "\n",
    "def copy_idMap_and_change_note(sourcePath, destPath, destNote):\n",
    "    files = []\n",
    "    for (dirpath, dirnames, files) in os.walk(sourcePath):     # Make sure the .csv files are renamed .xlsx.\n",
    "        for filename in files:\n",
    "            splits = filename.split('-'); splits[3] = destNote\n",
    "            newFileName = \"-\".join(splits)\n",
    "            print(newFileName)\n",
    "            filePath = os.path.join(sourcePath, filename)\n",
    "            newfilePath = os.path.join(destPath, newFileName)\n",
    "            shutil.copy(filePath, newfilePath)\n",
    "    return"
   ]
  },
  {
   "cell_type": "code",
   "execution_count": 1,
   "metadata": {},
   "outputs": [
    {
     "data": {
      "text/plain": [
       "<tf.Tensor: shape=(2, 3), dtype=float32, numpy=\n",
       "array([[0., 1., 0.],\n",
       "       [0., 0., 1.]], dtype=float32)>"
      ]
     },
     "execution_count": 1,
     "metadata": {},
     "output_type": "execute_result"
    }
   ],
   "source": [
    "import tensorflow as tf\n",
    "stake_p = tf.Variable([[1,3,2], [3,2,4]], dtype=tf.float32)\n",
    "tf.squeeze(tf.one_hot(tf.nn.top_k(stake_p).indices, tf.shape(stake_p)[-1]), axis=1)"
   ]
  },
  {
   "cell_type": "code",
   "execution_count": 2,
   "metadata": {},
   "outputs": [
    {
     "data": {
      "text/plain": [
       "TopKV2(values=<tf.Tensor: shape=(2, 1), dtype=float32, numpy=\n",
       "array([[3.],\n",
       "       [4.]], dtype=float32)>, indices=<tf.Tensor: shape=(2, 1), dtype=int32, numpy=\n",
       "array([[1],\n",
       "       [2]])>)"
      ]
     },
     "execution_count": 2,
     "metadata": {},
     "output_type": "execute_result"
    }
   ],
   "source": [
    "tf.nn.top_k(stake_p)"
   ]
  },
  {
   "cell_type": "code",
   "execution_count": 3,
   "metadata": {},
   "outputs": [
    {
     "data": {
      "text/plain": [
       "<tf.Tensor: shape=(2, 1, 3), dtype=float32, numpy=\n",
       "array([[[0., 1., 0.]],\n",
       "\n",
       "       [[0., 0., 1.]]], dtype=float32)>"
      ]
     },
     "execution_count": 3,
     "metadata": {},
     "output_type": "execute_result"
    }
   ],
   "source": [
    "tf.one_hot(tf.nn.top_k(stake_p).indices, tf.shape(stake_p)[-1])"
   ]
  },
  {
   "cell_type": "code",
   "execution_count": 4,
   "metadata": {},
   "outputs": [
    {
     "data": {
      "text/plain": [
       "<tf.Tensor: shape=(3,), dtype=float32, numpy=array([0., 1., 0.], dtype=float32)>"
      ]
     },
     "execution_count": 4,
     "metadata": {},
     "output_type": "execute_result"
    }
   ],
   "source": [
    "tf.one_hot(1, 3)"
   ]
  },
  {
   "cell_type": "code",
   "execution_count": 1,
   "metadata": {},
   "outputs": [],
   "source": [
    "a = 1; b = 2\n",
    "del a, b"
   ]
  },
  {
   "cell_type": "code",
   "execution_count": 14,
   "metadata": {},
   "outputs": [
    {
     "name": "stdout",
     "output_type": "stream",
     "text": [
      "(2.95, 4.05)\n"
     ]
    },
    {
     "data": {
      "image/png": "[encoded data removed]",
      "text/plain": [
       "<Figure size 640x480 with 1 Axes>"
      ]
     },
     "metadata": {},
     "output_type": "display_data"
    }
   ],
   "source": [
    "import matplotlib.pyplot as plt\n",
    "plt.plot([1,2], [3,4])\n",
    "print(plt.ylim())\n",
    "plt.show()\n"
   ]
  },
  {
   "cell_type": "code",
   "execution_count": null,
   "metadata": {},
   "outputs": [],
   "source": [
    "import numpy as np\n",
    "indicatorP = [3,       2,       4,       1,        5,      6]     # (nBookies * nGames,) = (2 * 2, )\n",
    "backtestP =  [3,       1,       5,       4,        6,      2]     # (nBookies * nGames,) = (2 * 2, )\n",
    "indices =    [[0,0],   [0,1],   [0,2],   [1,0],   [1,1],   [1,2]]    # (nBookes * nGames, 2)\n",
    "stakes =     [[1,0,1], [2,1,1], [2,1,2], [1,1,1], [2,1,1], [1,2,1]]    # (nBookes * nGames, 2)\n",
    "indicatorP = np.array(indicatorP)\n",
    "backtestP = np.array(backtestP)\n",
    "indices = np.array(indices)\n",
    "stakes = np.array(stakes)\n",
    "print(indicatorP.shape, backtestP.shape, indices.shape, stakes.shape)\n",
    "idx = np.argsort(indicatorP)\n",
    "indicatorP = indicatorP[idx]\n",
    "backtestP = backtestP[idx]\n",
    "indices = indices[idx]\n",
    "stakes = stakes[idx]\n",
    "print(indicatorP)\n",
    "print(backtestP)\n",
    "print(indices)\n",
    "print(stakes)\n",
    "\n",
    "idx_a = 2; idx_b = 4\n",
    "backtests = [(bookie, gameId, list(stake), profit) for (bookie, gameId), stake, profit in \\\n",
    "                zip(indices[idx_a:idx_b+1], stakes[idx_a:idx_b+1], backtestP[idx_a:idx_b+1])]\n",
    "\n",
    "print(backtests)\n"
   ]
  },
  {
   "cell_type": "code",
   "execution_count": null,
   "metadata": {},
   "outputs": [],
   "source": [
    "import tensorflow as tf\n",
    "a = tf.Variable([[1,2], [3,4]], dtype=tf.float32)\n",
    "tf.where(a==a)\n",
    "[list(id) for id in a.numpy()]"
   ]
  },
  {
   "cell_type": "code",
   "execution_count": null,
   "metadata": {},
   "outputs": [],
   "source": [
    "import tensorflow as tf\n",
    "a = tf.Variable([[[1,2,1], [3,4,3]],[[1,2,2], [3,4,4]]], dtype=tf.float32)  # (2, 2, 3)\n",
    "b = tf.norm(a, keepdims=True, axis=-1)\n",
    "norm = tf.math.reduce_sum(a, keepdims=True, axis=-1) + 1e-12\n",
    "a = tf.reshape(a, [-1, 3])\n",
    "print(a)\n",
    "print(b)\n",
    "# print(a/b)\n",
    "print(norm)"
   ]
  },
  {
   "cell_type": "code",
   "execution_count": null,
   "metadata": {},
   "outputs": [],
   "source": [
    "a = tf.Variable([[1, 2], [3, 4]])\n",
    "a.numpy()\n",
    "[list(e) for e in a.numpy()]"
   ]
  },
  {
   "cell_type": "code",
   "execution_count": null,
   "metadata": {},
   "outputs": [],
   "source": [
    "import numpy as np\n",
    "a = np.array([1,2,3], dtype=np.float32)\n",
    "print(tuple(a))"
   ]
  },
  {
   "cell_type": "code",
   "execution_count": null,
   "metadata": {},
   "outputs": [],
   "source": [
    "a = [1, 2, 0, 1, 1, -3, -4, 7, 8, 9, 10, -2, 1, -3, 5, 6, 7, -10]\n",
    "zero_crossings = np.where(np.diff(np.sign(a)))[0]\n",
    "print(zero_crossings)"
   ]
  },
  {
   "cell_type": "code",
   "execution_count": null,
   "metadata": {},
   "outputs": [],
   "source": [
    "x = np.array([3, 1, 2])\n",
    "idx = np.argsort(x)\n",
    "print(idx)\n",
    "y = np.array([4,5,6])\n",
    "print(x[idx])\n",
    "print(y[idx])"
   ]
  },
  {
   "cell_type": "code",
   "execution_count": null,
   "metadata": {},
   "outputs": [],
   "source": [
    "x = np.array([1,2,3,4,5,6,7,8])\n",
    "np.convolve(x, np.ones(3), mode='valid')/3"
   ]
  },
  {
   "cell_type": "code",
   "execution_count": null,
   "metadata": {},
   "outputs": [],
   "source": [
    "import tensorflow as tf"
   ]
  },
  {
   "cell_type": "code",
   "execution_count": null,
   "metadata": {},
   "outputs": [],
   "source": [
    "stake_p = tf.Variable([[[1,2,3], [4, 5, 6], [3, 2, 2], [1, 1, 0]], [[1,2,-3], [3,-2,1], [2, 2, 1], [2, 3, 1]]], dtype=tf.float32) # (nBookies 2, batch 4, nQueries 3)\n",
    "profit = tf.math.reduce_sum(stake_p, axis=-1)   # (nBookies, batch)\n",
    "condition = profit > 2.0    # (nBookies, batch)\n",
    "print(condition)\n",
    "res = stake_p[condition]\n",
    "print(res)\n",
    "\n",
    "bestQuery = tf.argmax(stake_p, axis=-1)   # (batch,)\n",
    "one_hot = tf.one_hot(bestQuery, 3)\n",
    "print(one_hot)"
   ]
  },
  {
   "cell_type": "code",
   "execution_count": null,
   "metadata": {},
   "outputs": [],
   "source": [
    "def positional_encoding(memory, depth):\n",
    "    positions = tf.range(memory.shape[-1], dtype=tf.float32)\n",
    "\n",
    "    # fractional_pos = memory * positions    # fractional position: (batch, fractional position #)\n",
    "    fractional_pos = memory\n",
    "    \n",
    "    depth = depth/2\n",
    "    depths = tf.range(depth, dtype=tf.float32) / depth\n",
    "    supper_fractional_pos = 1.0 * positions.shape[-1]\n",
    "    target_supper_depths = 0.5 # rads\n",
    "    depths = tf.pow(supper_fractional_pos / target_supper_depths, depths)    # (depth,)\n",
    "    angle_rads = fractional_pos[:, :, tf.newaxis] / depths  # (batch, fractional position #, depth)\n",
    "    # pos_encoding = rearrange([tf.math.sin(angle_rads), tf.math.cos(angle_rads)], 'w b p d -> w h (w t)')\n",
    "    pos_encoding = tf.concat([tf.math.sin(angle_rads), tf.math.cos(angle_rads)], axis=-1)\n",
    "    return pos_encoding"
   ]
  },
  {
   "cell_type": "code",
   "execution_count": null,
   "metadata": {},
   "outputs": [],
   "source": [
    "# memory = tf.ones((100, 200), dtype=tf.float32) * 0.5    # (batch, positions)\n",
    "memory = tf.ones((100, 200), dtype=tf.float32) / range(200)    # (batch, positions)\n",
    "\n",
    "pos_encoding = positional_encoding(memory, depth=512)\n",
    "# print('pos_encoding', pos_encoding.shape)\n",
    "pos_encoding = pos_encoding[0, :, :]\n",
    "# print(pos_encoding.shape)\n",
    "# Plot the dimensions.\n",
    "plt.pcolormesh(pos_encoding.numpy().T, cmap='RdBu')\n",
    "plt.ylabel('Depth')\n",
    "plt.xlabel('Position')\n",
    "plt.colorbar()\n",
    "plt.show()"
   ]
  },
  {
   "cell_type": "code",
   "execution_count": null,
   "metadata": {},
   "outputs": [],
   "source": [
    "#@title\n",
    "pos_encoding/=tf.norm(pos_encoding, axis=1, keepdims=True)\n",
    "center = 365 * 2\n",
    "sigma = 365 * 1\n",
    "p = pos_encoding[center]\n",
    "dots = tf.einsum('pd,d -> p', pos_encoding, p)\n",
    "plt.subplot(2,1,1)\n",
    "plt.plot(dots)\n",
    "plt.ylim([0,1])\n",
    "plt.plot([center-sigma, center-sigma, float('nan'), center+sigma, center+sigma],\n",
    "         [0,1,float('nan'),0,1], color='k', label='Zoom')\n",
    "plt.legend()\n",
    "plt.subplot(2,1,2)\n",
    "plt.plot(dots)\n",
    "plt.xlim([center-sigma, center+sigma])\n",
    "plt.ylim([0,1])"
   ]
  },
  {
   "cell_type": "code",
   "execution_count": null,
   "metadata": {},
   "outputs": [],
   "source": [
    "import tensorflow as tf\n",
    "x = tf.Variable([1,2,3], dtype=tf.float32)\n",
    "x_logit = tf.Variable([4,5,6], dtype=tf.float32)\n",
    "tf.nn.sigmoid_cross_entropy_with_logits(logits=x_logit, labels=x)"
   ]
  },
  {
   "cell_type": "code",
   "execution_count": null,
   "metadata": {},
   "outputs": [],
   "source": [
    "import numpy as np\n",
    "\n",
    "lim = 5.\n",
    "step = .25\n",
    "x = np.arange(-lim, lim + step, step).reshape(-1, 1)\n",
    "y = np.arange(-lim, lim + step, step).reshape(-1, 1)\n",
    "xy = None\n",
    "\n",
    "X, Y = np.meshgrid(x, y)    # (n, m)\n",
    "XY = np.stack((X, Y), axis=-1)  # (n, m, 2)\n",
    "\n",
    "Z = XY[:, :, 0] * XY[:, :, 1]   # (n, m)\n",
    "\n",
    "print(X.shape, Y.shape, XY.shape, Z.shape)"
   ]
  },
  {
   "cell_type": "code",
   "execution_count": null,
   "metadata": {},
   "outputs": [],
   "source": [
    "dic1 = {'1': [1, 2, 3], '2': [4, 5, 6]}\n",
    "# dic2 = {'1': [5, 6], '2': [7, 8]}\n",
    "\n",
    "nSeries = len(tuple(dic1.values())[0])\n",
    "for v in dic1.values():\n",
    "    assert len(v) == nSeries\n",
    "\n",
    "series =  [[v[serial] for v in dic1.values()] for serial in range(nSeries)] # [ [] ] * nSeries\n",
    "print(series)"
   ]
  },
  {
   "cell_type": "code",
   "execution_count": null,
   "metadata": {},
   "outputs": [],
   "source": [
    "import tensorflow as tf\n",
    "import numpy as np\n",
    "from einops import rearrange\n",
    "import matplotlib.pyplot as plt"
   ]
  },
  {
   "cell_type": "code",
   "execution_count": null,
   "metadata": {},
   "outputs": [],
   "source": [
    "t = tf.Variable([[0, 1], [0,1]], dtype=tf.float32)\n",
    "p = tf.Variable([[1, 1], [0,1]], dtype=tf.float32)\n",
    "p = tf.Variable([[[1, 1], [0,1]], [[1, 1], [0,1]]], dtype=tf.float32)\n",
    "tf.keras.losses.binary_crossentropy(t, p, axis=-1, from_logits=False)"
   ]
  },
  {
   "cell_type": "code",
   "execution_count": null,
   "metadata": {},
   "outputs": [],
   "source": [
    "a = tf.Variable([[1,3], [2,4]])\n",
    "b = tf.Variable([[2,3], [4,5]])\n",
    "print(a>5)\n",
    "print(b[a>5])\n",
    "print((b[a>5]).shape[-1])\n"
   ]
  },
  {
   "cell_type": "code",
   "execution_count": null,
   "metadata": {},
   "outputs": [],
   "source": [
    "a = tf.Variable([[1], [2], [3]]); b = tf.Variable([[4], [5], [6]])\n",
    "tf.concat([a, b], axis=-1)"
   ]
  },
  {
   "cell_type": "code",
   "execution_count": null,
   "metadata": {},
   "outputs": [],
   "source": [
    "a = tf.Variable([1, 2, 3]); b = tf.Variable([4, 5, 6])\n",
    "tf.stack([a, b], axis=-1)"
   ]
  },
  {
   "cell_type": "code",
   "execution_count": null,
   "metadata": {},
   "outputs": [],
   "source": [
    "a = tf.Variable([1, 2, 3]); b = tf.Variable([4, 5, 6])\n",
    "tf.stack([a, b], axis=0)"
   ]
  },
  {
   "cell_type": "code",
   "execution_count": null,
   "metadata": {},
   "outputs": [],
   "source": [
    "a = tf.Variable([[1,2,3], [4,5,6]], dtype=tf.float32)\n",
    "tf.where(a > 3)"
   ]
  },
  {
   "cell_type": "code",
   "execution_count": null,
   "metadata": {},
   "outputs": [],
   "source": [
    "a = tf.Variable([[1,2,3], [4,5,6]], dtype=tf.float32)\n",
    "b = tf.Variable([2,3], dtype=tf.float32)\n",
    "tf.multiply(a, b[:, tf.newaxis] )"
   ]
  },
  {
   "cell_type": "code",
   "execution_count": null,
   "metadata": {},
   "outputs": [],
   "source": [
    "def sigmoid(x):\n",
    "    return 1.0 / (1.0 + np.exp(-x))"
   ]
  },
  {
   "cell_type": "code",
   "execution_count": null,
   "metadata": {},
   "outputs": [],
   "source": [
    "alpha = 5\n",
    "x = np.array(np.arange(0.0, 1.0, 0.01), dtype=np.float32)\n",
    "y = sigmoid(10.0 * np.power(x, alpha) - 5.0)\n",
    "plt.plot(x, y)\n",
    "plt.show()"
   ]
  },
  {
   "cell_type": "code",
   "execution_count": null,
   "metadata": {},
   "outputs": [],
   "source": [
    "# Choose (game, qGroup), which is greater than 0.05, or MIN_PROFIT_P_PER_GAME_PER_QGROUP\n",
    "MIN_PROFIT_P_PER_GAME_PER_QGROUP = 3.0\n",
    "profit_p = tf.Variable([[1, 5, 7], [-3, 2, -1], [6, -2, 1]], dtype=tf.float32)\n",
    "# We want to find indices: [0,1] for 5, [0,2] for 7, and [2,0] for 6 when threshold is 3.\n",
    "tf.where(profit_p > MIN_PROFIT_P_PER_GAME_PER_QGROUP)"
   ]
  },
  {
   "cell_type": "code",
   "execution_count": null,
   "metadata": {},
   "outputs": [],
   "source": [
    "bestQuery = tf.cast(tf.argmax(profit_p, axis=-1), dtype=tf.int32)   # (batch,)\n",
    "range = tf.range(bestQuery.shape[0], dtype=tf.int32) # (batch,)\n",
    "best_idx = tf.stack([range, bestQuery], axis=1) # (batch, 2)\n",
    "print(best_idx)"
   ]
  },
  {
   "cell_type": "code",
   "execution_count": null,
   "metadata": {},
   "outputs": [],
   "source": [
    "stake_p = tf.Variable([[1,3,2], [3,2,4]], dtype=tf.float32)\n",
    "tf.nn.top_k(stake_p)"
   ]
  },
  {
   "cell_type": "code",
   "execution_count": null,
   "metadata": {},
   "outputs": [],
   "source": [
    "stake_p = tf.Variable([[1,3,2], [3,2,4]], dtype=tf.float32)\n",
    "tf.squeeze(tf.one_hot(tf.nn.top_k(stake_p).indices, tf.shape(stake_p)[-1]), axis=1)"
   ]
  },
  {
   "cell_type": "code",
   "execution_count": null,
   "metadata": {},
   "outputs": [],
   "source": [
    "ftGoals = tf.Variable([[[2,3], [4,3]], [[2,3], [4,3]]])\n",
    "ftGoals = tf.cast(ftGoals, dtype=tf.int32)  # (batch, 2)\n",
    "h = (tf.math.greater(ftGoals[..., 0], ftGoals[..., 1]), tf.math.equal(ftGoals[..., 0], ftGoals[..., 1]), tf.math.less(ftGoals[..., 0], ftGoals[..., 1]))\n",
    "print(h)\n",
    "print(tf.transpose(h))\n",
    "h = tf.cast(tf.transpose(h), dtype=tf.float32)  # (batch, nQueries)\n",
    "h = tf.einsum('jik', h)\n",
    "print(h)"
   ]
  },
  {
   "cell_type": "code",
   "execution_count": null,
   "metadata": {},
   "outputs": [],
   "source": [
    "profit_p = tf.constant([[3.0, 3.0, 4.0], [0.1, 0.7, 0.3]])\n",
    "one_hot_a = tf.squeeze(tf.one_hot(tf.nn.top_k(profit_p).indices, tf.shape(profit_p)[-1]), axis=1)\n",
    "print(one_hot_a)\n",
    "# one_hot_a = [[ 0.  0.  1.]]"
   ]
  },
  {
   "cell_type": "code",
   "execution_count": null,
   "metadata": {},
   "outputs": [],
   "source": [
    "bestQuery = tf.cast(tf.argmax(profit_p, axis=-1), dtype=tf.int32)   # (batch,)\n",
    "range = tf.range(bestQuery.shape[0], dtype=tf.int32) # (batch,)\n",
    "best_idx = tf.stack([range, bestQuery], axis=1) # (batch, 2)\n",
    "print(best_idx)"
   ]
  },
  {
   "cell_type": "code",
   "execution_count": null,
   "metadata": {},
   "outputs": [],
   "source": [
    "best_profits_eval = tf.gather_nd(profit_p, best_idx)  # (batch, )\n",
    "print(best_profits_eval)\n",
    "profit_eval_mean = tf.math.reduce_mean(best_profits_eval)"
   ]
  },
  {
   "cell_type": "code",
   "execution_count": null,
   "metadata": {},
   "outputs": [],
   "source": [
    "least_profit = tf.reduce_min(profit_p, axis=-1)\n",
    "delta = tf.reduce_max(profit_p, axis=-1) - least_profit\n",
    "normal_profit = tf.transpose(tf.transpose(profit_p) - least_profit)\n",
    "normal_profit = tf.transpose(tf.transpose(normal_profit)/(delta + 1e-9)) # no tf.keras.backend.epsilon\n",
    "is_zero = ((1.0 - tf.reduce_max(normal_profit, axis=1)))\n",
    "normal_profit = tf.transpose(tf.transpose(normal_profit) + is_zero)\n",
    "print(normal_profit)"
   ]
  },
  {
   "cell_type": "code",
   "execution_count": null,
   "metadata": {},
   "outputs": [],
   "source": [
    "scalar_product = tf.keras.layers.Dot(axes=(-1, -1))\n",
    "a = tf.Variable([[1, 2], [3, 4]])\n",
    "scalar_product([a, a])"
   ]
  },
  {
   "cell_type": "code",
   "execution_count": null,
   "metadata": {},
   "outputs": [],
   "source": [
    "mha = tf.keras.layers.MultiHeadAttention()"
   ]
  },
  {
   "cell_type": "code",
   "execution_count": null,
   "metadata": {},
   "outputs": [],
   "source": [
    "stake_p = tf.Variable([[1,2,3], [3,2,1]])\n",
    "tf.one_hot(tf.nn.top_k(stake_p.indicies, tf.shape(stake_p)[-1]))"
   ]
  },
  {
   "cell_type": "code",
   "execution_count": null,
   "metadata": {},
   "outputs": [],
   "source": [
    "class Happen(tf.keras.Model):\n",
    "  def __init__(self, nQueries, dropout_rate=0.1):\n",
    "    super().__init__()\n",
    "    self.nQueries = nQueries\n",
    "    self.softmax = tf.keras.layers.Softmax(axis=-1)\n",
    "    self.adaptor = Adaptor(self.nQueries, hyperparams.d_model)\n",
    "    self.cc = tf.keras.losses.CategoricalCrossentropy(\n",
    "      from_logits=False, axis=-1, reduction='sum_over_batch_size'\n",
    "    )\n",
    "    return\n",
    "  \n",
    "  def call(self, input):\n",
    "    # expected inputs.shape: (batch, hyperparas.d_model)\n",
    "    happen_logits = self.adaptor(input)     # (batch, nQueries)\n",
    "    happen_p = self.softmax(happen_logits)\n",
    "    return happen_p # (batch, nQueries)\n",
    "\n",
    "  def h_true(self, ftGoals):  # Defines this QGroup. This is for 1X2 QGroup. Derived classes re-define this funciton.\n",
    "    # ftGoals:  (batch, 2)\n",
    "    ftGoals = tf.cast(ftGoals, dtype=tf.int32)  # (batch, 2)\n",
    "    h = (tf.math.greater(ftGoals[..., 0], ftGoals[..., 1]), tf.math.equal(ftGoals[..., 0], ftGoals[..., 1]), tf.math.less(ftGoals[..., 0], ftGoals[..., 1]))\n",
    "    h = tf.cast(tf.transpose(h), dtype=tf.float32)  # (batch, nQueries)\n",
    "    return h\n",
    "  \n",
    "  def loss(self, ftGoals, happen_p):\n",
    "    happen_t = self.h_true(ftGoals)\n",
    "    loss = self.cc(happen_t, happen_p)\n",
    "    return loss\n",
    "  \n",
    "  def profit_back(self, ftGoals, odds, happen_p):\n",
    "    oh_1_t = tf.math.multiply(odds, self.h_true(ftGoals)) - 1.0\n",
    "    stake_p = happen_p  # (batch, nQueries)\n",
    "\n",
    "    # Do we need to make stake_p a one-hot ?\n",
    "    stake_p = tf.nn.softmax(stake_p)  # (batch,)\n",
    "    stake_p = tf.one_hot(tf.nn.top_k(stake_p.indicies, tf.shape(stake_p)[-1]))\n",
    "  \n",
    "    profit_back = tf.math.multiply(oh_1_t, stake_p)   # (batch, nQueries)\n",
    "    profit_back = tf.math.reduce_sum(profit_back, axis=None)  # ()\n",
    "    return profit_back"
   ]
  },
  {
   "cell_type": "code",
   "execution_count": null,
   "metadata": {},
   "outputs": [],
   "source": [
    "stake_p = tf.Variable([[1,2,3], [3,2,1]])\n",
    "tf.one_hot(tf.nn.top_k(stake_p.indicies, tf.shape(stake_p)[-1]))"
   ]
  },
  {
   "cell_type": "code",
   "execution_count": null,
   "metadata": {},
   "outputs": [],
   "source": [
    "H = Happen(3)\n",
    "ftGoals = tf.Variable([[2,2], [0,1]])\n",
    "# so, happen_t = [[0, 1, 0], [0, 0, 1]]\n",
    "happen_p = [[0.05, 0.95, 0], [0.1, 0.8, 0.1]]\n",
    "H.loss(ftGoals, happen_p)\n",
    "odds = tf.Variable([[1, 1, 1], [1, 1, 1]], dtype=tf.float32)\n",
    "H.profit_back(ftGoals, odds, happen_p)"
   ]
  },
  {
   "cell_type": "code",
   "execution_count": null,
   "metadata": {},
   "outputs": [],
   "source": [
    "A = np.array([0, 1, 2])\n",
    "B = np.array([[ 0,  1,  2,  3],\n",
    "              [ 4,  5,  6,  7],\n",
    "              [ 8,  9, 10, 11]])\n",
    "(A[:, np.newaxis] * B).sum(axis=1)"
   ]
  },
  {
   "cell_type": "code",
   "execution_count": null,
   "metadata": {},
   "outputs": [],
   "source": [
    "np.einsum('i,ij->i', A, B)"
   ]
  },
  {
   "cell_type": "code",
   "execution_count": null,
   "metadata": {},
   "outputs": [],
   "source": [
    "A = np.array([[1, 1, 1],\n",
    "              [2, 2, 2],\n",
    "              [5, 5, 5]])\n",
    "B = np.array([[0, 1, 0],\n",
    "              [1, 1, 0],\n",
    "              [1, 1, 1]])"
   ]
  },
  {
   "cell_type": "code",
   "execution_count": null,
   "metadata": {},
   "outputs": [],
   "source": [
    "np.einsum('i', A)\n",
    "tf.einsum('i', A)"
   ]
  },
  {
   "cell_type": "code",
   "execution_count": null,
   "metadata": {},
   "outputs": [],
   "source": [
    "np.einsum('i->', A)"
   ]
  },
  {
   "cell_type": "code",
   "execution_count": null,
   "metadata": {},
   "outputs": [],
   "source": [
    "a = tf.Variable([[0, 2], \n",
    "                 [3, 4]])\n",
    "b = tf.Variable([[2, 3], \n",
    "                 [4, 5]])\n",
    "tf.einsum('ij, ij -> ij', a, b)"
   ]
  },
  {
   "cell_type": "code",
   "execution_count": null,
   "metadata": {},
   "outputs": [],
   "source": [
    "a = tf.Variable([[0, 2], \n",
    "                 [2, 1]])\n",
    "b = tf.Variable([[2, 0], \n",
    "                 [1, 2]])\n",
    "tf.einsum('ij, kj->ij', a, b)"
   ]
  },
  {
   "cell_type": "code",
   "execution_count": null,
   "metadata": {},
   "outputs": [],
   "source": [
    "a = tf.Variable(2)\n",
    "b = tf.Variable(3)\n",
    "tf.stack([a, b], axis=0)"
   ]
  },
  {
   "cell_type": "code",
   "execution_count": null,
   "metadata": {},
   "outputs": [],
   "source": [
    "profit = tf.Variable([[11, 12, 13], [4, 6, 5], [5, 5, 5]], dtype=tf.float32)\n",
    "print(profit)\n",
    "least_profit = tf.reduce_min(profit, axis=-1)\n",
    "delta = tf.reduce_max(profit, axis=-1) - least_profit\n",
    "normal_profit = tf.transpose(tf.transpose(profit) - least_profit)\n",
    "epsilon = 1e-9\n",
    "normal_profit = tf.transpose(tf.transpose(normal_profit)/(delta+1e-9)) # no tf.keras.backend.epsilon\n",
    "is_zero = ((1.0 - tf.reduce_max(normal_profit, axis=1)))\n",
    "normal_profit = tf.transpose(tf.transpose(normal_profit) + is_zero)\n",
    "print(normal_profit)\n",
    "\n"
   ]
  },
  {
   "cell_type": "code",
   "execution_count": null,
   "metadata": {},
   "outputs": [],
   "source": [
    "profits_p = tf.Variable([[1,2,3], [3,2,1]], dtype=tf.float32)\n",
    "bestQuery = tf.cast(tf.argmax(profits_p, axis=-1), dtype=tf.int32)   # (batch,)\n",
    "range = tf.range(bestQuery.shape[0], dtype=tf.int32) # (batch,)\n",
    "best_idx = tf.stack([range, bestQuery], axis=1) # (batch, 2)\n",
    "print(best_idx)"
   ]
  },
  {
   "cell_type": "code",
   "execution_count": null,
   "metadata": {},
   "outputs": [],
   "source": [
    "logits = [[1.0, 0.0, 0.0], [0.0, 5.0, 1.0]]\n",
    "labels = [[1.0, 0.0, 0.0], [0.0, 0.8, 0.2]]\n",
    "tf.nn.softmax_cross_entropy_with_logits(labels=labels, logits=logits)\n",
    "# tf.reduce_sum(logits, axis=-1, keepdims=True)"
   ]
  },
  {
   "cell_type": "code",
   "execution_count": null,
   "metadata": {},
   "outputs": [],
   "source": [
    "ftGoals = tf.Variable([[1,2], [3,2], [2,2]])\n",
    "ftGoals = tf.cast(ftGoals, dtype=tf.int32)  # (batch, 2)\n",
    "h = (tf.math.greater(ftGoals[..., 0], ftGoals[..., 1]), tf.math.equal(ftGoals[..., 0], ftGoals[..., 1]), tf.math.less(ftGoals[..., 0], ftGoals[..., 1]))\n",
    "h = tf.cast(tf.transpose(h), dtype=tf.float32)  # (batch, nQueries)\n",
    "h"
   ]
  },
  {
   "cell_type": "code",
   "execution_count": null,
   "metadata": {},
   "outputs": [],
   "source": [
    "a = tf.Variable([3, 7])\n",
    "tf.clip_by_value(a, 3, 6)"
   ]
  },
  {
   "cell_type": "code",
   "execution_count": null,
   "metadata": {},
   "outputs": [],
   "source": [
    "a = tf.Variable(2, dtype=tf.float32)\n",
    "b = tf.Variable(3, dtype=tf.float32)\n",
    "c = [a, b]\n",
    "tf.add_n(c)"
   ]
  },
  {
   "cell_type": "code",
   "execution_count": null,
   "metadata": {},
   "outputs": [],
   "source": [
    "class Adaptor(tf.keras.layers.Layer):\n",
    "  def __init__(self, d_model, dff, dropout_rate=0.1):\n",
    "    super().__init__()\n",
    "    self.seq = tf.keras.Sequential([\n",
    "      tf.keras.layers.Dense(dff, activation='relu'),    # across -1 axis\n",
    "      tf.keras.layers.Dense(d_model),    # across -1 axis\n",
    "      tf.keras.layers.Dropout(dropout_rate)    # mask-agnostic\n",
    "    ])\n",
    "    self.layer_norm = tf.keras.layers.LayerNormalization()\n",
    "\n",
    "  def call(self, x):\n",
    "    x = self.seq(x)\n",
    "    x = self.layer_norm(x)  # Do we need this?\n",
    "    return x"
   ]
  },
  {
   "cell_type": "code",
   "execution_count": null,
   "metadata": {},
   "outputs": [],
   "source": [
    "class QGroup(tf.keras.Model):\n",
    "  softmax = tf.keras.layers.Softmax(axis=-1)\n",
    "  scalar_product = tf.keras.layers.Dot(axes=(-1, -1))\n",
    "\n",
    "  def __init__(self, bookie, nQueries, dropout_rate=0.1):\n",
    "    super().__init__()\n",
    "    self.bookie = bookie\n",
    "    self.nQueries = nQueries\n",
    "    self.bookieBase = Adaptor(self.nQueries, self.nQueries * 4)\n",
    "    self.oh_1 = Adaptor(self.nQueries, self.nQueries * 4)\n",
    "\n",
    "    return\n",
    "    \n",
    "  def call(self, input):\n",
    "    # inputs.shape: (batch, d_model)\n",
    "    base = self.bookieBase(input)        # (batch, nQueries)\n",
    "    stake_p = QGroup.softmax(base)            # (batch, nQueries)\n",
    "    oh_1_p = self.oh_1(base)                  # (batch, nQueries)\n",
    "    # profit_p = QGroup.scalar_product([oh_1_p, stake_p])   # (batch, 1)\n",
    "    profit_p = tf.math.multiply(oh_1_p, stake_p)   # (batch, nQueries)\n",
    "\n",
    "    return (profit_p, stake_p)  # (batch, nQueries), (batch, nQueries) \n",
    "  \n",
    "  #----- ToDo: replace self.scalar_product layer with a tf scalar product function, for speed.\n",
    "  def h_true(ftGoals):  # Defines this QGroup. This is for 1X2 QGroup. Derived classes re-define this funciton.\n",
    "    # ftGoals:  (batch, 2)\n",
    "    ftGoals = tf.cast(ftGoals, dtype=tf.int32)  # (batch, 2)\n",
    "    h = (tf.math.greater(ftGoals[..., 0], ftGoals[..., 1]), tf.math.equal(ftGoals[..., 0], ftGoals[..., 1]), tf.math.less(ftGoals[..., 0], ftGoals[..., 1]))\n",
    "    h = tf.cast(tf.transpose(h), dtype=tf.float32)  # (batch, nQueries)\n",
    "    return h\n",
    "  \n",
    "  def stake_true(ftGoals):\n",
    "    return QGroup.h_true(ftGoals)   # (batch, nQueries)\n",
    "  \n",
    "  def profit_true(ftGoals, odds):\n",
    "    stake_t = QGroup.stake_true(ftGoals)  # (batch, nQueries)\n",
    "    oh_1_true = tf.math.multiply(odds, QGroup.h_true(ftGoals)) - 1.0  # (batch, nQueries)\n",
    "    profit_t = QGroup.scalar_product([oh_1_true, stake_t])  # (batch, nQueries)\n",
    "    return profit_t\n",
    "\n",
    "  def loss(profit_p, stake_p, ftGoals, odds, rambda):\n",
    "    # profit_p: (batch, nQueries)\n",
    "    # stake_p:  (batch, nQueries)\n",
    "    # ftGoals:  (batch, 2)\n",
    "    # odds:     (batch, nQueries)\n",
    "    # rambda:   ()\n",
    "    stake_t = QGroup.stake_true(ftGoals)  # (batch, nQueries)\n",
    "    oh_1_t = tf.math.multiply(odds, QGroup.h_true(ftGoals)) - 1.0   # (batch, nQueries)\n",
    "\n",
    "    # profit_t = QGroup.scalar_product([oh_1_t, stake_t])   # (batch, 1)\n",
    "    # profit_p_errpr = tf.reduce_mean(tf.abs(profit_t - profit_p), axis=None)   # ()  ----------------------------------- consider using MCE\n",
    "\n",
    "    profit_t = tf.math.multiply(oh_1_t, stake_t)   # (batch, nQueries)   \n",
    "    profit_mce = tf.nn.softmax_cross_entropy_with_logits(labels=profit_t, logits=profit_p)\n",
    "    profit_p_errpr = tf.reduce_mean(profit_mce) # mean rather than sum, like profit_eval\n",
    "\n",
    "    profit_eval = tf.reduce_mean(QGroup.scalar_product([oh_1_t, stake_p]), axis=None)  # ()\n",
    "    loss = profit_p_errpr - profit_eval * rambda # ()\n",
    "    return loss # ()\n",
    "\n",
    "  def profit_true_sum(ftGoals, odds):\n",
    "    stake_t = QGroup.stake_true(ftGoals)\n",
    "    oh_1_true = tf.math.multiply(odds, QGroup.h_true(ftGoals)) - 1.0\n",
    "    profit_t = tf.reduce_sum(QGroup.scalar_product([oh_1_true, stake_t]), axis=None)\n",
    "    return profit_t\n",
    "\n",
    "  def profit_true_sum(self, ftGoals, odds):\n",
    "    stake_t = self.stake_true(ftGoals)\n",
    "    oh_1_true = tf.math.multiply(odds, self.h_true(ftGoals)) - 1.0\n",
    "    profit_t = tf.reduce_sum(self.scalar_product([oh_1_true, stake_t]), axis=None)\n",
    "    return profit_t\n",
    "\n",
    "  def profit_eval_sum(ftGoals, odds, stake_p):\n",
    "    oh_1_t = tf.math.multiply(odds, QGroup.h_true(ftGoals)) - 1.0\n",
    "    profit_e_sum = tf.reduce_sum(QGroup.scalar_product([oh_1_t, stake_p]), axis=None)\n",
    "    return profit_e_sum\n",
    "\n",
    "  def profit_eval(ftGoals, odds, stake_p):\n",
    "    oh_1_t = tf.math.multiply(odds, QGroup.h_true(ftGoals)) - 1.0\n",
    "    profit_e = QGroup.scalar_product([oh_1_t, stake_p])\n",
    "    return profit_e"
   ]
  },
  {
   "cell_type": "code",
   "execution_count": null,
   "metadata": {},
   "outputs": [],
   "source": [
    "class QGroup1X2(QGroup):\n",
    "  def __init__(self, bookie, dropout_rate=0.1):\n",
    "    super().__init__(bookie=bookie, nQueries=3, dropout_rate=dropout_rate)\n",
    "    self.qGroupName = 'qGroup3'\n",
    "\n",
    "  def h_true(ftGoals):  # Defines this QGroup. This is for 1X2 QGroup.\n",
    "    # ftGoals:  (batch, 2)\n",
    "    ftGoals = tf.cast(ftGoals, dtype=tf.int32)  # (batch, 2)\n",
    "    h = (tf.math.greater(ftGoals[..., 0], ftGoals[..., 1]), tf.math.equal(ftGoals[..., 0], ftGoals[..., 1]), tf.math.less(ftGoals[..., 0], ftGoals[..., 1]))\n",
    "    h = tf.cast(tf.transpose(h), dtype=tf.float32)  # (batch, nQueries)\n",
    "    return h"
   ]
  },
  {
   "cell_type": "code",
   "execution_count": null,
   "metadata": {},
   "outputs": [],
   "source": [
    "OXT = QGroup1X2('B365')\n",
    "input = tf.Variable([[1,2,3], [4,5,6]], dtype=tf.float32)\n",
    "OXT.call(input)"
   ]
  },
  {
   "cell_type": "code",
   "execution_count": null,
   "metadata": {},
   "outputs": [],
   "source": [
    "ftGoals = tf.Variable([[2,3], [0,0]])\n",
    "QGroup.h_true(ftGoals)\n",
    "# manual:: [[0 0 1], [0 1 0]]"
   ]
  },
  {
   "cell_type": "code",
   "execution_count": null,
   "metadata": {},
   "outputs": [],
   "source": [
    "ftGoals = tf.Variable([[2,3], [0,0]])\n",
    "QGroup.stake_true(ftGoals)\n",
    "# manual: [[0 0 1], [0 1 0]]"
   ]
  },
  {
   "cell_type": "code",
   "execution_count": null,
   "metadata": {},
   "outputs": [],
   "source": [
    "profit_p = tf.Variable([2], dtype=tf.float32)\n",
    "stake_p = tf.Variable([[0.5, 0.2, 0.3]], dtype=tf.float32)\n",
    "ftGoals = tf.Variable([[2, 3]])      \n",
    "odds = tf.Variable([[3, 4, 5]], dtype=tf.float32)\n",
    "rambda = tf.Variable(1, dtype=tf.float32)\n",
    "QGroup.loss(profit_p, stake_p, ftGoals, odds, rambda)\n",
    "# manual: 1.5, if not using MCE"
   ]
  },
  {
   "cell_type": "code",
   "execution_count": null,
   "metadata": {},
   "outputs": [],
   "source": [
    "profit_p = tf.Variable([[2, 3, 1], [1, 2, 3]], dtype=tf.float32)\n",
    "stake_p = tf.Variable([[0.5, 0.2, 0.3], [0.1, 0.2, 0.7]], dtype=tf.float32)\n",
    "ftGoals = tf.Variable([[2, 3], [3, 2]])\n",
    "odds = tf.Variable([[3, 4, 5], [5, 4, 3]], dtype=tf.float32)\n",
    "rambda = tf.Variable(1, dtype=tf.float32)\n",
    "QGroup.loss(profit_p, stake_p, ftGoals, odds, rambda)\n",
    "# manual: 1.5, if not using MCE"
   ]
  },
  {
   "cell_type": "code",
   "execution_count": null,
   "metadata": {},
   "outputs": [],
   "source": [
    "#  def profit_eval(self, ftGoals, odds, stake_p)\n",
    "ftGoals = tf.Variable([[2,3], [3,3]])\n",
    "odds = tf.Variable([[1,2,3], [3,4,5]], dtype=tf.float32)\n",
    "stake_p = tf.Variable([[0.7, 0.2, 0.1], [0.5, 0.3, 0.2]])\n",
    "QGroup.profit_eval_sum(ftGoals, odds, stake_p)"
   ]
  },
  {
   "cell_type": "code",
   "execution_count": null,
   "metadata": {},
   "outputs": [],
   "source": [
    "ftGoals = tf.Variable([[2,3], [3,3]])\n",
    "odds = tf.Variable([[1,2,3], [3,4,5]], dtype=tf.float32)\n",
    "stake_p = tf.Variable([[0.7, 0.2, 0.1], [0.5, 0.3, 0.2]])\n",
    "oh_1_t = tf.math.multiply(odds, QGroup.h_true(ftGoals)) - 1.0\n",
    "print(oh_1_t)\n",
    "profit_e = QGroup.scalar_product([oh_1_t, stake_p])\n",
    "print(profit_e)\n",
    "profit_e_sum = tf.reduce_sum(profit_e, axis=None)\n",
    "print(profit_e_sum)"
   ]
  },
  {
   "cell_type": "code",
   "execution_count": null,
   "metadata": {},
   "outputs": [],
   "source": [
    "ftGoals = tf.Variable([[2,3], [3,3]])\n",
    "odds = tf.Variable([[1,2,3], [3,4,5]], dtype=tf.float32)\n",
    "stake_p = tf.Variable([[0.7, 0.2, 0.1], [0.5, 0.3, 0.2]])\n",
    "QGroup.profit_eval(ftGoals, odds, stake_p)"
   ]
  },
  {
   "cell_type": "code",
   "execution_count": null,
   "metadata": {},
   "outputs": [],
   "source": [
    "profit1_p = tf.Variable([[1], [3]], dtype=tf.float32)   # (batch, 1) = (2, 1)\n",
    "profit2_p = tf.Variable([[2], [1]], dtype=tf.float32)\n",
    "profit3_p = tf.Variable([[1], [4]], dtype=tf.float32)\n",
    "print(profit1_p.shape, profit2_p.shape, profit3_p.shape)\n",
    "profits_p = [profit1_p, profit2_p, profit3_p]   # batch: 2, # QGroups: 3\n",
    "profits_p = tf.concat(profits_p, axis=-1)       # (batch, nQGroups)\n",
    "print(profits_p.shape)\n",
    "bestQGroup = tf.argmax(profits_p, axis=-1)      # (batch,)\n",
    "print(bestQGroup)\n",
    "\n",
    "profit_eval = tf.Variable([[1, 2, 3], [4, 3, 5]], dtype=tf.float32) # (batch, nQGroups)\n",
    "print(profit_eval)"
   ]
  },
  {
   "cell_type": "code",
   "execution_count": null,
   "metadata": {},
   "outputs": [],
   "source": [
    "a = tf.Variable([[1, 2, 3], [4, 5, 6]])\n",
    "idx = [[0, 1]]\n",
    "tf.gather(a, idx)"
   ]
  },
  {
   "cell_type": "code",
   "execution_count": null,
   "metadata": {},
   "outputs": [],
   "source": [
    "a = tf.reshape(tf.range(16), (4, -1))\n",
    "print(a)\n",
    "tf.gather_nd(a, [[0,0], [1,1], [2,2], [3,3]])"
   ]
  },
  {
   "cell_type": "code",
   "execution_count": null,
   "metadata": {},
   "outputs": [],
   "source": [
    "a = tf.Variable([2, 3, 1, 0], dtype=tf.int32)\n",
    "b = tf.range(a.shape[-1], dtype=tf.int32)\n",
    "idx = tf.stack([b, a], axis=1)\n",
    "print(a)\n",
    "print(b)\n",
    "print(idx)\n",
    "\n",
    "\n",
    "a = tf.reshape(tf.range(16), (4, -1))\n",
    "tf.gather_nd(a, idx)"
   ]
  },
  {
   "cell_type": "code",
   "execution_count": null,
   "metadata": {},
   "outputs": [],
   "source": [
    "a = tf.Variable([[1, 2, 3], [4, 5, 6]])\n",
    "idx = [[0,0]]\n",
    "tf.gather_nd(a, idx)"
   ]
  },
  {
   "cell_type": "code",
   "execution_count": null,
   "metadata": {},
   "outputs": [],
   "source": [
    "# outputs: # [ ( shape: (batch, 1), shape: (batch, nQueries) ) for _ in self.qGroups ]\n",
    "batchSize = 3\n",
    "nQGroups = 2\n",
    "nQueries = 3\n",
    "\n",
    "outputs = [(tf.reshape(tf.range(n, batchSize+n), (batchSize, 1)), tf.Variable(1)) for n in range(nQGroups)]\n",
    "# print(outputs)\n",
    "# profit_eval = tf.concat(profit_eval, axis=-1) # (batch, nQGroups)\n",
    "profit_eval = tf.reshape(tf.range(batchSize*nQGroups, dtype=tf.float32), (batchSize, nQGroups))\n",
    "print(profit_eval)\n",
    "\n",
    "# profits_p = [p for (p, _) in outputs]   # [ shape: (batch, 1) for _ self.qGroups ]\n",
    "profits_p = [ tf.Variable([[1], [3], [2]], dtype=tf.float32), tf.Variable([[1], [2], [3]], dtype=tf.float32)]\n",
    "# print(profits_p)\n",
    "profits_p = tf.concat(profits_p, axis=-1) # (batch, len(self.qGroups))\n",
    "print(profits_p)\n",
    "bestQuery = tf.cast(tf.argmax(profits_p, axis=-1), dtype=tf.int32)   # (batch,)\n",
    "print(bestQuery)\n",
    "range = tf.range(bestQuery.shape[0], dtype=tf.int32) # (batch,)\n",
    "best_idx = tf.stack([range, bestQuery], axis=1) # (batch, 2)\n",
    "print(best_idx)\n",
    "best_profits_eval = tf.gather_nd(profit_eval, best_idx)  # (batch, )\n",
    "print(best_profits_eval)\n",
    "profit_eval = tf.math.reduce_sum(best_profits_eval)\n",
    "print(profit_eval)"
   ]
  },
  {
   "cell_type": "code",
   "execution_count": null,
   "metadata": {},
   "outputs": [],
   "source": [
    "a = tf.Variable([[1,2], [3,4]])\n",
    "b = tf.Variable([[2,3], [4,5]])\n",
    "tf.keras.losses.MSE(a, b)"
   ]
  },
  {
   "cell_type": "code",
   "execution_count": null,
   "metadata": {},
   "outputs": [],
   "source": [
    "a = tf.Variable([[1,2], [3,4]])\n",
    "b = tf.Variable([[1,2], [3,4]])\n",
    "tf.keras.ops.dot(a, b)"
   ]
  },
  {
   "cell_type": "code",
   "execution_count": null,
   "metadata": {},
   "outputs": [],
   "source": [
    "a = tf.Variable([[1,2], [1, 2]])\n",
    "b = tf.Variable([[1,2], [1, 1]])\n",
    "tf.tensordot(a, b, axes=1)"
   ]
  },
  {
   "cell_type": "code",
   "execution_count": null,
   "metadata": {},
   "outputs": [],
   "source": [
    "a = tf.Variable([[1,2], [3,4]])\n",
    "b = tf.Variable([[1,2], [3,4]])\n",
    "tf.math.multiply(a, b)"
   ]
  },
  {
   "cell_type": "code",
   "execution_count": null,
   "metadata": {},
   "outputs": [],
   "source": [
    "ftGoals = tf.Variable([[1,2], [3,2], [3,3], [2,3]], dtype=tf.float32)\n",
    "h = (tf.math.greater(ftGoals[:, 0], ftGoals[:, 1]), tf.math.equal(ftGoals[:, 0], ftGoals[:, 1]), tf.math.less(ftGoals[:, 0], ftGoals[:, 1]))\n",
    "h = tf.transpose(h)\n",
    "print(h)\n",
    "h = tf.cast(h, dtype=tf.int32)\n",
    "print(h)\n",
    "s = tf.Variable([[0, 0, 1], []])"
   ]
  },
  {
   "cell_type": "code",
   "execution_count": null,
   "metadata": {},
   "outputs": [],
   "source": [
    "dot = tf.keras.layers.Dot(axes=(-1, -1))\n",
    "a = tf.Variable([[1,2,3], [4,5,6]])\n",
    "b = tf.Variable([[1,2,3], [4,5,6]])\n",
    "c = dot([a, b])\n",
    "print(c)"
   ]
  },
  {
   "cell_type": "code",
   "execution_count": null,
   "metadata": {},
   "outputs": [],
   "source": [
    "a = [1,2,3,4,5]\n",
    "a[0:2] = [i+10 for i in a[0:2]]\n",
    "print(a)"
   ]
  },
  {
   "cell_type": "code",
   "execution_count": null,
   "metadata": {},
   "outputs": [],
   "source": [
    "(2,3)"
   ]
  },
  {
   "cell_type": "code",
   "execution_count": null,
   "metadata": {},
   "outputs": [],
   "source": [
    "a = np.array([1,2,3])\n",
    "np.max(a)"
   ]
  },
  {
   "cell_type": "code",
   "execution_count": null,
   "metadata": {},
   "outputs": [],
   "source": [
    "a = tf.Variable([[1,2,3], [4,5,6]])\n",
    "print(a)\n",
    "tf.reshape(a, [-1])"
   ]
  },
  {
   "cell_type": "code",
   "execution_count": null,
   "metadata": {},
   "outputs": [],
   "source": [
    "\n",
    "A = tf.Variable([[1,2]])\n",
    "B = tf.Variable([[5,6]])\n",
    "rearrange([A, B], 't h w -> t (w h)')"
   ]
  },
  {
   "cell_type": "code",
   "execution_count": null,
   "metadata": {},
   "outputs": [],
   "source": [
    "p = tf.Variable([[1,2,3], [4,5,6]], dtype=tf.float32)\n",
    "a, b, c = tf.split(p, [2, 1, -1], axis=-1)\n",
    "print(a)\n",
    "print(b)\n",
    "print(c)"
   ]
  },
  {
   "cell_type": "code",
   "execution_count": null,
   "metadata": {},
   "outputs": [],
   "source": [
    "p = tf.Variable([[1,2,3], [4,5,6]], dtype=tf.float32)\n",
    "d = tf.Variable([1/2,1/2,1/2,1/2,1/2], dtype=tf.float32)\n",
    "pd = p[:, :, tf.newaxis] / d\n",
    "print(pd)"
   ]
  },
  {
   "cell_type": "code",
   "execution_count": null,
   "metadata": {},
   "outputs": [],
   "source": [
    "tf.range(3, dtype=tf.float32)"
   ]
  },
  {
   "cell_type": "code",
   "execution_count": null,
   "metadata": {},
   "outputs": [],
   "source": [
    "t1 = tf.transpose(tf.Variable([[]] * 3, dtype=tf.float32))\n",
    "t2 = tf.Variable([[7, 8, 9]], dtype=tf.float32)\n",
    "print(t1.shape, t2.shape)\n",
    "tf.concat([t1, t2], axis=0)"
   ]
  },
  {
   "cell_type": "code",
   "execution_count": null,
   "metadata": {},
   "outputs": [],
   "source": [
    "sequence = np.array([[]] * 2).T  # shape: (0, len(BBAB_cols))\n",
    "print(sequence)\n",
    "sequence = tf.Variable(sequence)\n",
    "print(sequence)\n",
    "print(tf.transpose(tf.Variable([[]] * 2, dtype=tf.float32)))"
   ]
  },
  {
   "cell_type": "code",
   "execution_count": null,
   "metadata": {},
   "outputs": [],
   "source": [
    "a = np.array([1, 2], dtype=np.float32)\n",
    "a += -10e9\n",
    "attn_coef = tf.nn.softmax(a)\n",
    "print(attn_coef)"
   ]
  },
  {
   "cell_type": "code",
   "execution_count": null,
   "metadata": {},
   "outputs": [],
   "source": [
    "mha = tf.keras.layers.MultiHeadAttention(num_heads=1, key_dim=3) #, kernel_initializer=tf.keras.initializers.identity())"
   ]
  },
  {
   "cell_type": "code",
   "execution_count": null,
   "metadata": {},
   "outputs": [],
   "source": [
    "q = tf.Variable([[[11, 132, 13], [13, 2, 3]]], dtype=tf.float32)\n",
    "x = tf.Variable([[[1, 2, 3], [21, 22, 23]]], dtype=tf.float32)\n",
    "\n",
    "mask = np.array([[[0, 0], [0, 0]]], dtype=np.int32)\n",
    "\n",
    "# mask = [[[1,1], [1,1]], [[1, 1], [1,1]]]\n",
    "print(mask)\n",
    "y = mha(query=q, value=x, key=x, attention_mask=mask)\n",
    "print(x.shape, y.shape)\n",
    "print(y)\n"
   ]
  },
  {
   "cell_type": "code",
   "execution_count": null,
   "metadata": {},
   "outputs": [],
   "source": [
    "maxTokens = 5\n",
    "tokens_batch = [2, 3, 0]\n",
    "ones_batch = [[1] * tokens + [0] * (maxTokens-tokens) for tokens in tokens_batch]\n",
    "ones_batch = np.array(ones_batch, dtype=np.int32)\n",
    "print(ones_batch.shape, ones_batch)\n"
   ]
  },
  {
   "cell_type": "code",
   "execution_count": null,
   "metadata": {},
   "outputs": [],
   "source": [
    "x = tf.Variable([[1,2,3], [4,5,6]], dtype=tf.int32)\n",
    "x0, x12, x_ = tf.split(x, num_or_size_splits=[1, 2, -1], axis=-1)\n",
    "print(x, x12, x_)\n",
    "print(x_.shape)\n",
    "y_ = tf.squeeze(x_)\n",
    "print(y_)\n",
    "tf.reshape(x_, (1,))"
   ]
  },
  {
   "cell_type": "code",
   "execution_count": null,
   "metadata": {},
   "outputs": [],
   "source": [
    "@tf.function\n",
    "def sample(inputs:tf.Tensor):                                                   # some sample function \n",
    "\n",
    "  def numpy_method(inputs:np.ndarray):\n",
    "    # some complex method \n",
    "    s = np.sqrt(inputs)# example code \n",
    "    print('s', s.shape)\n",
    "    return s\n",
    "\n",
    "  print(inputs.shape) \n",
    "  inputs=tf.numpy_function(numpy_method, [inputs],inputs.dtype,name='outputs')   # make apply numpy method\n",
    "  print(inputs.shape) \n",
    "  inputs=tf.keras.layers.AvgPool2D()(inputs)                                    # ERROR !!!!!\n",
    "\n",
    "  return inputs\n",
    "\n",
    "sample(tf.random.uniform((1,32,32,3)))"
   ]
  },
  {
   "cell_type": "code",
   "execution_count": null,
   "metadata": {},
   "outputs": [],
   "source": [
    "import numpy as np,tensorflow as tf \n",
    "@tf.function\n",
    "def sample(inputs:tf.Tensor):                                                   # some sample function \n",
    "\n",
    "  def numpy_method(inputs:np.ndarray):\n",
    "    # some complex method \n",
    "    return np.sqrt(inputs)# example code \n",
    "\n",
    "  inputs=tf.keras.layers.AvgPool2D()(inputs)                                    # works fine \n",
    "  inputs=tf.numpy_function(numpy_method,[inputs],inputs.dtype,name='outputs')   # make apply numpy method \n",
    "\n",
    "  return inputs\n",
    "\n",
    "sample(tf.random.uniform((1,32,32,3)))"
   ]
  },
  {
   "cell_type": "code",
   "execution_count": null,
   "metadata": {},
   "outputs": [],
   "source": [
    "a = tf.constant([[1,2,3],[4,5,6]], tf.int32)\n",
    "print(a)\n",
    "tf.gather_nd(a, indices=tf.constant([[0, 1], [1, 2]]))\n"
   ]
  },
  {
   "cell_type": "code",
   "execution_count": null,
   "metadata": {},
   "outputs": [],
   "source": [
    "a = tf.constant([[[1,2,3],[4,5,6]], [[11, 12, 13], [14, 15, 16]]], tf.int32)\n",
    "print(a)\n",
    "tf.gather_nd(a, indices=tf.constant([[0, 0], [1, 1]]))"
   ]
  },
  {
   "cell_type": "code",
   "execution_count": null,
   "metadata": {},
   "outputs": [],
   "source": [
    "t = tf.constant([[1,2,3,4,5,6,7], [11,12,13,14,15,16,17]])\n",
    "t0, t1, t2 = tf.split(t, num_or_size_splits=[2, 3, 2], axis=1)\n",
    "print(t0)\n",
    "print(t1)\n",
    "print(t2)"
   ]
  },
  {
   "cell_type": "code",
   "execution_count": null,
   "metadata": {},
   "outputs": [],
   "source": [
    "a = np.array([[]] * 10).T\n",
    "print(a.shape)"
   ]
  },
  {
   "cell_type": "code",
   "execution_count": null,
   "metadata": {},
   "outputs": [],
   "source": [
    "a = np.array([[], []]).T\n",
    "# print(a, a.shape)\n",
    "a = np.array([[1, 1], [2, 2], [3, 3]])\n",
    "# a = np.add(a, np.array([2, 3]), axis=0)\n",
    "a = np.append(a, [33,44], axis=0)\n",
    "print(a)"
   ]
  },
  {
   "cell_type": "code",
   "execution_count": null,
   "metadata": {},
   "outputs": [],
   "source": [
    "a = np.array(shape=(0, 10))\n",
    "print(a, a.shape)\n",
    "print(a[:, np.newaxis])"
   ]
  },
  {
   "cell_type": "code",
   "execution_count": null,
   "metadata": {},
   "outputs": [],
   "source": [
    "sequence = tf.constant([range(12), range(12)], dtype=tf.float32)\n",
    "print(sequence.shape)\n",
    "elem = tf.constant(range(12), dtype=tf.float32)\n",
    "print(elem.shape)\n",
    "block = tf.stack([elem]* (10-sequence.shape[0]), axis=0)\n",
    "# block = tf.stack([elem]* (10-tf.shape(sequence)[0]), axis=0)\n",
    "print(block.shape)\n",
    "# sequence = tf.cast(sequence, dtype=tf.float32)\n",
    "sequence = tf.concat([sequence, block], axis=0)\n",
    "print(sequence.shape)"
   ]
  },
  {
   "cell_type": "code",
   "execution_count": null,
   "metadata": {},
   "outputs": [],
   "source": [
    "indices = [0, 1, 2]\n",
    "depth = 3\n",
    "tf.one_hot(indices, depth)"
   ]
  },
  {
   "cell_type": "code",
   "execution_count": null,
   "metadata": {},
   "outputs": [],
   "source": [
    "t = tf.constant([[]])"
   ]
  },
  {
   "cell_type": "code",
   "execution_count": null,
   "metadata": {},
   "outputs": [],
   "source": [
    "t = tf.constant([])\n",
    "constant = t[:, 0]\n",
    "print(tf.shape(t)[0])\n",
    "print(constant)\n",
    "paddings = [[0, 0], [0, 4-tf.shape(t)[0]]]\n",
    "out = tf.pad(t, paddings, 'CONSTANT', constant_values=constant[tf.newaxis, :] )\n",
    "print(out)\n",
    "print(out.shape)"
   ]
  },
  {
   "cell_type": "code",
   "execution_count": null,
   "metadata": {},
   "outputs": [],
   "source": [
    "import re\n",
    "text = \"St. Kitts and Nevis\"\n",
    "re.sub(r\"\\s\", \"_\", item)\n",
    "re.sub(r'(?<=[a-zA-Z])\\s+(?=[a-zA-Z])', '_', text)"
   ]
  },
  {
   "cell_type": "code",
   "execution_count": null,
   "metadata": {},
   "outputs": [],
   "source": [
    "a = ((1, 2), (3, 4, 5))\n",
    "a = ([1, 0], [1, 2, 3], (1.187499998515625, 9.499999905, 9.499999905))\n",
    "b = np.concatenate((a[0], a[1], a[2]))\n",
    "print(b)"
   ]
  },
  {
   "cell_type": "code",
   "execution_count": null,
   "metadata": {},
   "outputs": [],
   "source": [
    "a = np.array([1,2, 3])\n",
    "b = np.array([3,4, 4])\n",
    "c = np.stack((a, b), axis=0)\n",
    "print(c)"
   ]
  },
  {
   "cell_type": "code",
   "execution_count": null,
   "metadata": {},
   "outputs": [],
   "source": [
    "tf.TensorSpec.from_tensor(tf.constant([1, 2, 3]))\n",
    "# tf.TensorSpec.from_tensor((tf.constant([1, 2, 3]), tf.constant([1, 2, 3])))"
   ]
  },
  {
   "cell_type": "code",
   "execution_count": null,
   "metadata": {},
   "outputs": [],
   "source": [
    "import data_helpers\n",
    "from config import config"
   ]
  },
  {
   "cell_type": "code",
   "execution_count": null,
   "metadata": {},
   "outputs": [],
   "source": [
    "df = data_helpers.read_large_excel(config['data'], \"contest_total_data\")\n",
    "df = data_helpers.improve_contest_data(df)\n",
    "teams = list(df['teams_home_team_id']) + list(df['teams_away_team_id'])\n",
    "teams_string = [str(team) for team in teams]\n",
    "teams_text = \" \".join(teams_string)\n",
    "\n",
    "corpus_file = \"./team_ids_text.txt\"\n",
    "f = open(corpus_file, \"w\", encoding=\"utf-8\")\n",
    "f.write(teams_text)\n",
    "f.close()"
   ]
  },
  {
   "cell_type": "code",
   "execution_count": null,
   "metadata": {},
   "outputs": [],
   "source": [
    "corpus_files = [corpus_file]\n",
    "unknown_token = \"[UNK]\"\n",
    "special_tokens = [unknown_token] + [\"[HOME]\", \"[AWAY]\"]\n",
    "vocab_size = len(teams_string) + len(special_tokens)\n",
    "\n",
    "tokenizer = data_helpers.createSimpleTokenizer(corpus_files, vocab_size, unknown_token, special_tokens)"
   ]
  },
  {
   "cell_type": "code",
   "execution_count": null,
   "metadata": {},
   "outputs": [],
   "source": [
    "encoding = tokenizer.encode(\"1 2 3 what? 333 -5 4)e_t grw0 1234 [HOME] [AWAY]\")\n",
    "# encoding = tokenizer.encode(\"\")\n",
    "print(encoding.tokens)\n",
    "print(encoding.type_ids)\n",
    "print(encoding.ids)"
   ]
  },
  {
   "cell_type": "code",
   "execution_count": null,
   "metadata": {},
   "outputs": [],
   "source": [
    "tokenizer.decode(encoding.ids)"
   ]
  }
 ],
 "metadata": {
  "kernelspec": {
   "display_name": "base",
   "language": "python",
   "name": "python3"
  },
  "language_info": {
   "codemirror_mode": {
    "name": "ipython",
    "version": 3
   },
   "file_extension": ".py",
   "mimetype": "text/x-python",
   "name": "python",
   "nbconvert_exporter": "python",
   "pygments_lexer": "ipython3",
   "version": "3.9.13"
  }
 },
 "nbformat": 4,
 "nbformat_minor": 2
}
