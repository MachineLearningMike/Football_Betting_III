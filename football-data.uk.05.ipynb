{
 "cells": [
  {
   "cell_type": "code",
   "execution_count": 1,
   "metadata": {},
   "outputs": [],
   "source": [
    "import numpy as np\n",
    "import tensorflow as tf\n",
    "# import tensorflow_datasets as tfds\n",
    "import matplotlib.pyplot as plt\n",
    "# import pandas as ps\n",
    "import time\n",
    "import re\n",
    "import os\n",
    "import shutil\n",
    "import glob\n",
    "import math\n",
    "\n",
    "# from config import config\n",
    "import data_helpers\n",
    "from data_generator import *"
   ]
  },
  {
   "cell_type": "code",
   "execution_count": 2,
   "metadata": {},
   "outputs": [],
   "source": [
    "TEST_ID = 'UK05'\n",
    "BATCH_SIZE = 16\n",
    "LOSS_RAMBDA = 0.2\n",
    "LEARNING_RATE = 0.000001\n",
    "MAE_NOT_MCE_P_LOSS = True\n",
    "TRANSFORMER_DROP = 0.1\n",
    "RE_START_FROM_BATCHING = False\n",
    "id_to_ids_filename = 'England-400-1e-07-7300-75-0.8-False'"
   ]
  },
  {
   "cell_type": "code",
   "execution_count": 3,
   "metadata": {},
   "outputs": [],
   "source": [
    "# LR: :43/(0.00001, 1.0), (0.000002, 0.5)"
   ]
  },
  {
   "cell_type": "code",
   "execution_count": 4,
   "metadata": {},
   "outputs": [],
   "source": [
    "countryDirPath = \"./data/football-data-co-uk/England\"\n",
    "df = data_helpers.get_master_df_from_football_data_co_uk(countryDirPath)"
   ]
  },
  {
   "cell_type": "code",
   "execution_count": 5,
   "metadata": {},
   "outputs": [
    {
     "name": "stdout",
     "output_type": "stream",
     "text": [
      "113\n",
      "['tottenham', 'arsenal', 'liverpool', '[UNK]', 'tottenham', 'chelsea', '[UNK]', 'man_united', '[UNK]', '[UNK]', '[UNK]']\n",
      "[0, 0, 0, 0, 0, 0, 0, 0, 0, 0, 0]\n",
      "[101, 4, 58, 0, 101, 27, 0, 62, 0, 0, 0]\n"
     ]
    },
    {
     "data": {
      "text/plain": [
       "'tottenham arsenal liverpool tottenham chelsea man_united'"
      ]
     },
     "execution_count": 5,
     "metadata": {},
     "output_type": "execute_result"
    }
   ],
   "source": [
    "tokenizer_team = creat_team_tokenizer_uk(df)\n",
    "print(tokenizer_team.get_vocab_size())\n",
    "\n",
    "teams = ['Tottenham', 'Arsenal', 'Liverpool', 'what?', 'Tottenham', 'Chelsea', 'e_t', 'Man United', '1234', '[HOME]', '[AWAY]']\n",
    "teams = [team.strip() for team in [re.sub(r\"\\s\", \"_\", item) for item in teams]]\n",
    "teams = \" \".join(teams)\n",
    "encoding = tokenizer_team.encode(teams)\n",
    "# encoding = tokenizer.encode(\"\")\n",
    "print(encoding.tokens)\n",
    "print(encoding.type_ids)\n",
    "print(encoding.ids)\n",
    "\n",
    "tokenizer_team.decode(encoding.ids)"
   ]
  },
  {
   "cell_type": "code",
   "execution_count": 6,
   "metadata": {},
   "outputs": [],
   "source": [
    "filepath = os.path.join(os.getcwd(), 'data', 'id_to_ids', id_to_ids_filename + '.json')\n",
    "id_to_ids = data_helpers.LoadJsonData(filepath)"
   ]
  },
  {
   "cell_type": "code",
   "execution_count": 7,
   "metadata": {},
   "outputs": [
    {
     "data": {
      "image/png": "[encoded data removed]",
      "text/plain": [
       "<Figure size 640x480 with 1 Axes>"
      ]
     },
     "metadata": {},
     "output_type": "display_data"
    }
   ],
   "source": [
    "lengths = [len(ids) for (tag, label, ids) in id_to_ids.values()]\n",
    "maxLen = max(lengths)\n",
    "plt.hist(lengths, np.linspace(0, int(maxLen*1.1), int(maxLen*1.1) + 1))\n",
    "plt.ylim(plt.ylim())\n",
    "maxLen = max(lengths)\n",
    "# plt.plot([maxLen, maxLen], plt.ylim())\n",
    "plt.title(f'Max length of ids: {maxLen}')\n",
    "\n",
    "MAX_TOKENS = maxLen"
   ]
  },
  {
   "cell_type": "code",
   "execution_count": 8,
   "metadata": {},
   "outputs": [
    {
     "name": "stdout",
     "output_type": "stream",
     "text": [
      "[100000, 'E0', datetime.date(2004, 1, 11), 'Man_City', 'Norwich', 1.72, 3.4, 5.0, 1.7, 3.2, 5.0, 1.65, 3.3, 4.4, 1.66, 3.1, 5.0, 1.0, 0.0, 1, 1, 'H', 'D', 19.0, 10.0, 11.0, 5.0, 9.0, 4.0, 10.0, 13.0, 1.0, 0.0, 0.0, 0.0]\n"
     ]
    }
   ],
   "source": [
    "id_cols = ['id']\n",
    "Div_cols = ['Div']\n",
    "Date_cols = ['Date']\n",
    "Team_cols = ['HomeTeam', 'AwayTeam']\n",
    "Odds_cols = ['B365H', 'B365D', 'B365A', 'BWH', 'BWD', 'BWA', 'IWH', 'IWD', 'IWA', 'WHH', 'WHD', 'WHA']\n",
    "BB_cols = id_cols + Div_cols + Date_cols + Team_cols + Odds_cols\n",
    "\n",
    "Half_Goal_cols = ['HTHG', 'HTAG']\n",
    "Full_Goal_cols = ['FTHG', 'FTAG']\n",
    "Goal_cols = Half_Goal_cols + Full_Goal_cols\n",
    "Result_cols = ['HTR', 'FTR']    # A function of Goal_cols, but contribute to better representation.\n",
    "Shoot_cols = ['HS', 'AS']\n",
    "ShootT_cols = ['HST', 'AST']\n",
    "Corner_cols = ['HC', 'AC']\n",
    "Faul_cols = ['HF', 'AF']\n",
    "Yellow_cols = ['HY', 'AY']    # H/A Yellow Cards, H/A Red Cards\n",
    "Red_cols = ['HR', 'AR']    # H/A Yellow Cards, H/A Red Cards\n",
    "AB_cols = Goal_cols + Result_cols + Shoot_cols + ShootT_cols + Corner_cols + Faul_cols + Yellow_cols + Red_cols\n",
    "\n",
    "# underscore_prefixed lists have discontinued columns.\n",
    "BBAB_cols = BB_cols + AB_cols\n",
    "_Cols_List_to_Embedd = [Div_cols, Team_cols, Goal_cols, Result_cols]\n",
    "_Cols_List_to_Standardize = [Odds_cols, Shoot_cols, ShootT_cols, Corner_cols, Faul_cols, Yellow_cols, Red_cols]\n",
    "_Cols_List_for_Label = [Full_Goal_cols, Odds_cols]\n",
    "_Label_cols = Full_Goal_cols + Odds_cols\n",
    "\n",
    "BBAB_cols = BB_cols + AB_cols\n",
    "base_bbab = list(df.loc[df['id'] == 100000, BBAB_cols].iloc[0, :])\n",
    "print(base_bbab)"
   ]
  },
  {
   "cell_type": "code",
   "execution_count": 9,
   "metadata": {},
   "outputs": [
    {
     "name": "stdout",
     "output_type": "stream",
     "text": [
      "0.08013937282229965 0.2855927650445304\n",
      "[[-0.28060715 -0.28060715]\n",
      " [-0.28060715 -0.28060715]\n",
      " [-0.28060715 -0.28060715]\n",
      " ...\n",
      " [-0.28060715 -0.28060715]\n",
      " [-0.28060715 -0.28060715]\n",
      " [-0.28060715 -0.28060715]]\n",
      "-8.619307931533026e-18 1.0\n"
     ]
    }
   ],
   "source": [
    "array = df[Red_cols]\n",
    "array = np.array(array)\n",
    "print(array.mean(), array.std())\n",
    "array = (array - array.mean()) / array.std()\n",
    "print(array)\n",
    "print(array.mean(), array.std())"
   ]
  },
  {
   "cell_type": "code",
   "execution_count": 10,
   "metadata": {},
   "outputs": [
    {
     "name": "stdout",
     "output_type": "stream",
     "text": [
      "{'B365H': (3.1630270400481795, 1.4687447460469159, 46.0), 'HS': (11.39694154084398, 4.709404811489129, 43.0), 'HST': (4.815343915343916, 2.759941394538306, 24.0), 'HC': (5.34632855852368, 2.842282967456132, 24.0), 'HF': (11.421925409730287, 3.7612036770331043, 77.0), 'HY': (1.5455413601755066, 1.2348960213340971, 11.0), 'HR': (0.08013937282229965, 0.2855927650445304, 3.0)}\n"
     ]
    }
   ],
   "source": [
    "std_path = os.path.join('./data', 'datasets', id_to_ids_filename + \".json\")\n",
    "std_params = get_standardization_params(df)\n",
    "print(std_params)\n",
    "data_helpers.SaveJsonData(std_params, std_path)\n",
    "std_params = data_helpers.LoadJsonData(std_path)"
   ]
  },
  {
   "cell_type": "code",
   "execution_count": 11,
   "metadata": {},
   "outputs": [
    {
     "data": {
      "text/plain": [
       "38745"
      ]
     },
     "execution_count": 11,
     "metadata": {},
     "output_type": "execute_result"
    }
   ],
   "source": [
    "ds_path = os.path.join('./data', 'datasets', id_to_ids_filename)\n",
    "\n",
    "# ds = generate_dataset_uk(df, id_to_ids, tokenizer_team, std_params)\n",
    "# tf.data.Dataset.save(ds, ds_path)\n",
    "\n",
    "ds = tf.data.Dataset.load(ds_path)\n",
    "len(ds)"
   ]
  },
  {
   "cell_type": "code",
   "execution_count": 12,
   "metadata": {},
   "outputs": [
    {
     "name": "stdout",
     "output_type": "stream",
     "text": [
      "tf.Tensor(128479, shape=(), dtype=int32)\n",
      "tf.Tensor(\n",
      "[ 1.2847000e+05  4.0000000e+00  1.7490000e+03  2.3000000e+01\n",
      "  7.0000000e+01 -5.1950961e-01  5.9215844e-02 -3.6972186e-01\n",
      " -5.8759499e-01  2.5173169e-02 -3.4929624e-01 -4.8546696e-01\n",
      " -1.1099753e-01 -4.8546696e-01 -4.5142427e-01 -4.2912181e-02\n",
      " -4.5142427e-01  0.0000000e+00  1.0000000e+00  0.0000000e+00\n",
      "  1.0000000e+00  3.0000000e+00  3.0000000e+00 -7.2131014e-01\n",
      " -7.2131014e-01 -2.9542074e-01 -6.5774727e-01 -8.2550842e-01\n",
      " -4.7367859e-01  4.1956636e-01  4.1956636e-01 -4.4177109e-01\n",
      "  1.1777985e+00 -2.8060716e-01 -2.8060716e-01], shape=(35,), dtype=float32)\n"
     ]
    }
   ],
   "source": [
    "cnt = 600\n",
    "for (baseId, sequence, base_bb, base_label) in ds:\n",
    "    cnt -= 1\n",
    "    if cnt == 0:\n",
    "        print(baseId)\n",
    "        print(sequence[0])\n",
    "        break\n",
    "# [div 4, teams 8, odds 12, goals 16, results 8, Shoot 2, ShootT 2;    Corner 2, Faul 2, Yellow 2, Red 2]\n",
    "# 0 Yellows -> -1.25, 0 Reds -> -.2806"
   ]
  },
  {
   "cell_type": "code",
   "execution_count": 13,
   "metadata": {},
   "outputs": [],
   "source": [
    "TRAIN_PERCENT= 90"
   ]
  },
  {
   "cell_type": "code",
   "execution_count": 14,
   "metadata": {},
   "outputs": [
    {
     "name": "stdout",
     "output_type": "stream",
     "text": [
      "34870 3875 38745 0\n"
     ]
    }
   ],
   "source": [
    "\n",
    "dataset_size = len(ds)\n",
    "train_size = int(TRAIN_PERCENT/100 * dataset_size)\n",
    "test_size = dataset_size - train_size\n",
    "\n",
    "train_ds = ds.take(train_size)\n",
    "test_ds = ds.skip(train_size)\n",
    "\n",
    "print(len(train_ds), len(test_ds), len(ds), len(ds)-len(train_ds)-len(test_ds))"
   ]
  },
  {
   "cell_type": "code",
   "execution_count": 15,
   "metadata": {},
   "outputs": [],
   "source": [
    "BUFFER_SIZE = 20000"
   ]
  },
  {
   "cell_type": "code",
   "execution_count": 16,
   "metadata": {},
   "outputs": [],
   "source": [
    "dummy_bbas_tensor = get_dummy_bbas_tensor_uk(df, tokenizer_team, std_params)"
   ]
  },
  {
   "cell_type": "code",
   "execution_count": 17,
   "metadata": {},
   "outputs": [],
   "source": [
    "def normalize_row(baseId, sequence, base_bb, base_label):\n",
    "    try:\n",
    "        seq_len_org = sequence.shape[0]\n",
    "        nMissings = MAX_TOKENS - seq_len_org    # MAX_TOKENS - tf.shape(sequence)[0].numpy()\n",
    "        if nMissings > 0:\n",
    "            block = tf.stack([dummy_bbas_tensor] * nMissings, axis=0)\n",
    "            sequence = tf.concat([sequence, block], axis=0) \n",
    "        # print(\"sequence 1\", sequence.shape)\n",
    "        # sequence[:, 2] = base[2] - sequence[:, 2]   # get delta days.\n",
    "        base_bb = base_bb[tf.newaxis, :]    # shape: (seq_len = 1, nFeatures)\n",
    "        mask = tf.Variable([1] * seq_len_org + [0] * nMissings, dtype=tf.int32) ## DO NOT USE tf.constant !!! unstable.\n",
    "        mask = mask[:, tf.newaxis] & mask[tf.newaxis, :]\n",
    "        # print('normalize', sequence.shape, base.shape, mask.shape, mask)\n",
    "        # seq_len_org = tf.Variable(seq_len_org, dtype=tf.int32)    #--------------------------------- comeback\n",
    "        return (baseId, sequence, base_bb, base_label, mask, seq_len_org)\n",
    "    except:\n",
    "        print('normalize_row exception')\n",
    "        print('norm 1', sequence.shape, base_bb.shape, base_label.shape, mask.shape, nMissings)\n",
    "        print('norm 2', baseId, sequence, base_label, mask, nMissings)\n",
    "        # return (baseId, sequence, base_bb, base_label, mask, seq_len_org)"
   ]
  },
  {
   "cell_type": "code",
   "execution_count": 18,
   "metadata": {},
   "outputs": [
    {
     "name": "stdout",
     "output_type": "stream",
     "text": [
      "tf.Tensor(128479, shape=(), dtype=int32)\n",
      "tf.Tensor(\n",
      "[ 1.2847000e+05  4.0000000e+00  1.7490000e+03  2.3000000e+01\n",
      "  7.0000000e+01 -5.1950961e-01  5.9215844e-02 -3.6972186e-01\n",
      " -5.8759499e-01  2.5173169e-02 -3.4929624e-01 -4.8546696e-01\n",
      " -1.1099753e-01 -4.8546696e-01 -4.5142427e-01 -4.2912181e-02\n",
      " -4.5142427e-01  0.0000000e+00  1.0000000e+00  0.0000000e+00\n",
      "  1.0000000e+00  3.0000000e+00  3.0000000e+00 -7.2131014e-01\n",
      " -7.2131014e-01 -2.9542074e-01 -6.5774727e-01 -8.2550842e-01\n",
      " -4.7367859e-01  4.1956636e-01  4.1956636e-01 -4.4177109e-01\n",
      "  1.1777985e+00 -2.8060716e-01 -2.8060716e-01], shape=(35,), dtype=float32)\n"
     ]
    }
   ],
   "source": [
    "cnt = 600\n",
    "for (baseId, sequence, base_bb, base_label) in train_ds:\n",
    "    z = normalize_row(baseId, sequence, base_bb, base_label)\n",
    "    cnt -= 1\n",
    "    if cnt == 0:\n",
    "        print(baseId)\n",
    "        print(sequence[0])\n",
    "        break\n",
    "# [div 4, teams 8, odds 12, goals 16, results 8, Shoot 2, ShootT 2;    Corner 2, Faul 2, Yellow 2, Red 2]\n",
    "# 0 Yellows -> -1.25, 0 Reds -> -.2806"
   ]
  },
  {
   "cell_type": "code",
   "execution_count": 19,
   "metadata": {},
   "outputs": [],
   "source": [
    "class hyperparams:    \n",
    "    nDivisions = 4 + 1  # E0, E1, E2, E3, and Unknown\n",
    "    division_embs = 4\n",
    "    nTeams = tokenizer_team.get_vocab_size()    # including Unknown\n",
    "    team_embs = 50\n",
    "    nGoals  = 10  # 0..9. 0 for 0 goals not for Unknown.\n",
    "    goal_embs = 4\n",
    "    nResults = 4    # HWin, Draw, AWin, and Unknown\n",
    "    result_embs = 4\n",
    "    # Mate d_model an even number!!!\n",
    "    d_model = get_std_size()    + division_embs * len(Div_cols) + team_embs * len(Team_cols) \\\n",
    "                                + goal_embs * len(Goal_cols) + result_embs * len(Result_cols)\n",
    "    batch_size = BATCH_SIZE\n",
    "    max_tokens = MAX_TOKENS\n",
    "    days_spanning_years = 30\n",
    "    num_heads = 10\n",
    "    num_layers = 6\n",
    "    memory_365_size = 10\n",
    "    # d_model = team_emb_size * 2 + country_emb_size * 3 + odds_size + outcome_size\n"
   ]
  },
  {
   "cell_type": "code",
   "execution_count": 20,
   "metadata": {},
   "outputs": [],
   "source": [
    "def prepare_batch(baseId, sequence, base_bb, base_label, mask, seq_len_org):\n",
    "    # target = tf.one_hot(tf.squeeze(tf.cast(base_bbab[:, :, -1], dtype=tf.int32), axis=-1), hyperparams.target_onehot_size)\n",
    "    \n",
    "    return (baseId, sequence, base_bb, mask), (base_label, seq_len_org)     # (X, Y)"
   ]
  },
  {
   "cell_type": "code",
   "execution_count": 21,
   "metadata": {},
   "outputs": [],
   "source": [
    "def make_batches(ds):\n",
    "    return (\n",
    "        ds\n",
    "        .shuffle(BUFFER_SIZE)\n",
    "        .map(lambda baseId, sequence, base_bb, base_label: tf.py_function(\n",
    "            func=normalize_row,\n",
    "            inp=[baseId, sequence, base_bb, base_label],\n",
    "            Tout=[tf.int32, tf.float32, tf.float32, tf.float32, tf.int32, tf.int32])) #, tf.data.AUTOTUNE == Instability!!!\n",
    "        .batch(BATCH_SIZE)\n",
    "        .map(prepare_batch, tf.data.AUTOTUNE)\n",
    "        .cache()\n",
    "        .prefetch(buffer_size=tf.data.AUTOTUNE)\n",
    "        )\n",
    "# Normalize_row\n",
    "# In: baseId, sequence, base_bb, base_label\n",
    "# Out: baseId, sequence, base_bb, base_label, mask, seq_len_org"
   ]
  },
  {
   "cell_type": "code",
   "execution_count": 22,
   "metadata": {},
   "outputs": [],
   "source": [
    "train_ds_path = os.path.join('./data', 'datasets', id_to_ids_filename + '_train_batch_' + TEST_ID)\n",
    "\n",
    "if RE_START_FROM_BATCHING:\n",
    "    if os.path.exists(train_ds_path):\n",
    "        shutil.rmtree(train_ds_path)\n",
    "        # os.remove(train_ds_path)  # Access denied\n",
    "    print('Creating train batch dataset...', end='')\n",
    "    train_batches = make_batches(train_ds)\n",
    "    tf.data.Dataset.save(train_batches, train_ds_path)\n",
    "    print('done')\n",
    "else:\n",
    "    try:\n",
    "        train_batches = tf.data.Dataset.load(train_ds_path)\n",
    "    except:\n",
    "        print('Creating train batch dataset...', end='')\n",
    "        train_batches = make_batches(train_ds)\n",
    "        tf.data.Dataset.save(train_batches, train_ds_path)\n",
    "        print('done')"
   ]
  },
  {
   "cell_type": "code",
   "execution_count": 23,
   "metadata": {},
   "outputs": [],
   "source": [
    "test_ds_path = os.path.join('./data', 'datasets', id_to_ids_filename + '_test_batch_' + TEST_ID)\n",
    "\n",
    "if RE_START_FROM_BATCHING:\n",
    "    if os.path.exists(test_ds_path):\n",
    "        shutil.rmtree(test_ds_path)\n",
    "        # os.remove(test_ds_path)   # Access denied\n",
    "    print('Creating test batch dataset...', end='')\n",
    "    test_batches = make_batches(test_ds)\n",
    "    tf.data.Dataset.save(test_batches, test_ds_path)\n",
    "    print('done')\n",
    "try:\n",
    "    test_batches = tf.data.Dataset.load(test_ds_path)\n",
    "except:\n",
    "    print('Creating test batch dataset...', end='')\n",
    "    test_batches = make_batches(test_ds)\n",
    "    tf.data.Dataset.save(test_batches, test_ds_path)\n",
    "    print('done')"
   ]
  },
  {
   "cell_type": "code",
   "execution_count": 24,
   "metadata": {},
   "outputs": [],
   "source": [
    "def positional_encoding(memory, depth):\n",
    "    positions = tf.range(memory.shape[-1], dtype=tf.float32)\n",
    "    fractional_pos = memory * positions    # fractional position: (batch, fractional position #)\n",
    "    depth = depth/2\n",
    "    depths = tf.range(depth, dtype=tf.float32) / depth\n",
    "    depths = tf.pow(10000.0, depths)    # (depth,)\n",
    "    angle_rads = fractional_pos[:, :, tf.newaxis] / depths  # (batch, fractional position #, depth)\n",
    "    # pos_encoding = rearrange([tf.math.sin(angle_rads), tf.math.cos(angle_rads)], 'w b p d -> w h (w t)')\n",
    "    pos_encoding = tf.concat([tf.math.sin(angle_rads), tf.math.cos(angle_rads)], axis=-1)\n",
    "    return pos_encoding"
   ]
  },
  {
   "cell_type": "code",
   "execution_count": 25,
   "metadata": {},
   "outputs": [
    {
     "data": {
      "image/png": "[encoded data removed]",
      "text/plain": [
       "<Figure size 640x480 with 2 Axes>"
      ]
     },
     "metadata": {},
     "output_type": "display_data"
    }
   ],
   "source": [
    "memory = tf.ones((100, 200), dtype=tf.float32) * 0.5\n",
    "pos_encoding = positional_encoding(memory, depth=512)\n",
    "# print('pos_encoding', pos_encoding.shape)\n",
    "pos_encoding = pos_encoding[0, :, :]\n",
    "# print(pos_encoding.shape)\n",
    "# Plot the dimensions.\n",
    "plt.pcolormesh(pos_encoding.numpy().T, cmap='RdBu')\n",
    "plt.ylabel('Depth')\n",
    "plt.xlabel('Position')\n",
    "plt.colorbar()\n",
    "plt.show()"
   ]
  },
  {
   "cell_type": "code",
   "execution_count": 26,
   "metadata": {},
   "outputs": [],
   "source": [
    "id_cols = ['id']\n",
    "Div_cols = ['Div']\n",
    "Date_cols = ['Date']\n",
    "Team_cols = ['HomeTeam', 'AwayTeam']\n",
    "Odds_cols = ['B365H', 'B365D', 'B365A', 'BWH', 'BWD', 'BWA', 'IWH', 'IWD', 'IWA', 'WHH', 'WHD', 'WHA']\n",
    "BB_cols = id_cols + Div_cols + Date_cols + Team_cols + Odds_cols\n",
    "\n",
    "Half_Goal_cols = ['HTHG', 'HTAG']\n",
    "Full_Goal_cols = ['FTHG', 'FTAG']\n",
    "Goal_cols = Half_Goal_cols + Full_Goal_cols\n",
    "Result_cols = ['HTR', 'FTR']    # A function of Goal_cols, but contribute to better representation.\n",
    "Shoot_cols = ['HS', 'AS']\n",
    "ShootT_cols = ['HST', 'AST']\n",
    "Corner_cols = ['HC', 'AC']\n",
    "Faul_cols = ['HF', 'AF']\n",
    "Yellow_cols = ['HY', 'AY']    # H/A Yellow Cards, H/A Red Cards\n",
    "Red_cols = ['HR', 'AR']    # H/A Yellow Cards, H/A Red Cards\n",
    "AB_cols = Goal_cols + Result_cols + Shoot_cols + ShootT_cols + Corner_cols + Faul_cols + Yellow_cols + Red_cols"
   ]
  },
  {
   "cell_type": "code",
   "execution_count": 27,
   "metadata": {},
   "outputs": [],
   "source": [
    "class PositionalEmbedding(tf.keras.layers.Layer):\n",
    "  def __init__(self, hyperparams, isEncoder=True):\n",
    "    super().__init__()\n",
    "    self.isEncoder = isEncoder\n",
    "    self.division_embedding = tf.keras.layers.Embedding(hyperparams.nDivisions, hyperparams.division_embs, dtype=tf.float32, mask_zero=False) # Learn Unknown\n",
    "    self.team_embedding = tf.keras.layers.Embedding(hyperparams.nTeams, hyperparams.team_embs, dtype=tf.float32, mask_zero=False) # Learn Unknown\n",
    "    self.goal_embedding = tf.keras.layers.Embedding(hyperparams.nGoals, hyperparams.goal_embs, dtype=tf.float32, mask_zero=False) # Learn 0-goal\n",
    "    self.result_embedding = tf.keras.layers.Embedding(hyperparams.nResults, hyperparams.result_embs, dtype=tf.float32, mask_zero=False) # Learn Unknown\n",
    "\n",
    "    self.d_model = hyperparams.d_model\n",
    "    # print(self.d_model)\n",
    "    self.position_permuting_dense = tf.keras.layers.Dense(self.d_model)\n",
    "    vocab_size = 1 + 1 # 1 for padding, 1 for our parameters.\n",
    "    self.memory_365_embedding = tf.keras.layers.Embedding(vocab_size, hyperparams.memory_365_size, mask_zero=False, embeddings_initializer = tf.keras.initializers.Ones())\n",
    "\n",
    "    self.idx_Days = BB_cols.index('Date')\n",
    "    assert self.idx_Days == BBAB_cols.index('Date')\n",
    "\n",
    "  def call(self, x):\n",
    "    # print('x', x[0].shape, x[1].shape)\n",
    "    (sequence, base_bb, mask) = x # sob = sequence or base_bb\n",
    "    sDays = sequence[:, :, self.idx_Days]\n",
    "    bDays = base_bb[:, :, self.idx_Days]\n",
    "    # print('days shapes', days.shape)\n",
    "    \n",
    "    # BB_cols = id_cols + Div_cols + Date_cols + Team_cols + Odds_cols\n",
    "    # AB_cols = Goal_cols + Result_cols + Shoot_cols + ShootT_cols + Corner_cols + Faul_cols + Yellow_cols + Red_cols\n",
    "\n",
    "    sob = None\n",
    "    if self.isEncoder:\n",
    "      sob = sequence\n",
    "    else:\n",
    "      sob = base_bb\n",
    "\n",
    "    if self.isEncoder:\n",
    "      id, div, days, teams, odds, goals, results, remainder \\\n",
    "      = tf.split(sob, [len(id_cols), len(Div_cols), len(Date_cols), len(Team_cols), len(Odds_cols), len(Goal_cols), len(Result_cols),  -1], axis=-1)\n",
    "      # print('1', remainder[0, 0])\n",
    "    else:\n",
    "      id, div, days, teams, remainder \\\n",
    "      = tf.split(sob, [len(id_cols), len(Div_cols), len(Date_cols), len(Team_cols), -1], axis=-1)  \n",
    "      # print('2', remainder[0, 0])  \n",
    "\n",
    "    div = self.division_embedding(tf.cast(div, dtype=tf.int32))\n",
    "    div = tf.reshape(div, [div.shape[0], div.shape[1], -1])\n",
    "    teams = self.team_embedding(tf.cast(teams, dtype=tf.int32))\n",
    "    teams = tf.reshape(teams, [teams.shape[0], teams.shape[1], -1])\n",
    "    if self.isEncoder:\n",
    "      goals = self.goal_embedding(tf.cast(goals, dtype=tf.int32))\n",
    "      goals = tf.clip_by_value(goals, 0, hyperparams.nGoals)\n",
    "      goals = tf.reshape(goals, [goals.shape[0], goals.shape[1], -1])\n",
    "      results = self.result_embedding(tf.cast(results, dtype=tf.int32))\n",
    "      results = tf.reshape(results, [results.shape[0], results.shape[1], -1])\n",
    "    \n",
    "    if self.isEncoder:\n",
    "      concat = [div, teams, odds, goals, results, remainder]\n",
    "      # print('10', div.shape, teams.shape, odds.shape, goals.shape, results.shape, remainder.shape)\n",
    "      # print('11', remainder[0,0])\n",
    "    else:\n",
    "      concat = [div, teams, remainder]\n",
    "      # print('22', remainder[0,0])\n",
    "\n",
    "    sob = tf.concat(concat, axis=-1)\n",
    "    sob = self.position_permuting_dense(sob)  #====================================================\n",
    "    # print('33', sob[0][0])\n",
    "\n",
    "    days_ago = tf.cast(bDays - sDays, dtype=tf.float32) if self.isEncoder else tf.cast(bDays - bDays, dtype=tf.float32)\n",
    "    # print('days_ago', days_ago.shape) # (batch, seq_len)\n",
    "    # Do not use tf.zeros, because it's padding token and gives zeros.\n",
    "    initial_memory_365 = 0.8\n",
    "    memory_365 = self.memory_365_embedding(tf.ones_like((hyperparams.memory_365_size,), dtype=tf.float32)) * initial_memory_365  # expected shape: (1, hyperparams.remain_365_size,)\n",
    "    memory_365 = tf.squeeze(memory_365, axis=0)\n",
    "    # print('memory_365 1', memory_365.shape, memory_365) # (hyperparams.memory_365,)\n",
    "    # It may be disastrous if some of remain_365 gets larger than 1. \n",
    "    memory_365 = tf.clip_by_value(memory_365, 0.01, 1.0)  # Is clip differentiable?\n",
    "    # print('remmemory_365 2', memory_365.shape) # (hyperparams.memory_365,)\n",
    "    # print('memory_365', memory_365)\n",
    "    alpha = tf.math.pow(memory_365, -1.0/365) # (hyperparams.memory_365,)\n",
    "    memory = tf.math.pow(alpha, -days_ago[:, :, tf.newaxis])  # decrease as days_ago increase.  memory <= 1.0\n",
    "    # print('memory org', memory.shape) # (batch, max_seq_len, hyperparams.memory_365)\n",
    "    # print('memory[0,0,:]', memory[0, 0, :])\n",
    "    memory = tf.reduce_mean(memory, axis=-1)\n",
    "    # print('memory', memory.shape) # (batch, max_seq_len)\n",
    "\n",
    "    pe = positional_encoding(memory, depth=sob.shape[-1])\n",
    "    # print('x, pe, d_model', x.shape, pe.shape, self.d_model)\n",
    "\n",
    "    # This factor sets the relative scale of the embedding and positonal_encoding.\n",
    "    pe = pe / tf.math.sqrt(tf.cast(sob.shape[-1], tf.float32)) #=================================\n",
    "\n",
    "    sob = sob + pe  # comeback\n",
    "\n",
    "    if self.isEncoder:\n",
    "      mask = mask\n",
    "    else:\n",
    "      mask = mask[:, 0:sob.shape[1], :]\n",
    "\n",
    "    return (sob, mask)"
   ]
  },
  {
   "cell_type": "code",
   "execution_count": 28,
   "metadata": {},
   "outputs": [
    {
     "name": "stdout",
     "output_type": "stream",
     "text": [
      "(16, 400, 152) (16, 400, 400)\n"
     ]
    }
   ],
   "source": [
    "pos = PositionalEmbedding(hyperparams, isEncoder=True)\n",
    "\n",
    "cnt = 2\n",
    "for z in train_batches:\n",
    "    (baseId, sequence, base_bb, mask), (base_label, seq_len_org) = z\n",
    "    cnt -= 1\n",
    "    if cnt == 0: break\n",
    "# print('baseId', baseId)\n",
    "x = (sequence, base_bb, mask)\n",
    "eSob, eMask = pos.call(x)\n",
    "print(eSob.shape, eMask.shape)"
   ]
  },
  {
   "cell_type": "code",
   "execution_count": 29,
   "metadata": {},
   "outputs": [
    {
     "name": "stdout",
     "output_type": "stream",
     "text": [
      "[(5, 4), (113, 50), (10, 4), (4, 4), (152, 152), (152,), (2, 10)]\n"
     ]
    }
   ],
   "source": [
    "ws = pos.get_weights()\n",
    "shapes = [w.shape for w in ws]\n",
    "print(shapes)\n",
    "del pos\n",
    "# div (nDiv, embs), (nTeam, embs), (nGoals, embs), (nResults, embs), \n",
    "# (position_permuting_dense: d_model, d_model), (???: d_model,), (memory_365_embedding: 2, memory_365_size)"
   ]
  },
  {
   "cell_type": "code",
   "execution_count": 30,
   "metadata": {},
   "outputs": [
    {
     "name": "stdout",
     "output_type": "stream",
     "text": [
      "(16, 1, 152) (16, 1, 400)\n"
     ]
    }
   ],
   "source": [
    "pos = PositionalEmbedding(hyperparams, isEncoder=False)\n",
    "\n",
    "cnt = 1\n",
    "for z in train_batches:\n",
    "    (baseId, sequence, base_bb, mask), (base_label, seq_len_org) = z\n",
    "    cnt -= 1\n",
    "    if cnt == 0: break\n",
    "x = (sequence, base_bb, mask)\n",
    "dSob, dMask = pos.call(x)\n",
    "print(dSob.shape, dMask.shape)"
   ]
  },
  {
   "cell_type": "code",
   "execution_count": 31,
   "metadata": {},
   "outputs": [
    {
     "name": "stdout",
     "output_type": "stream",
     "text": [
      "[(5, 4), (113, 50), (116, 152), (152,), (2, 10)]\n"
     ]
    }
   ],
   "source": [
    "ws = pos.get_weights()\n",
    "shapes = [w.shape for w in ws]\n",
    "print(shapes)\n",
    "del pos\n",
    "# div (nDiv, embs), (nTeam, embs), \n",
    "# (position_permuting_dense: d_model, d_model), (???: d_model,), (memory_365_embedding: 2, memory_365_size)"
   ]
  },
  {
   "cell_type": "code",
   "execution_count": 32,
   "metadata": {},
   "outputs": [],
   "source": [
    "class BaseAttention(tf.keras.layers.Layer):\n",
    "  def __init__(self, **kwargs):\n",
    "    super().__init__()\n",
    "    self.mha = tf.keras.layers.MultiHeadAttention(**kwargs)\n",
    "    self.layernorm = tf.keras.layers.LayerNormalization()   # So the default -1 axix is normalized across. No inter-token operatoin.\n",
    "    self.add = tf.keras.layers.Add()"
   ]
  },
  {
   "cell_type": "code",
   "execution_count": 33,
   "metadata": {},
   "outputs": [],
   "source": [
    "class CrossAttention(BaseAttention):\n",
    "  def call(self, x, context, mask):\n",
    "    attn_output, attn_scores = self.mha(\n",
    "        query=x,\n",
    "        key=context,\n",
    "        value=context,\n",
    "        attention_mask=mask,\n",
    "        return_attention_scores=True)\n",
    "   \n",
    "    # Cache the attention scores for plotting later.\n",
    "    self.last_attn_scores = attn_scores\n",
    "\n",
    "    x = self.add([x, attn_output])\n",
    "    x = self.layernorm(x)\n",
    "\n",
    "    return x"
   ]
  },
  {
   "cell_type": "code",
   "execution_count": 34,
   "metadata": {},
   "outputs": [
    {
     "name": "stdout",
     "output_type": "stream",
     "text": [
      "(16, 400, 152) (16, 400, 400)\n"
     ]
    }
   ],
   "source": [
    "PE = PositionalEmbedding(hyperparams, isEncoder=True)\n",
    "eSob, eMask = PE(x)\n",
    "print(eSob.shape, eMask.shape )"
   ]
  },
  {
   "cell_type": "code",
   "execution_count": 35,
   "metadata": {},
   "outputs": [
    {
     "name": "stdout",
     "output_type": "stream",
     "text": [
      "(16, 1, 152) (16, 1, 400)\n"
     ]
    }
   ],
   "source": [
    "PE = PositionalEmbedding(hyperparams, isEncoder=False)\n",
    "dSob, dMask = PE(x)\n",
    "print(dSob.shape, dMask.shape )"
   ]
  },
  {
   "cell_type": "code",
   "execution_count": 36,
   "metadata": {},
   "outputs": [
    {
     "name": "stdout",
     "output_type": "stream",
     "text": [
      "(16, 1, 152)\n"
     ]
    }
   ],
   "source": [
    "sample_ca = CrossAttention(num_heads=2, key_dim=hyperparams.d_model)\n",
    "print(sample_ca(dSob, eSob, dMask).shape)"
   ]
  },
  {
   "cell_type": "code",
   "execution_count": 37,
   "metadata": {},
   "outputs": [],
   "source": [
    "class GlobalSelfAttention(BaseAttention): \n",
    "  def call(self, x, mask):\n",
    "    attn_output = self.mha(\n",
    "        query=x,\n",
    "        value=x,\n",
    "        key=x,\n",
    "        attention_mask=mask)    # intentional inter-token operation\n",
    "    x = self.add([x, attn_output])  # token-wise\n",
    "    x = self.layernorm(x)         # normalize across the default -1 axis. No inter-token operatoin.\n",
    "    return x"
   ]
  },
  {
   "cell_type": "code",
   "execution_count": 38,
   "metadata": {},
   "outputs": [
    {
     "name": "stdout",
     "output_type": "stream",
     "text": [
      "(16, 400, 152)\n"
     ]
    }
   ],
   "source": [
    "sample_gsa = GlobalSelfAttention(num_heads=2, key_dim=hyperparams.d_model)\n",
    "print(sample_gsa(eSob, eMask).shape)\n",
    "del sample_gsa"
   ]
  },
  {
   "cell_type": "code",
   "execution_count": 39,
   "metadata": {},
   "outputs": [],
   "source": [
    "class CausalSelfAttention(BaseAttention): # mask-agnostic\n",
    "  def call(self, x):\n",
    "    attn_output = self.mha(\n",
    "        query=x,\n",
    "        value=x,\n",
    "        key=x,\n",
    "        use_causal_mask = True)     # look-over mask is generagted and used, in decoder layers\n",
    "    x = self.add([x, attn_output])  # mask-agnostic\n",
    "    x = self.layernorm(x)  # normalize across the default -1 axis. No inter-token operatoin.\n",
    "    return x"
   ]
  },
  {
   "cell_type": "code",
   "execution_count": 40,
   "metadata": {},
   "outputs": [
    {
     "name": "stdout",
     "output_type": "stream",
     "text": [
      "(16, 1, 152)\n"
     ]
    }
   ],
   "source": [
    "sample_csa = CausalSelfAttention(num_heads=2, key_dim=hyperparams.d_model)\n",
    "print(sample_csa(dSob).shape)\n",
    "del sample_csa"
   ]
  },
  {
   "cell_type": "code",
   "execution_count": 41,
   "metadata": {},
   "outputs": [],
   "source": [
    "class FeedForward(tf.keras.layers.Layer):\n",
    "  def __init__(self, d_model, dff, dropout_rate=0.1):\n",
    "    super().__init__()\n",
    "    self.seq = tf.keras.Sequential([\n",
    "      tf.keras.layers.Dense(dff, activation='relu'),    # across -1 axis\n",
    "      tf.keras.layers.Dense(d_model),    # across -1 axis\n",
    "      tf.keras.layers.Dropout(dropout_rate)    # mask-agnostic\n",
    "    ])\n",
    "    self.add = tf.keras.layers.Add()\n",
    "    self.layer_norm = tf.keras.layers.LayerNormalization()\n",
    "\n",
    "  def call(self, x):\n",
    "    x = self.add([x, self.seq(x)])  # mask-agnostic\n",
    "    x = self.layer_norm(x)  # normalize across the default -1 axis. No inter-token operatoin.\n",
    "    return x"
   ]
  },
  {
   "cell_type": "code",
   "execution_count": 42,
   "metadata": {},
   "outputs": [
    {
     "name": "stdout",
     "output_type": "stream",
     "text": [
      "(16, 400, 152)\n"
     ]
    }
   ],
   "source": [
    "sample_ffn = FeedForward(hyperparams.d_model, hyperparams.d_model * 4)\n",
    "print(sample_ffn(eSob).shape)\n",
    "del sample_ffn"
   ]
  },
  {
   "cell_type": "code",
   "execution_count": 43,
   "metadata": {},
   "outputs": [],
   "source": [
    "class EncoderLayer(tf.keras.layers.Layer):\n",
    "  def __init__(self,*, d_model, num_heads, dff, dropout_rate=0.1):\n",
    "    super().__init__()\n",
    "\n",
    "    self.self_attention = GlobalSelfAttention(\n",
    "        num_heads=num_heads,\n",
    "        key_dim=d_model,\n",
    "        dropout=dropout_rate)\n",
    "\n",
    "    self.ffn = FeedForward(d_model, dff)\n",
    "\n",
    "  def call(self, x, mask):\n",
    "    x = self.self_attention(x, mask)\n",
    "    x = self.ffn(x)\n",
    "    return x"
   ]
  },
  {
   "cell_type": "code",
   "execution_count": 44,
   "metadata": {},
   "outputs": [
    {
     "name": "stdout",
     "output_type": "stream",
     "text": [
      "(16, 400, 152)\n"
     ]
    }
   ],
   "source": [
    "sample_encoder_layer = EncoderLayer(d_model=hyperparams.d_model, num_heads=hyperparams.num_heads, dff=hyperparams.d_model * 4)\n",
    "print(sample_encoder_layer(eSob, eMask).shape)\n",
    "del sample_encoder_layer"
   ]
  },
  {
   "cell_type": "code",
   "execution_count": 45,
   "metadata": {},
   "outputs": [],
   "source": [
    "class Encoder(tf.keras.layers.Layer):\n",
    "  def __init__(self, hyperparams, dropout_rate=0.1):\n",
    "    super().__init__()\n",
    "\n",
    "    self.d_model = hyperparams.d_model\n",
    "    self.num_layers = hyperparams.num_layers\n",
    "\n",
    "    self.pos_embedding = PositionalEmbedding(hyperparams)\n",
    "\n",
    "    self.dropout = tf.keras.layers.Dropout(dropout_rate)\n",
    "    self.enc_layers = [\n",
    "        EncoderLayer(d_model=hyperparams.d_model,\n",
    "                     num_heads=hyperparams.num_heads,\n",
    "                     dff=hyperparams.d_model * 4,\n",
    "                     dropout_rate=dropout_rate)\n",
    "        for _ in range(hyperparams.num_layers)]\n",
    "\n",
    "  def call(self, x):\n",
    "    x, mask = self.pos_embedding(x)  # output Shape `(batch_size, seq_len, d_model)`.\n",
    "\n",
    "    x = self.dropout(x)\n",
    "    for encoder_layer in self.enc_layers:\n",
    "      x = encoder_layer(x, mask)\n",
    "\n",
    "    return x  # Shape `(batch_size, seq_len, d_model)`."
   ]
  },
  {
   "cell_type": "code",
   "execution_count": 46,
   "metadata": {},
   "outputs": [
    {
     "name": "stdout",
     "output_type": "stream",
     "text": [
      "(16, 400, 152)\n"
     ]
    }
   ],
   "source": [
    "sample_encoder = Encoder(hyperparams)\n",
    "for z in train_batches:\n",
    "    (baseId, sequence, base_bb, mask), (base_label, seq_len_org) = z\n",
    "    x = (sequence, base_bb, mask)\n",
    "    sample_encoder_output = sample_encoder(x)\n",
    "    print(sample_encoder_output.shape)\n",
    "    break\n",
    "del sample_encoder"
   ]
  },
  {
   "cell_type": "code",
   "execution_count": 47,
   "metadata": {},
   "outputs": [],
   "source": [
    "class DecoderLayer(tf.keras.layers.Layer):\n",
    "  def __init__(self,\n",
    "               *,\n",
    "               d_model,\n",
    "               num_heads,\n",
    "               dff,\n",
    "               dropout_rate=0.1):\n",
    "    super(DecoderLayer, self).__init__()\n",
    "\n",
    "    self.causal_self_attention = CausalSelfAttention(\n",
    "        num_heads=num_heads,\n",
    "        key_dim=d_model,\n",
    "        dropout=dropout_rate)\n",
    "    \n",
    "    self.cross_attention = CrossAttention(\n",
    "        num_heads=num_heads,\n",
    "        key_dim=d_model,\n",
    "        dropout=dropout_rate)\n",
    "\n",
    "    self.ffn = FeedForward(d_model, dff)\n",
    "\n",
    "  def call(self, x, context, cross_attention_mask):\n",
    "    x = self.causal_self_attention(x=x)\n",
    "    x = self.cross_attention(x, context, cross_attention_mask)\n",
    "\n",
    "    # Cache the last attention scores for plotting later\n",
    "    self.last_attn_scores = self.cross_attention.last_attn_scores\n",
    "\n",
    "    x = self.ffn(x)  # Shape `(batch_size, seq_len, d_model)`.\n",
    "    return x"
   ]
  },
  {
   "cell_type": "code",
   "execution_count": 48,
   "metadata": {},
   "outputs": [
    {
     "name": "stdout",
     "output_type": "stream",
     "text": [
      "(16, 400, 152)\n"
     ]
    }
   ],
   "source": [
    "sample_decoder_layer = DecoderLayer(d_model=hyperparams.d_model, num_heads=hyperparams.num_heads, dff=hyperparams.d_model * 4)\n",
    "print(sample_decoder_layer(dSob, eSob, eMask).shape)\n",
    "del sample_decoder_layer"
   ]
  },
  {
   "cell_type": "code",
   "execution_count": 49,
   "metadata": {},
   "outputs": [],
   "source": [
    "class Decoder(tf.keras.layers.Layer):\n",
    "  def __init__(self, hyperparams, dropout_rate=0.1):\n",
    "    super(Decoder, self).__init__()\n",
    "\n",
    "    self.d_model = hyperparams.d_model\n",
    "    self.num_layers = hyperparams.num_layers\n",
    "\n",
    "    self.pos_embedding = PositionalEmbedding(hyperparams, isEncoder=False)\n",
    "\n",
    "    self.dropout = tf.keras.layers.Dropout(dropout_rate)\n",
    "    self.dec_layers = [\n",
    "        DecoderLayer(d_model=hyperparams.d_model, num_heads=hyperparams.num_heads,\n",
    "                     dff=hyperparams.d_model * 4, dropout_rate=dropout_rate)\n",
    "        for _ in range(hyperparams.num_layers)]\n",
    "\n",
    "    self.last_attn_scores = None\n",
    "\n",
    "  def call(self, x, context):\n",
    "    # `x` is token-IDs shape (batch, target_seq_len)\n",
    "    x, cross_attention_mask = self.pos_embedding(x)  # (batch_size, target_seq_len, d_model)\n",
    "    # print('decoder input x, cross_attention_mask', x.shape, cross_attention_mask.shape)\n",
    "    \n",
    "    x = self.dropout(x)\n",
    "    for decoder_layer in self.dec_layers:\n",
    "      x  = decoder_layer(x, context, cross_attention_mask)\n",
    "    self.last_attn_scores = self.dec_layers[-1].last_attn_scores\n",
    "\n",
    "    # The shape of x is (batch_size, target_seq_len, d_model).\n",
    "    return x"
   ]
  },
  {
   "cell_type": "code",
   "execution_count": 50,
   "metadata": {},
   "outputs": [
    {
     "name": "stdout",
     "output_type": "stream",
     "text": [
      "(16, 1, 152)\n"
     ]
    }
   ],
   "source": [
    "sample_decoder = Decoder(hyperparams)\n",
    "for z in train_batches:\n",
    "    (baseId, sequence, base_bb, mask), (base_label, seq_len_org) = z\n",
    "    x = (sequence, base_bb, mask)\n",
    "    break\n",
    "print(sample_decoder(x, eSob).shape)\n",
    "del sample_decoder"
   ]
  },
  {
   "cell_type": "code",
   "execution_count": 51,
   "metadata": {},
   "outputs": [],
   "source": [
    "class Transformer(tf.keras.Model):\n",
    "  def __init__(self, hyperparams, dropout_rate=0.1):\n",
    "    super().__init__()\n",
    "    self.encoder = Encoder(hyperparams, dropout_rate=dropout_rate)\n",
    "\n",
    "    self.decoder = Decoder(hyperparams, dropout_rate=dropout_rate)\n",
    "\n",
    "    self.final_layer = tf.keras.layers.Dense(hyperparams.d_model) #-------------- to modify\n",
    "\n",
    "  def call(self, inputs):\n",
    "    # To use a Keras model with `.fit` you must pass all your inputs in the\n",
    "    # first argument.\n",
    "    # context = inputs\n",
    "    # x = inputs\n",
    "\n",
    "    # print('transformer, inputs', len(inputs), inputs[0].shape, inputs[1].shape, tf.rank(inputs[0]), tf.rank(inputs[1]))\n",
    "    # print('transformer, inputs', len(inputs), tf.shape(inputs[0]), tf.shape(inputs[1]), tf.rank(inputs[0]), tf.rank(inputs[1]))\n",
    "    x = self.encoder(inputs)  # (batch_size, context_len, d_model)\n",
    "    # print('transformer, encoder out', x.shape)\n",
    "    # print('transformer, decoder input', inputs[0].shape, inputs[1].shape, inputs[2].shape)\n",
    "    x = self.decoder(inputs, x)  # (batch_size, target_len, d_model)\n",
    "    # print('transformer, decoder out', x.shape)\n",
    "\n",
    "    # Final linear layer output.\n",
    "    logits = self.final_layer(x)  # (batch_size, target_len=1, target_vocab_size)\n",
    "    logits = tf.squeeze(logits, axis=-2)\n",
    "    # print('transformer, logits', logits.shape)\n",
    "\n",
    "    try:\n",
    "      # Drop the keras mask, so it doesn't scale the losses/metrics.\n",
    "      # b/250038731\n",
    "      del logits._keras_mask\n",
    "    except AttributeError:\n",
    "      pass\n",
    "\n",
    "    # Return the final output and the attention weights.\n",
    "    return logits\n",
    "  \n",
    "  def train_step(self, data):\n",
    "      # Unpack the data. Its structure depends on your model and\n",
    "      # on what you pass to `fit()`.\n",
    "      x, y = data\n",
    "\n",
    "      # print('train_step', x[0].shape, x[1].shape)\n",
    "\n",
    "      with tf.GradientTape() as tape:\n",
    "          y_pred = self(x, training=True)  # Forward pass\n",
    "          # Compute the loss value\n",
    "          # (the loss function is configured in `compile()`)\n",
    "          loss = self.compute_loss(y=y, y_pred=y_pred)\n",
    "\n",
    "      # Compute gradients\n",
    "      trainable_vars = self.trainable_variables\n",
    "      gradients = tape.gradient(loss, trainable_vars)\n",
    "      # Update weights\n",
    "      self.optimizer.apply_gradients(zip(gradients, trainable_vars))\n",
    "      # Update metrics (includes the metric that tracks the loss)\n",
    "      for metric in self.metrics:\n",
    "          if metric.name == \"loss\":\n",
    "              metric.update_state(loss)\n",
    "          else:\n",
    "              metric.update_state(y, y_pred)\n",
    "      # Return a dict mapping metric names to current value\n",
    "      return {m.name: m.result() for m in self.metrics}"
   ]
  },
  {
   "cell_type": "code",
   "execution_count": 52,
   "metadata": {},
   "outputs": [
    {
     "name": "stdout",
     "output_type": "stream",
     "text": [
      "Model: \"transformer\"\n",
      "_________________________________________________________________\n",
      " Layer (type)                Output Shape              Param #   \n",
      "=================================================================\n",
      " encoder_1 (Encoder)         multiple                  6719434   \n",
      "                                                                 \n",
      " decoder_1 (Decoder)         multiple                  12288962  \n",
      "                                                                 \n",
      " dense_62 (Dense)            multiple                  23256     \n",
      "                                                                 \n",
      "=================================================================\n",
      "Total params: 19,031,652\n",
      "Trainable params: 19,031,652\n",
      "Non-trainable params: 0\n",
      "_________________________________________________________________\n"
     ]
    }
   ],
   "source": [
    "sample_transformer = Transformer(hyperparams)\n",
    "for z in train_batches:\n",
    "    (baseId, sequence, base_bb, mask), (base_label, seq_len_org) = z\n",
    "    x = (sequence, base_bb, mask)\n",
    "    break\n",
    "x = (sequence, base_bb, mask)\n",
    "y = sample_transformer(x)\n",
    "\n",
    "sample_transformer.summary()\n",
    "del sample_transformer"
   ]
  },
  {
   "cell_type": "code",
   "execution_count": 53,
   "metadata": {},
   "outputs": [],
   "source": [
    "class Adaptor(tf.keras.layers.Layer):\n",
    "  def __init__(self, d_model, dff, dropout_rate=0.1):\n",
    "    super().__init__()\n",
    "    self.seq = tf.keras.Sequential([\n",
    "      tf.keras.layers.Dense(dff, activation='relu'),    # across -1 axis\n",
    "      tf.keras.layers.Dense(d_model),    # across -1 axis\n",
    "      tf.keras.layers.Dropout(dropout_rate)    # mask-agnostic\n",
    "    ])\n",
    "    self.layer_norm = tf.keras.layers.LayerNormalization()\n",
    "\n",
    "  def call(self, x):\n",
    "    x = self.seq(x)\n",
    "    x = self.layer_norm(x)  # Do we need this?\n",
    "    return x"
   ]
  },
  {
   "cell_type": "code",
   "execution_count": 54,
   "metadata": {},
   "outputs": [],
   "source": [
    "class QGroup(tf.keras.Model):\n",
    "  softmax = tf.keras.layers.Softmax(axis=-1)\n",
    "  scalar_product = tf.keras.layers.Dot(axes=(-1, -1))\n",
    "\n",
    "  def __init__(self, bookie, nQueries, dropout_rate=0.1):\n",
    "    super().__init__()\n",
    "    self.bookie = bookie\n",
    "    self.nQueries = nQueries\n",
    "    self.bookieBase = Adaptor(self.nQueries, self.nQueries * 4)\n",
    "    self.oh_1 = Adaptor(self.nQueries, self.nQueries * 4)\n",
    "\n",
    "    return\n",
    "    \n",
    "  def call(self, input):\n",
    "    # inputs.shape: (batch, d_model)\n",
    "    base = self.bookieBase(input)        # (batch, nQueries)\n",
    "    stake_p = QGroup.softmax(base)            # (batch, nQueries)\n",
    "    oh_1_p = self.oh_1(base)                  # (batch, nQueries)\n",
    "    # profit_p = QGroup.scalar_product([oh_1_p, stake_p])   # (batch, 1)\n",
    "    profit_p = tf.math.multiply(oh_1_p, stake_p)   # (batch, nQueries)\n",
    "\n",
    "    return (profit_p, stake_p)  # (batch, nQueries), (batch, nQueries) \n",
    "  \n",
    "  #----- ToDo: replace self.scalar_product layer with a tf scalar product function, for speed.\n",
    "  def h_true(ftGoals):  # Defines this QGroup. This is for 1X2 QGroup. Derived classes re-define this funciton.\n",
    "    # ftGoals:  (batch, 2)\n",
    "    ftGoals = tf.cast(ftGoals, dtype=tf.int32)  # (batch, 2)\n",
    "    h = (tf.math.greater(ftGoals[..., 0], ftGoals[..., 1]), tf.math.equal(ftGoals[..., 0], ftGoals[..., 1]), tf.math.less(ftGoals[..., 0], ftGoals[..., 1]))\n",
    "    h = tf.cast(tf.transpose(h), dtype=tf.float32)  # (batch, nQueries)\n",
    "    return h\n",
    "  \n",
    "  def stake_true(ftGoals):\n",
    "    return QGroup.h_true(ftGoals)   # (batch, nQueries)\n",
    "  \n",
    "  def profit_true(ftGoals, odds):\n",
    "    stake_t = QGroup.stake_true(ftGoals)  # (batch, nQueries)\n",
    "    oh_1_true = tf.math.multiply(odds, QGroup.h_true(ftGoals)) - 1.0  # (batch, nQueries)\n",
    "    profit_t = QGroup.scalar_product([oh_1_true, stake_t])  # (batch, nQueries)\n",
    "    return profit_t\n",
    "\n",
    "  def loss(profit_p, stake_p, ftGoals, odds, rambda):\n",
    "    # profit_p: (batch, nQueries)\n",
    "    # stake_p:  (batch, nQueries)\n",
    "    # ftGoals:  (batch, 2)\n",
    "    # odds:     (batch, nQueries)\n",
    "    # rambda:   ()\n",
    "    stake_t = QGroup.stake_true(ftGoals)  # (batch, nQueries)\n",
    "    oh_1_t = tf.math.multiply(odds, QGroup.h_true(ftGoals)) - 1.0   # (batch, nQueries)\n",
    "\n",
    "    if MAE_NOT_MCE_P_LOSS:\n",
    "      profit_t = QGroup.scalar_product([oh_1_t, stake_t])   # (batch, 1)\n",
    "      profit_p_errpr = tf.reduce_mean(tf.abs(profit_t - profit_p), axis=None)\n",
    "    else:\n",
    "      profit_t = tf.math.multiply(oh_1_t, stake_t)   # (batch, nQueries)   \n",
    "      profit_mce = tf.nn.softmax_cross_entropy_with_logits(labels=profit_t, logits=profit_p)\n",
    "      profit_p_errpr = tf.reduce_mean(profit_mce) # mean rather than sum, like profit_eval\n",
    "\n",
    "    profit_eval = tf.reduce_mean(QGroup.scalar_product([oh_1_t, stake_p]), axis=None)  # ()\n",
    "    loss = (1.0-rambda) * profit_p_errpr - profit_eval * rambda # ()\n",
    "    return loss # ()\n",
    "\n",
    "  def profit_true_sum(ftGoals, odds):\n",
    "    stake_t = QGroup.stake_true(ftGoals)\n",
    "    oh_1_true = tf.math.multiply(odds, QGroup.h_true(ftGoals)) - 1.0\n",
    "    profit_t = tf.reduce_sum(QGroup.scalar_product([oh_1_true, stake_t]), axis=None)\n",
    "    return profit_t\n",
    "\n",
    "  def profit_true_sum(self, ftGoals, odds):\n",
    "    stake_t = self.stake_true(ftGoals)\n",
    "    oh_1_true = tf.math.multiply(odds, self.h_true(ftGoals)) - 1.0\n",
    "    profit_t = tf.reduce_sum(self.scalar_product([oh_1_true, stake_t]), axis=None)\n",
    "    return profit_t\n",
    "\n",
    "  def profit_eval_sum(ftGoals, odds, stake_p):\n",
    "    oh_1_t = tf.math.multiply(odds, QGroup.h_true(ftGoals)) - 1.0\n",
    "    profit_e_sum = tf.reduce_sum(QGroup.scalar_product([oh_1_t, stake_p]), axis=None)\n",
    "    return profit_e_sum\n",
    "\n",
    "  def profit_eval(ftGoals, odds, stake_p):\n",
    "    oh_1_t = tf.math.multiply(odds, QGroup.h_true(ftGoals)) - 1.0\n",
    "    profit_e = QGroup.scalar_product([oh_1_t, stake_p])\n",
    "    return profit_e"
   ]
  },
  {
   "cell_type": "code",
   "execution_count": 55,
   "metadata": {},
   "outputs": [],
   "source": [
    "class QGroup1X2(QGroup):\n",
    "  def __init__(self, bookie, dropout_rate=0.1):\n",
    "    super().__init__(bookie=bookie, nQueries=3, dropout_rate=dropout_rate)\n",
    "    self.qGroupName = '1X2'\n",
    "\n",
    "  def h_true(ftGoals):  # Defines this QGroup. This is for 1X2 QGroup.\n",
    "    # ftGoals:  (batch, 2)\n",
    "    ftGoals = tf.cast(ftGoals, dtype=tf.int32)  # (batch, 2)\n",
    "    h = (tf.math.greater(ftGoals[..., 0], ftGoals[..., 1]), tf.math.equal(ftGoals[..., 0], ftGoals[..., 1]), tf.math.less(ftGoals[..., 0], ftGoals[..., 1]))\n",
    "    h = tf.cast(tf.transpose(h), dtype=tf.float32)  # (batch, nQueries)\n",
    "    return h"
   ]
  },
  {
   "cell_type": "code",
   "execution_count": 56,
   "metadata": {},
   "outputs": [],
   "source": [
    "OXT = QGroup1X2('B365')\n",
    "input = tf.Variable([[1,2,3], [4,5,6]], dtype=tf.float32)\n",
    "OXT.call(input)\n",
    "del OXT"
   ]
  },
  {
   "cell_type": "code",
   "execution_count": 57,
   "metadata": {},
   "outputs": [
    {
     "data": {
      "text/plain": [
       "<tf.Tensor: shape=(2, 3), dtype=float32, numpy=\n",
       "array([[0., 0., 1.],\n",
       "       [0., 1., 0.]], dtype=float32)>"
      ]
     },
     "execution_count": 57,
     "metadata": {},
     "output_type": "execute_result"
    }
   ],
   "source": [
    "ftGoals = tf.Variable([[2,3], [0,0]])\n",
    "QGroup.h_true(ftGoals)\n",
    "# manual:: [[0 0 1], [0 1 0]]"
   ]
  },
  {
   "cell_type": "code",
   "execution_count": 58,
   "metadata": {},
   "outputs": [
    {
     "data": {
      "text/plain": [
       "<tf.Tensor: shape=(2, 3), dtype=float32, numpy=\n",
       "array([[0., 0., 1.],\n",
       "       [0., 1., 0.]], dtype=float32)>"
      ]
     },
     "execution_count": 58,
     "metadata": {},
     "output_type": "execute_result"
    }
   ],
   "source": [
    "ftGoals = tf.Variable([[2,3], [0,0]])\n",
    "QGroup.stake_true(ftGoals)\n",
    "# manual: [[0 0 1], [0 1 0]]"
   ]
  },
  {
   "cell_type": "code",
   "execution_count": 59,
   "metadata": {},
   "outputs": [
    {
     "data": {
      "text/plain": [
       "<tf.Tensor: shape=(), dtype=float32, numpy=-0.50000006>"
      ]
     },
     "execution_count": 59,
     "metadata": {},
     "output_type": "execute_result"
    }
   ],
   "source": [
    "profit_p = tf.Variable([2], dtype=tf.float32)\n",
    "stake_p = tf.Variable([[0.5, 0.2, 0.3]], dtype=tf.float32)\n",
    "ftGoals = tf.Variable([[2, 3]])      \n",
    "odds = tf.Variable([[3, 4, 5]], dtype=tf.float32)\n",
    "rambda = tf.Variable(1, dtype=tf.float32)\n",
    "QGroup.loss(profit_p, stake_p, ftGoals, odds, rambda)\n",
    "# manual: 1.5 if not using MCE"
   ]
  },
  {
   "cell_type": "code",
   "execution_count": 60,
   "metadata": {},
   "outputs": [
    {
     "data": {
      "text/plain": [
       "<tf.Tensor: shape=(), dtype=float32, numpy=-2.9802322e-08>"
      ]
     },
     "execution_count": 60,
     "metadata": {},
     "output_type": "execute_result"
    }
   ],
   "source": [
    "profit_p = tf.Variable([[2, 3, 1], [1, 2, 3]], dtype=tf.float32)\n",
    "stake_p = tf.Variable([[0.5, 0.2, 0.3], [0.1, 0.2, 0.7]], dtype=tf.float32)\n",
    "ftGoals = tf.Variable([[2, 3], [3, 2]])\n",
    "odds = tf.Variable([[3, 4, 5], [5, 4, 3]], dtype=tf.float32)\n",
    "rambda = tf.Variable(1, dtype=tf.float32)\n",
    "QGroup.loss(profit_p, stake_p, ftGoals, odds, rambda)\n",
    "# manual: 1.5 if not using MCE"
   ]
  },
  {
   "cell_type": "code",
   "execution_count": 61,
   "metadata": {},
   "outputs": [
    {
     "data": {
      "text/plain": [
       "<tf.Tensor: shape=(), dtype=float32, numpy=-0.49999994>"
      ]
     },
     "execution_count": 61,
     "metadata": {},
     "output_type": "execute_result"
    }
   ],
   "source": [
    "ftGoals = tf.Variable([[2,3], [3,3]])\n",
    "odds = tf.Variable([[1,2,3], [3,4,5]], dtype=tf.float32)\n",
    "stake_p = tf.Variable([[0.7, 0.2, 0.1], [0.5, 0.3, 0.2]])\n",
    "QGroup.profit_eval_sum(ftGoals, odds, stake_p)\n",
    "# manual: 0.5 if not using MCE"
   ]
  },
  {
   "cell_type": "code",
   "execution_count": 62,
   "metadata": {},
   "outputs": [],
   "source": [
    "class BettingEPL(tf.keras.Model):\n",
    "  def __init__(self, hyperparams, loss_rambda=1.0, dropout_rate=0.1):\n",
    "    super().__init__()\n",
    "    self.transformer = Transformer(hyperparams, dropout_rate=dropout_rate)\n",
    "    self.bookies = ['B365', 'Betfair', 'Interwetten', 'William']\n",
    "    self.qGroups = [QGroup1X2(bookie) for bookie in self.bookies]\n",
    "    self.rambda = loss_rambda     #----------------------- Sensitive rambda!!!, Automate optimizing it.\n",
    "\n",
    "  def call(self, input):\n",
    "    x = self.transformer(input)\n",
    "    outputs = [qGroup(x) for qGroup in self.qGroups]\n",
    "    return outputs  # [ ( shape: (batch, 1), shape: (batch, nQueries) ) for _ in self.qGroups ]\n",
    "  \n",
    "  def loss(self, y, outputs):   \n",
    "    # y: (batch, len(Team_cols)+len(Odds_cols)) \n",
    "    # outputs: # [ ( shape: (batch, 1), shape: (batch, nQueries) ) for _ in self.qGroups ]\n",
    "    ftGoals, odds = tf.split(y, [2, -1], axis=-1) # (batch, 2), (batch, sum[qGropu.nQueries for qGroup in self.qGroups])\n",
    "    odds_by_qGroup = tf.split(odds, [qQroup.nQueries for qQroup in self.qGroups], axis=-1)  # [ shape: (batch, qGroup.nQueries) for qGroup in self.qGroups ]\n",
    "    losses = [QGroup.loss(profit_p, stake_p, ftGoals, odds, self.rambda) for (odds, (profit_p, stake_p)) in zip(odds_by_qGroup, outputs)]\n",
    "    loss_value = tf.add_n(losses)\n",
    "    return loss_value\n",
    "  \n",
    "  def back_test(self, y, outputs):\n",
    "    # y: (batch, len(Team_cols)+len(Odds_cols)) \n",
    "    # outputs: # [ ( shape: (batch, nQueries), shape: (batch, nQueries) ) for _ in self.qGroups ]\n",
    "    ftGoals, odds = tf.split(y, [2, -1], axis=-1)\n",
    "    odds_by_qGroup = tf.split(odds, [qQroup.nQueries for qQroup in self.qGroups], axis=-1)\n",
    "    profit_eval = [QGroup.profit_eval(ftGoals, odds, stake_p) for (odds, (_, stake_p)) in zip(odds_by_qGroup, outputs)]\n",
    "    profit_eval = tf.concat(profit_eval, axis=-1) # (batch, nQGroups)\n",
    "    profits_p = [tf.math.reduce_sum(profit_p, axis=-1, keepdims=True) for (profit_p, _) in outputs]   # [ shape: (batch, 1) for _ self.qGroups ]\n",
    "    profits_p = tf.concat(profits_p, axis=-1) # (batch, len(self.qGroups))\n",
    "    bestQuery = tf.cast(tf.argmax(profits_p, axis=-1), dtype=tf.int32)   # (batch,)\n",
    "    range = tf.range(bestQuery.shape[0], dtype=tf.int32) # (batch,)\n",
    "    best_idx = tf.stack([range, bestQuery], axis=1) # (batch, 2)\n",
    "    best_profits_eval = tf.gather_nd(profit_eval, best_idx)  # (batch, )\n",
    "    profit_eval_mean = tf.math.reduce_mean(best_profits_eval)\n",
    "    return profit_eval_mean"
   ]
  },
  {
   "cell_type": "code",
   "execution_count": 63,
   "metadata": {},
   "outputs": [
    {
     "name": "stdout",
     "output_type": "stream",
     "text": [
      "(16, 400, 35)\n",
      "4\n",
      "2\n",
      "(16, 3) (16, 3)\n",
      "tf.Tensor(\n",
      "[[-0.2811082   0.07932057 -0.36312824]\n",
      " [ 0.          0.          0.        ]\n",
      " [-0.81626076  0.04919887  0.19316925]\n",
      " [-0.48271137  0.08537764 -0.17357942]\n",
      " [ 1.0324205  -0.14314261 -0.04161741]\n",
      " [-1.0802687   0.04583404  0.10795354]\n",
      " [-0.82661486  0.04881026  0.19292484]\n",
      " [-0.08587915  0.5456662   0.14318241]\n",
      " [-1.0595251   0.04786868  0.11942956]\n",
      " [-0.48293558 -0.01707478  0.08150417]\n",
      " [-0.9944344   0.04576918  0.15269092]\n",
      " [-0.81672114  0.04918823  0.19316275]\n",
      " [-1.0509906   0.04786089  0.1230275 ]\n",
      " [-0.52935195  0.06286527  0.10964037]\n",
      " [-0.96603346  0.04503292  0.16686553]\n",
      " [-0.89420927  0.04598838  0.18869975]], shape=(16, 3), dtype=float32) tf.Tensor(\n",
      "[[0.52063644 0.05669541 0.42266816]\n",
      " [0.7943432  0.07754932 0.12810752]\n",
      " [0.5840246  0.05726545 0.35870996]\n",
      " [0.69670844 0.06063055 0.242661  ]\n",
      " [0.74312973 0.19236319 0.06450711]\n",
      " [0.78307635 0.0725432  0.14438048]\n",
      " [0.59085417 0.05738598 0.35175985]\n",
      " [0.06167806 0.7080001  0.23032175]\n",
      " [0.757618   0.06655283 0.17582911]\n",
      " [0.8057553  0.09074895 0.10349573]\n",
      " [0.7071448  0.0612775  0.2315777 ]\n",
      " [0.5843271  0.05727931 0.35839352]\n",
      " [0.7506114  0.06544077 0.18394785]\n",
      " [0.40422827 0.05683514 0.53893656]\n",
      " [0.6863461  0.06009037 0.25356352]\n",
      " [0.63587606 0.0582636  0.30586034]], shape=(16, 3), dtype=float32)\n",
      "Model: \"betting_epl\"\n",
      "_________________________________________________________________\n",
      " Layer (type)                Output Shape              Param #   \n",
      "=================================================================\n",
      " transformer_1 (Transformer)  multiple                 19031652  \n",
      "                                                                 \n",
      " q_group1x2_1 (QGroup1X2)    multiple                  1974      \n",
      "                                                                 \n",
      " q_group1x2_2 (QGroup1X2)    multiple                  1974      \n",
      "                                                                 \n",
      " q_group1x2_3 (QGroup1X2)    multiple                  1974      \n",
      "                                                                 \n",
      " q_group1x2_4 (QGroup1X2)    multiple                  1974      \n",
      "                                                                 \n",
      "=================================================================\n",
      "Total params: 19,039,549\n",
      "Trainable params: 19,039,549\n",
      "Non-trainable params: 0\n",
      "_________________________________________________________________\n"
     ]
    }
   ],
   "source": [
    "EPL = BettingEPL(hyperparams, loss_rambda = LOSS_RAMBDA, dropout_rate=TRANSFORMER_DROP)\n",
    "for z in train_batches:\n",
    "    (baseId, sequence, base_bb, mask), (base_label, seq_len_org) = z\n",
    "    x = (sequence, base_bb, mask)\n",
    "    print(sequence.shape)\n",
    "    break\n",
    "x = (sequence, base_bb, mask)\n",
    "y = EPL(x, training=True)\n",
    "print(len(y))\n",
    "print(len(y[0]))\n",
    "(profit_p, stake_p) = y[0]\n",
    "print(profit_p.shape, stake_p.shape)\n",
    "print(profit_p, stake_p)   # profit_p tend to have the same sign in the same batch.\n",
    "\n",
    "EPL.summary()"
   ]
  },
  {
   "cell_type": "code",
   "execution_count": 64,
   "metadata": {},
   "outputs": [],
   "source": [
    "class CustomSchedule(tf.keras.optimizers.schedules.LearningRateSchedule):\n",
    "  def __init__(self, d_model, warmup_steps=4000):\n",
    "    super().__init__()\n",
    "\n",
    "    self.d_model = d_model\n",
    "    self.d_model = tf.cast(self.d_model, tf.float32)\n",
    "\n",
    "    self.warmup_steps = warmup_steps\n",
    "\n",
    "  def __call__(self, step):\n",
    "    step = tf.cast(step, dtype=tf.float32)\n",
    "    arg1 = tf.math.rsqrt(step)\n",
    "    arg2 = step * (self.warmup_steps ** -1.5)\n",
    "\n",
    "    return tf.math.rsqrt(self.d_model) * tf.math.minimum(arg1, arg2)"
   ]
  },
  {
   "cell_type": "code",
   "execution_count": 65,
   "metadata": {},
   "outputs": [],
   "source": [
    "# learning_rate = CustomSchedule(hyperparams.d_model)\n",
    "\n",
    "learning_rate = LEARNING_RATE\n",
    "optimizer = tf.keras.optimizers.Adam(learning_rate, beta_1=0.95, beta_2=0.95, epsilon=1e-9)\n",
    "# optimizer = tf.keras.optimizers.Adadelta()"
   ]
  },
  {
   "cell_type": "code",
   "execution_count": 66,
   "metadata": {},
   "outputs": [],
   "source": [
    "loss_object = tf.keras.losses.CategoricalCrossentropy(from_logits=True, reduction='none')\n",
    "\n",
    "def masked_loss_uk(label, y_pred):\n",
    "  # lable = (target(batch, 3), base_bb(batch, 1, 9), seq_len(batch, 1)), y_pred: (batch, 3)\n",
    "  y_true = label[0]   # one_hot: (batch, 3)\n",
    "  seq_len = label[2]  # (batch, 1)\n",
    "\n",
    "  mask = y_true != 0 \n",
    "  loss = loss_object(y_true, y_pred)\n",
    "  mask = tf.cast(mask, dtype=loss.dtype)\n",
    "  loss = tf.reduce_sum(loss)/tf.reduce_sum(mask) # eq. sum_loss / batch\n",
    "  return loss\n",
    "\n",
    "\n",
    "class recall():\n",
    "  def __init__(self, name='recall', min_seq_len=5, **kwargs):\n",
    "    self.min_seq_len = min_seq_len\n",
    "    self.n = None\n",
    "    self.recall = None\n",
    "    self.reset()\n",
    "\n",
    "  def update_state(self, label, y_pred):\n",
    "    # lable = (target(batch, 3), base_bb(batch, 1, 9), seq_len(batch,)), y_pred: (batch, 3)\n",
    "    y_true = label[0]   # one_hot: (batch, 3)\n",
    "    seq_len = label[2]  # (batch)\n",
    "\n",
    "    seq_len_mask = tf.cast(seq_len >= self.min_seq_len, dtype=tf.float32)[:, tf.newaxis, tf.newaxis]\n",
    "    y_true = y_true * seq_len_mask\n",
    "    y_pred = y_pred * seq_len_mask \n",
    "\n",
    "    # print('recall', y_true.shape, y_pred.shape, seq_len_mask.shape)\n",
    "\n",
    "    true_positives = tf.math.reduce_sum(y_true * y_pred)\n",
    "    # print('recall', true_positives.numpy())\n",
    "    possible_positives = tf.math.reduce_sum(y_true)\n",
    "    recall_keras = true_positives / (possible_positives + 1e-9) #tf.keras.backend.epsilon())\n",
    "    self.n += 1\n",
    "    self.recall = self.recall * (self.n-1)/self.n + recall_keras.numpy() / self.n\n",
    "\n",
    "\n",
    "  def result(self):\n",
    "    return self.recall\n",
    "  \n",
    "  def reset(self):\n",
    "    self.n = 0\n",
    "    self.recall = 0.0\n",
    "  \n",
    "recall_object = recall(min_seq_len=5)\n",
    "\n",
    "class precision():\n",
    "  def __init__(self, name='precision', min_seq_len=5, **kwargs):\n",
    "    self.min_seq_len = min_seq_len\n",
    "    self.n = None\n",
    "    self.precision = None\n",
    "    self.reset()\n",
    "\n",
    "  def update_state(self, label, y_pred):\n",
    "    # lable = (target(batch, 3), base_bb(batch, 1, 9), seq_len(batch,)), y_pred: (batch, 3)\n",
    "    y_true = label[0]   # one_hot: (batch, 3)\n",
    "    seq_len = label[2]  # (batch, 1)\n",
    "\n",
    "    seq_len_mask = tf.cast(seq_len >= self.min_seq_len, dtype=tf.float32)[:, tf.newaxis, tf.newaxis]\n",
    "    y_true = y_true * seq_len_mask\n",
    "    y_pred = y_pred * seq_len_mask \n",
    "\n",
    "    true_positives = tf.math.reduce_sum(y_true * y_pred)\n",
    "    predicted_positives = tf.math.reduce_sum(y_pred)\n",
    "    precision_keras = true_positives / (predicted_positives + 1e-9) #tf.keras.backend.epsilon())\n",
    "    self.n += 1\n",
    "    self.precision = self.precision * (self.n-1)/self.n + precision_keras.numpy() / self.n\n",
    "\n",
    "  def result(self):\n",
    "    return self.precision\n",
    "  \n",
    "  def reset(self):\n",
    "    self.n = 0\n",
    "    self.precision = 0.0\n",
    "\n",
    "precision_object = precision(min_seq_len=5)"
   ]
  },
  {
   "cell_type": "code",
   "execution_count": 67,
   "metadata": {},
   "outputs": [],
   "source": [
    "@tf.function\n",
    "def train_step(x, y, rambda):\n",
    "    \n",
    "    with tf.GradientTape() as tape:\n",
    "        outputs = EPL(x, training=True)  # [ (batch, 1), (batch, nQueries) for _ in bookies]\n",
    "        loss_value = EPL.loss(y, outputs)\n",
    "    \n",
    "    grads = tape.gradient(loss_value, EPL.trainable_weights)\n",
    "    optimizer.apply_gradients(zip(grads, EPL.trainable_weights))\n",
    "    # recall_object.update_state(y, logits)\n",
    "    # precision_object.update_state(y, logits)\n",
    "    return loss_value"
   ]
  },
  {
   "cell_type": "code",
   "execution_count": 68,
   "metadata": {},
   "outputs": [],
   "source": [
    "@tf.function\n",
    "def test_step(x, y):\n",
    "    outputs = EPL(x, training=False)  # [ (batch, 1), (batch, nQueries) for _ in bookies]\n",
    "    loss_value = EPL.loss(y, outputs)\n",
    "    # recall_object.update_state(y, val_logits)\n",
    "    # precision_object.update_state(y, val_logits)\n",
    "    return loss_value"
   ]
  },
  {
   "cell_type": "code",
   "execution_count": 69,
   "metadata": {},
   "outputs": [],
   "source": [
    "@tf.function\n",
    "def back_test_step(x, y):\n",
    "    outputs = EPL(x, training=False)  # [ (batch, 1), (batch, nQueries) for _ in bookies]\n",
    "    profit_eval = EPL.back_test(y, outputs)\n",
    "    return profit_eval"
   ]
  },
  {
   "cell_type": "code",
   "execution_count": 70,
   "metadata": {},
   "outputs": [],
   "source": [
    "# @tf.function  #-------------------- Wierd: no work.\n",
    "def back_test_with_dataset(datsset):\n",
    "    n = 0\n",
    "    profit_eval_total = tf.Variable(0.0, dtype=tf.float32)\n",
    "    for step, ((baseId, sequence, base_bb, mask), (base_label, seq_len_org)) in enumerate(datsset):\n",
    "        x = (sequence, base_bb, mask); y = base_label\n",
    "        profit_eval = back_test_step(x, y)\n",
    "        n += 1\n",
    "        profit_eval_total = profit_eval_total * (n-1) / n + profit_eval / n\n",
    "    return profit_eval_total"
   ]
  },
  {
   "cell_type": "code",
   "execution_count": 71,
   "metadata": {},
   "outputs": [],
   "source": [
    "# @tf.function  #-------------------- Wierd: no work.\n",
    "def test_with_dataset(datsset):\n",
    "    n = 0\n",
    "    val_loss = tf.Variable(0.0, dtype=tf.float32)\n",
    "    for step, ((baseId, sequence, base_bb, mask), (base_label, seq_len_org)) in enumerate(datsset):\n",
    "        x = (sequence, base_bb, mask); y = base_label\n",
    "        n += 1\n",
    "        val_loss = val_loss * (n-1) / n + test_step(x, y) / n\n",
    "    return val_loss"
   ]
  },
  {
   "cell_type": "code",
   "execution_count": 72,
   "metadata": {},
   "outputs": [],
   "source": [
    "class history_class():\n",
    "    def round_sig(self, x, sig=2):\n",
    "            return round(x, sig-int(math.floor(math.log10(abs(x))))-1)\n",
    "    def __init__(self):\n",
    "        self.history = {'loss': [], 'val_loss': [], 'back100': []}\n",
    "    def save(self, path):\n",
    "        data_helpers.SaveJsonData(self.history, path)\n",
    "    def load(self, path):\n",
    "        self.history = data_helpers.LoadJsonData(path)\n",
    "        if self.history is None:\n",
    "            self.history = {'loss': [], 'val_loss': [], 'back100': []}\n",
    "    def to_back100(self, back):\n",
    "        return float(back * 100 if back >= 0 else back)\n",
    "    def append(self, loss, val_loss, back):\n",
    "        self.history['loss'].append(self.round_sig(float(loss), 4))\n",
    "        self.history['val_loss'].append(self.round_sig(float(val_loss), 4))\n",
    "        self.history['back100'].append(self.round_sig(self.to_back100(back), 4))\n",
    "    def len(self):\n",
    "        assert len(self.history['loss']) == len(self.history['val_loss'])\n",
    "        assert len(self.history['loss']) == len(self.history['back100'])\n",
    "        return len(self.history['loss'])\n",
    "    def get_latest_item(self):\n",
    "        return (self.history['loss'][-1], self.history['val_loss'][-1], self.history['back100'][-1])"
   ]
  },
  {
   "cell_type": "code",
   "execution_count": 73,
   "metadata": {},
   "outputs": [],
   "source": [
    "def show_steps(epoch, step, loss, samples_seen):\n",
    "    # recall = recall_object.result()\n",
    "    # precision = precision_object.result()\n",
    "    # print(\"epoch: {}, step: {}, loss: {}, recall: {}, precision: {}, samples_seen: {}\".\n",
    "    #       format(epoch, step, float(loss_value), recall, precision, (step + 1) * hyperparams.batch_size))\n",
    "    print(\"epoch: {}, step: {}, loss: {}, samples_seen: {}          \".\n",
    "            format(epoch, step, float(loss), samples_seen), end='\\r')\n",
    "    # recall_object.reset()\n",
    "    # precision_object.reset()\n",
    "\n",
    "def show_history(history, baseline=0):\n",
    "    plt.plot(history.history['loss'][baseline:])\n",
    "    plt.plot(history.history['val_loss'][baseline:])\n",
    "    base1 = min(history.history['loss'])\n",
    "    base2 = min(history.history['val_loss'])\n",
    "    base = min(base1, base2)\n",
    "    plt.plot([base + b100 for b100 in history.history['back100']][baseline:])\n",
    "    plt.axhline(y=base, color='b', linestyle='-', linewidth=0.5)\n",
    "    plt.grid(True)\n",
    "    plt.title(TEST_ID + \": max back100: {}, history len: {}\".format(max(history.history['back100'][baseline:]), history.len()))\n",
    "    plt.ylabel('loss')\n",
    "    plt.xlabel('epoch')\n",
    "    plt.legend(['train_loss', 'val_loss', 'val_profit'], loc='upper right')\n",
    "    plt.show()"
   ]
  },
  {
   "cell_type": "code",
   "execution_count": 74,
   "metadata": {},
   "outputs": [],
   "source": [
    "checkpointPath = os.path.join('./data', 'checkpoints', 'model_weights_' + TEST_ID)\n",
    "historyPath = os.path.join('./data', 'checkpoints', \"history_\" + TEST_ID)\n",
    "\n",
    "history = history_class()\n",
    "\n",
    "if RE_START_FROM_BATCHING:\n",
    "    files = glob.glob(checkpointPath + \"*\")         # \"*.*\" doesn't work\n",
    "    result = [os.remove(file) for file in files]\n",
    "    files = glob.glob(historyPath + \"*\")            # \"*.*\" doens't work\n",
    "    result = [os.remove(file) for file in files]\n",
    "    EPL.save_weights(checkpointPath)\n",
    "    history.save(historyPath)\n",
    "\n",
    "try:\n",
    "    EPL.load_weights(checkpointPath)\n",
    "except:\n",
    "    print('Failed to load model weights.')\n",
    "\n",
    "history.load(historyPath)\n",
    "if history.len() <= 0:\n",
    "    print('Creating historic baseline...', end='')\n",
    "    loss = test_with_dataset(train_batches)\n",
    "    val_loss = test_with_dataset(test_batches)\n",
    "    back = back_test_with_dataset(test_batches)\n",
    "    history.append(loss, val_loss, back)\n",
    "    history.save(historyPath)\n",
    "    print('done')\n",
    "\n",
    "def save_checkpoint(loss, val_loss, back):\n",
    "    (pre_loss, pre_val_loss, pre_back100) = history.get_latest_item()\n",
    "    if float(history.to_back100(back)) < pre_back100:\n",
    "        EPL.save_weights(checkpointPath)\n",
    "    history.append(loss, val_loss, back)\n",
    "    history.save(historyPath)"
   ]
  },
  {
   "cell_type": "code",
   "execution_count": 75,
   "metadata": {},
   "outputs": [
    {
     "name": "stdout",
     "output_type": "stream",
     "text": [
      "[7.449, 6.372, 6.268, 6.204, 6.151, 6.103, 6.271, 6.205, 6.152, 6.103, 6.056, 6.018, 5.984, 5.953, 5.922, 5.899, 5.876, 5.863, 5.849, 5.822, 5.81, 5.794, 5.766, 5.764, 5.771, 5.736, 5.705, 5.679, 5.652, 5.623, 5.595, 5.568, 5.528, 5.49, 5.457, 5.424, 5.398, 5.369, 5.34, 5.309, 5.283, 5.252, 5.221, 5.188, 5.165, 2.042, 2.048]\n",
      "[7.428, 6.251, 6.179, 6.135, 6.098, 6.065, 6.19, 6.137, 6.102, 6.073, 6.029, 6.004, 5.974, 5.913, 5.886, 5.875, 5.85, 5.831, 5.812, 5.803, 5.764, 5.752, 5.732, 5.727, 5.7, 5.669, 5.647, 5.669, 5.602, 5.582, 5.561, 5.531, 5.484, 5.452, 5.431, 5.409, 5.391, 5.364, 5.339, 5.323, 5.3, 5.274, 5.247, 5.217, 5.218, 2.051, 2.057]\n",
      "[-0.06696, -0.1031, -0.04233, -0.04173, -0.04108, -0.04071, -0.04447, -0.04161, -0.04112, -0.03991, -0.03923, -0.039, -0.04115, -0.04262, -0.04275, -0.04785, -0.04669, -0.03375, -0.04026, -0.03547, -0.03685, -0.03752, -0.03529, -0.04069, -0.03747, -0.03851, -0.03902, -0.03988, -0.04064, -0.04165, -0.04525, -0.04783, -0.06418, -0.05211, -0.05527, -0.0593, -0.0642, -0.05646, -0.07375, -0.06881, -0.07496, -0.06633, -0.07844, -0.08159, -0.08294, -0.07913, -0.08224]\n"
     ]
    }
   ],
   "source": [
    "for key, value in history.history.items():\n",
    "    print(value)"
   ]
  },
  {
   "cell_type": "code",
   "execution_count": 76,
   "metadata": {},
   "outputs": [
    {
     "data": {
      "image/png": "[encoded data removed]",
      "text/plain": [
       "<Figure size 640x480 with 1 Axes>"
      ]
     },
     "metadata": {},
     "output_type": "display_data"
    }
   ],
   "source": [
    "show_history(history, baseline=46)"
   ]
  },
  {
   "cell_type": "code",
   "execution_count": 77,
   "metadata": {},
   "outputs": [
    {
     "name": "stdout",
     "output_type": "stream",
     "text": [
      "epoch: 47, loss: 2.0350000858306885, val_loss: 2.0478806495666504, profit_eval: -0.08258234709501266, time taken: 717.87s          \n",
      "epoch: 48, loss: 2.0247514247894287, val_loss: 2.037114381790161, profit_eval: -0.08228624612092972, time taken: 662.95s          \n",
      "epoch: 49, step: 2179, loss: 2.0444984436035156, samples_seen: 34870          \r"
     ]
    },
    {
     "ename": "ValueError",
     "evalue": "math domain error",
     "output_type": "error",
     "traceback": [
      "\u001b[1;31m---------------------------------------------------------------------------\u001b[0m",
      "\u001b[1;31mValueError\u001b[0m                                Traceback (most recent call last)",
      "\u001b[1;32m~\\AppData\\Local\\Temp\\ipykernel_11768\\1609324791.py\u001b[0m in \u001b[0;36m<module>\u001b[1;34m\u001b[0m\n\u001b[0;32m     25\u001b[0m     \u001b[0mval_loss\u001b[0m \u001b[1;33m=\u001b[0m \u001b[0mtest_with_dataset\u001b[0m\u001b[1;33m(\u001b[0m\u001b[0mtest_batches\u001b[0m\u001b[1;33m)\u001b[0m\u001b[1;33m\u001b[0m\u001b[1;33m\u001b[0m\u001b[0m\n\u001b[0;32m     26\u001b[0m     \u001b[0mback\u001b[0m \u001b[1;33m=\u001b[0m \u001b[0mback_test_with_dataset\u001b[0m\u001b[1;33m(\u001b[0m\u001b[0mtest_batches\u001b[0m\u001b[1;33m)\u001b[0m\u001b[1;33m\u001b[0m\u001b[1;33m\u001b[0m\u001b[0m\n\u001b[1;32m---> 27\u001b[1;33m     \u001b[0msave_checkpoint\u001b[0m\u001b[1;33m(\u001b[0m\u001b[0mepoch_loss\u001b[0m\u001b[1;33m,\u001b[0m \u001b[0mval_loss\u001b[0m\u001b[1;33m,\u001b[0m \u001b[0mback\u001b[0m\u001b[1;33m)\u001b[0m     \u001b[1;31m#------------------------------------------- comeback\u001b[0m\u001b[1;33m\u001b[0m\u001b[1;33m\u001b[0m\u001b[0m\n\u001b[0m\u001b[0;32m     28\u001b[0m \u001b[1;33m\u001b[0m\u001b[0m\n\u001b[0;32m     29\u001b[0m     print(\"epoch: {}, loss: {}, val_loss: {}, profit_eval: {}, time taken: {:.2f}s          \"\n",
      "\u001b[1;32m~\\AppData\\Local\\Temp\\ipykernel_11768\\3231169415.py\u001b[0m in \u001b[0;36msave_checkpoint\u001b[1;34m(loss, val_loss, back)\u001b[0m\n\u001b[0;32m     31\u001b[0m     \u001b[1;32mif\u001b[0m \u001b[0mfloat\u001b[0m\u001b[1;33m(\u001b[0m\u001b[0mhistory\u001b[0m\u001b[1;33m.\u001b[0m\u001b[0mto_back100\u001b[0m\u001b[1;33m(\u001b[0m\u001b[0mback\u001b[0m\u001b[1;33m)\u001b[0m\u001b[1;33m)\u001b[0m \u001b[1;33m<\u001b[0m \u001b[0mpre_back100\u001b[0m\u001b[1;33m:\u001b[0m\u001b[1;33m\u001b[0m\u001b[1;33m\u001b[0m\u001b[0m\n\u001b[0;32m     32\u001b[0m         \u001b[0mEPL\u001b[0m\u001b[1;33m.\u001b[0m\u001b[0msave_weights\u001b[0m\u001b[1;33m(\u001b[0m\u001b[0mcheckpointPath\u001b[0m\u001b[1;33m)\u001b[0m\u001b[1;33m\u001b[0m\u001b[1;33m\u001b[0m\u001b[0m\n\u001b[1;32m---> 33\u001b[1;33m     \u001b[0mhistory\u001b[0m\u001b[1;33m.\u001b[0m\u001b[0mappend\u001b[0m\u001b[1;33m(\u001b[0m\u001b[0mloss\u001b[0m\u001b[1;33m,\u001b[0m \u001b[0mval_loss\u001b[0m\u001b[1;33m,\u001b[0m \u001b[0mback\u001b[0m\u001b[1;33m)\u001b[0m\u001b[1;33m\u001b[0m\u001b[1;33m\u001b[0m\u001b[0m\n\u001b[0m\u001b[0;32m     34\u001b[0m     \u001b[0mhistory\u001b[0m\u001b[1;33m.\u001b[0m\u001b[0msave\u001b[0m\u001b[1;33m(\u001b[0m\u001b[0mhistoryPath\u001b[0m\u001b[1;33m)\u001b[0m\u001b[1;33m\u001b[0m\u001b[1;33m\u001b[0m\u001b[0m\n",
      "\u001b[1;32m~\\AppData\\Local\\Temp\\ipykernel_11768\\341132165.py\u001b[0m in \u001b[0;36mappend\u001b[1;34m(self, loss, val_loss, back)\u001b[0m\n\u001b[0;32m     14\u001b[0m     \u001b[1;32mdef\u001b[0m \u001b[0mappend\u001b[0m\u001b[1;33m(\u001b[0m\u001b[0mself\u001b[0m\u001b[1;33m,\u001b[0m \u001b[0mloss\u001b[0m\u001b[1;33m,\u001b[0m \u001b[0mval_loss\u001b[0m\u001b[1;33m,\u001b[0m \u001b[0mback\u001b[0m\u001b[1;33m)\u001b[0m\u001b[1;33m:\u001b[0m\u001b[1;33m\u001b[0m\u001b[1;33m\u001b[0m\u001b[0m\n\u001b[0;32m     15\u001b[0m         \u001b[0mself\u001b[0m\u001b[1;33m.\u001b[0m\u001b[0mhistory\u001b[0m\u001b[1;33m[\u001b[0m\u001b[1;34m'loss'\u001b[0m\u001b[1;33m]\u001b[0m\u001b[1;33m.\u001b[0m\u001b[0mappend\u001b[0m\u001b[1;33m(\u001b[0m\u001b[0mself\u001b[0m\u001b[1;33m.\u001b[0m\u001b[0mround_sig\u001b[0m\u001b[1;33m(\u001b[0m\u001b[0mfloat\u001b[0m\u001b[1;33m(\u001b[0m\u001b[0mloss\u001b[0m\u001b[1;33m)\u001b[0m\u001b[1;33m,\u001b[0m \u001b[1;36m4\u001b[0m\u001b[1;33m)\u001b[0m\u001b[1;33m)\u001b[0m\u001b[1;33m\u001b[0m\u001b[1;33m\u001b[0m\u001b[0m\n\u001b[1;32m---> 16\u001b[1;33m         \u001b[0mself\u001b[0m\u001b[1;33m.\u001b[0m\u001b[0mhistory\u001b[0m\u001b[1;33m[\u001b[0m\u001b[1;34m'val_loss'\u001b[0m\u001b[1;33m]\u001b[0m\u001b[1;33m.\u001b[0m\u001b[0mappend\u001b[0m\u001b[1;33m(\u001b[0m\u001b[0mself\u001b[0m\u001b[1;33m.\u001b[0m\u001b[0mround_sig\u001b[0m\u001b[1;33m(\u001b[0m\u001b[0mfloat\u001b[0m\u001b[1;33m(\u001b[0m\u001b[0mval_loss\u001b[0m\u001b[1;33m)\u001b[0m\u001b[1;33m,\u001b[0m \u001b[1;36m4\u001b[0m\u001b[1;33m)\u001b[0m\u001b[1;33m)\u001b[0m\u001b[1;33m\u001b[0m\u001b[1;33m\u001b[0m\u001b[0m\n\u001b[0m\u001b[0;32m     17\u001b[0m         \u001b[0mself\u001b[0m\u001b[1;33m.\u001b[0m\u001b[0mhistory\u001b[0m\u001b[1;33m[\u001b[0m\u001b[1;34m'back100'\u001b[0m\u001b[1;33m]\u001b[0m\u001b[1;33m.\u001b[0m\u001b[0mappend\u001b[0m\u001b[1;33m(\u001b[0m\u001b[0mself\u001b[0m\u001b[1;33m.\u001b[0m\u001b[0mround_sig\u001b[0m\u001b[1;33m(\u001b[0m\u001b[0mself\u001b[0m\u001b[1;33m.\u001b[0m\u001b[0mto_back100\u001b[0m\u001b[1;33m(\u001b[0m\u001b[0mback\u001b[0m\u001b[1;33m)\u001b[0m\u001b[1;33m,\u001b[0m \u001b[1;36m4\u001b[0m\u001b[1;33m)\u001b[0m\u001b[1;33m)\u001b[0m\u001b[1;33m\u001b[0m\u001b[1;33m\u001b[0m\u001b[0m\n\u001b[0;32m     18\u001b[0m     \u001b[1;32mdef\u001b[0m \u001b[0mlen\u001b[0m\u001b[1;33m(\u001b[0m\u001b[0mself\u001b[0m\u001b[1;33m)\u001b[0m\u001b[1;33m:\u001b[0m\u001b[1;33m\u001b[0m\u001b[1;33m\u001b[0m\u001b[0m\n",
      "\u001b[1;32m~\\AppData\\Local\\Temp\\ipykernel_11768\\341132165.py\u001b[0m in \u001b[0;36mround_sig\u001b[1;34m(self, x, sig)\u001b[0m\n\u001b[0;32m      1\u001b[0m \u001b[1;32mclass\u001b[0m \u001b[0mhistory_class\u001b[0m\u001b[1;33m(\u001b[0m\u001b[1;33m)\u001b[0m\u001b[1;33m:\u001b[0m\u001b[1;33m\u001b[0m\u001b[1;33m\u001b[0m\u001b[0m\n\u001b[0;32m      2\u001b[0m     \u001b[1;32mdef\u001b[0m \u001b[0mround_sig\u001b[0m\u001b[1;33m(\u001b[0m\u001b[0mself\u001b[0m\u001b[1;33m,\u001b[0m \u001b[0mx\u001b[0m\u001b[1;33m,\u001b[0m \u001b[0msig\u001b[0m\u001b[1;33m=\u001b[0m\u001b[1;36m2\u001b[0m\u001b[1;33m)\u001b[0m\u001b[1;33m:\u001b[0m\u001b[1;33m\u001b[0m\u001b[1;33m\u001b[0m\u001b[0m\n\u001b[1;32m----> 3\u001b[1;33m             \u001b[1;32mreturn\u001b[0m \u001b[0mround\u001b[0m\u001b[1;33m(\u001b[0m\u001b[0mx\u001b[0m\u001b[1;33m,\u001b[0m \u001b[0msig\u001b[0m\u001b[1;33m-\u001b[0m\u001b[0mint\u001b[0m\u001b[1;33m(\u001b[0m\u001b[0mmath\u001b[0m\u001b[1;33m.\u001b[0m\u001b[0mfloor\u001b[0m\u001b[1;33m(\u001b[0m\u001b[0mmath\u001b[0m\u001b[1;33m.\u001b[0m\u001b[0mlog10\u001b[0m\u001b[1;33m(\u001b[0m\u001b[0mabs\u001b[0m\u001b[1;33m(\u001b[0m\u001b[0mx\u001b[0m\u001b[1;33m)\u001b[0m\u001b[1;33m)\u001b[0m\u001b[1;33m)\u001b[0m\u001b[1;33m)\u001b[0m\u001b[1;33m-\u001b[0m\u001b[1;36m1\u001b[0m\u001b[1;33m)\u001b[0m\u001b[1;33m\u001b[0m\u001b[1;33m\u001b[0m\u001b[0m\n\u001b[0m\u001b[0;32m      4\u001b[0m     \u001b[1;32mdef\u001b[0m \u001b[0m__init__\u001b[0m\u001b[1;33m(\u001b[0m\u001b[0mself\u001b[0m\u001b[1;33m)\u001b[0m\u001b[1;33m:\u001b[0m\u001b[1;33m\u001b[0m\u001b[1;33m\u001b[0m\u001b[0m\n\u001b[0;32m      5\u001b[0m         \u001b[0mself\u001b[0m\u001b[1;33m.\u001b[0m\u001b[0mhistory\u001b[0m \u001b[1;33m=\u001b[0m \u001b[1;33m{\u001b[0m\u001b[1;34m'loss'\u001b[0m\u001b[1;33m:\u001b[0m \u001b[1;33m[\u001b[0m\u001b[1;33m]\u001b[0m\u001b[1;33m,\u001b[0m \u001b[1;34m'val_loss'\u001b[0m\u001b[1;33m:\u001b[0m \u001b[1;33m[\u001b[0m\u001b[1;33m]\u001b[0m\u001b[1;33m,\u001b[0m \u001b[1;34m'back100'\u001b[0m\u001b[1;33m:\u001b[0m \u001b[1;33m[\u001b[0m\u001b[1;33m]\u001b[0m\u001b[1;33m}\u001b[0m\u001b[1;33m\u001b[0m\u001b[1;33m\u001b[0m\u001b[0m\n",
      "\u001b[1;31mValueError\u001b[0m: math domain error"
     ]
    }
   ],
   "source": [
    "epochs = 500;  prev_loss = float(\"inf\")\n",
    "for epoch in range(history.len(), epochs):\n",
    "    start_time = time.time()\n",
    "\n",
    "    m = 0; epoch_loss = 0.0\n",
    "    n = 0; loss = tf.Variable(0.0, dtype=tf.float32); samples_seen = 0\n",
    "\n",
    "    rambda = tf.Variable(1, dtype=tf.float32)\n",
    "\n",
    "    for step, ((baseId, sequence, base_bb, mask), (base_label, seq_len_org)) in enumerate(train_batches):\n",
    "        # print('train', sequence.shape)\n",
    "        x = (sequence, base_bb, mask); y = base_label\n",
    "        batch_loss = train_step(x, y, rambda)\n",
    "        n += 1; loss = loss * (n-1) / n + batch_loss / n\n",
    "        \n",
    "        m += 1; epoch_loss = epoch_loss * (m-1)/m + batch_loss / m\n",
    "\n",
    "        samples_seen += sequence.shape[0]\n",
    "\n",
    "        if step % 50 == 0:\n",
    "            show_steps(epoch, step, loss, samples_seen)\n",
    "            n = 0; loss = 0.0\n",
    "\n",
    "    show_steps(epoch, step, loss, samples_seen)\n",
    "    val_loss = test_with_dataset(test_batches)\n",
    "    back = back_test_with_dataset(test_batches)\n",
    "    save_checkpoint(epoch_loss, val_loss, back)     #------------------------------------------- comeback\n",
    "\n",
    "    print(\"epoch: {}, loss: {}, val_loss: {}, profit_eval: {}, time taken: {:.2f}s          \"\n",
    "          .format(epoch, float(epoch_loss), float(val_loss), float(back), (time.time() - start_time)))"
   ]
  }
 ],
 "metadata": {
  "kernelspec": {
   "display_name": "base",
   "language": "python",
   "name": "python3"
  },
  "language_info": {
   "codemirror_mode": {
    "name": "ipython",
    "version": 3
   },
   "file_extension": ".py",
   "mimetype": "text/x-python",
   "name": "python",
   "nbconvert_exporter": "python",
   "pygments_lexer": "ipython3",
   "version": "3.9.13"
  }
 },
 "nbformat": 4,
 "nbformat_minor": 2
}
